{
 "cells": [
  {
   "cell_type": "markdown",
   "id": "9a9fcc11-c648-432d-9cb5-2501edc14191",
   "metadata": {},
   "source": [
    "## Numpy \n",
    "\n",
    "Numpy is a funcamental library for scientfic computing in Python. It provides support for arrays and matrices, along with a collection of mathematical functions to operate on these data structures. In this lesson, we will cover the basics of NumPy. focuing on arrays and vectorized operations."
   ]
  },
  {
   "cell_type": "code",
   "execution_count": 1,
   "id": "18871491-28e2-4104-9e8f-f3d000004b9a",
   "metadata": {},
   "outputs": [],
   "source": [
    "# Install the numpy library :- pip install numpy \n",
    "import numpy as np"
   ]
  },
  {
   "cell_type": "code",
   "execution_count": 2,
   "id": "941db982-c40c-45e1-9ef0-8cb653c5142b",
   "metadata": {},
   "outputs": [
    {
     "name": "stdout",
     "output_type": "stream",
     "text": [
      "[1 2 3 4]\n",
      "<class 'numpy.ndarray'>\n",
      "(4,)\n"
     ]
    }
   ],
   "source": [
    "## Create array using numpy \n",
    "# create a 1D array \n",
    "\n",
    "arr1=np.array([1,2,3,4])\n",
    "print(arr1)\n",
    "print(type(arr1))\n",
    "print(arr1.shape)"
   ]
  },
  {
   "cell_type": "code",
   "execution_count": 3,
   "id": "f597ffdd-ed28-4a97-943b-7d7344b066e9",
   "metadata": {},
   "outputs": [
    {
     "data": {
      "text/plain": [
       "array([[1, 2, 3, 4, 5]])"
      ]
     },
     "execution_count": 3,
     "metadata": {},
     "output_type": "execute_result"
    }
   ],
   "source": [
    "arr2=np.array([1,2,3,4,5])\n",
    "arr2.reshape((1,5)) # 1 row and 5 coloums\n"
   ]
  },
  {
   "cell_type": "code",
   "execution_count": 7,
   "id": "1ffe380a-8603-475c-9241-75751e0963fd",
   "metadata": {},
   "outputs": [
    {
     "name": "stdout",
     "output_type": "stream",
     "text": [
      "[[1 2 3 4 5]\n",
      " [5 6 7 8 6]]\n"
     ]
    },
    {
     "data": {
      "text/plain": [
       "(2, 5)"
      ]
     },
     "execution_count": 7,
     "metadata": {},
     "output_type": "execute_result"
    }
   ],
   "source": [
    "arr2=np.array([[1,2,3,4,5],[5,6,7,8,6]])\n",
    "print(arr2)\n",
    "arr2.shape\n"
   ]
  },
  {
   "cell_type": "code",
   "execution_count": 8,
   "id": "ce336907-8b44-45ed-81d3-99fe75605608",
   "metadata": {},
   "outputs": [
    {
     "data": {
      "text/plain": [
       "array([0, 2, 4, 6, 8])"
      ]
     },
     "execution_count": 8,
     "metadata": {},
     "output_type": "execute_result"
    }
   ],
   "source": [
    "np.arange(0,10,2)"
   ]
  },
  {
   "cell_type": "code",
   "execution_count": 9,
   "id": "7a09ab9d-7355-40ce-af66-d15107136074",
   "metadata": {},
   "outputs": [
    {
     "data": {
      "text/plain": [
       "array([[0],\n",
       "       [2],\n",
       "       [4],\n",
       "       [6],\n",
       "       [8]])"
      ]
     },
     "execution_count": 9,
     "metadata": {},
     "output_type": "execute_result"
    }
   ],
   "source": [
    "np.arange(0,10,2).reshape(5,1)"
   ]
  },
  {
   "cell_type": "code",
   "execution_count": 12,
   "id": "de4b4c10-2b19-471b-9b08-6f52b76ef787",
   "metadata": {},
   "outputs": [
    {
     "data": {
      "text/plain": [
       "array([[1., 1., 1., 1.],\n",
       "       [1., 1., 1., 1.],\n",
       "       [1., 1., 1., 1.]])"
      ]
     },
     "execution_count": 12,
     "metadata": {},
     "output_type": "execute_result"
    }
   ],
   "source": [
    "np.ones((3,4))"
   ]
  },
  {
   "cell_type": "code",
   "execution_count": 15,
   "id": "211a0a33-cee2-4f93-9445-9ce8f8d8e78b",
   "metadata": {},
   "outputs": [
    {
     "data": {
      "text/plain": [
       "array([[1., 0., 0., 0., 0., 0., 0., 0.],\n",
       "       [0., 1., 0., 0., 0., 0., 0., 0.],\n",
       "       [0., 0., 1., 0., 0., 0., 0., 0.],\n",
       "       [0., 0., 0., 1., 0., 0., 0., 0.],\n",
       "       [0., 0., 0., 0., 1., 0., 0., 0.],\n",
       "       [0., 0., 0., 0., 0., 1., 0., 0.],\n",
       "       [0., 0., 0., 0., 0., 0., 1., 0.],\n",
       "       [0., 0., 0., 0., 0., 0., 0., 1.]])"
      ]
     },
     "execution_count": 15,
     "metadata": {},
     "output_type": "execute_result"
    }
   ],
   "source": [
    "## Identity matrix \n",
    "\n",
    "np.eye(8,8)"
   ]
  },
  {
   "cell_type": "code",
   "execution_count": 18,
   "id": "a2d4bbc5-ade5-4d0c-9e7e-dba62c3d8605",
   "metadata": {},
   "outputs": [
    {
     "name": "stdout",
     "output_type": "stream",
     "text": [
      "Array : \n",
      " [[1 2 3]\n",
      " [4 5 6]]\n",
      "shape :  (2, 3)\n",
      "Number of dimensions :  2\n",
      "Size (number of elements) : 6\n",
      "Data type :  int64\n",
      "Item size (in bytes) :  8\n"
     ]
    }
   ],
   "source": [
    "## Attrubute of numpy Array \n",
    "\n",
    "arr=np.array([[1,2,3],[4,5,6]])\n",
    "\n",
    "print(\"Array : \\n\",arr)\n",
    "print(\"shape : \", arr.shape)\n",
    "print(\"Number of dimensions : \", arr.ndim)\n",
    "print(\"Size (number of elements) :\",arr.size)\n",
    "print(\"Data type : \" , arr.dtype)\n",
    "print(\"Item size (in bytes) : \",arr.itemsize)"
   ]
  },
  {
   "cell_type": "code",
   "execution_count": 21,
   "id": "3448985a-e99e-4a96-bc61-c30957937fef",
   "metadata": {},
   "outputs": [
    {
     "name": "stdout",
     "output_type": "stream",
     "text": [
      "Addition :  [11 22 33 44 55]\n",
      "Subtraction :  [ -9 -18 -27 -36 -45]\n",
      "Multiplication :  [11 22 33 44 55]\n",
      "Division :  [0.1 0.1 0.1 0.1 0.1]\n"
     ]
    }
   ],
   "source": [
    "## Numpy vectorized Operation \n",
    "\n",
    "arr1=np.array([1,2,3,4,5])\n",
    "arr2=np.array([10,20,30,40,50])\n",
    "\n",
    "## Element wise addition \n",
    "print(\"Addition : \", arr1+arr2)\n",
    "\n",
    "## Element wise subtraction \n",
    "print(\"Subtraction : \", arr1-arr2)\n",
    "\n",
    "## Element wise multiplication \n",
    "print(\"Multiplication : \", arr1+arr2)\n",
    "\n",
    "## Element wise divid\n",
    "print(\"Division : \" , arr1/arr2)"
   ]
  },
  {
   "cell_type": "code",
   "execution_count": 23,
   "id": "490a8f43-786f-4f33-b354-e4737c23932a",
   "metadata": {},
   "outputs": [
    {
     "name": "stdout",
     "output_type": "stream",
     "text": [
      "[1.         1.41421356 1.73205081 2.         2.23606798 2.44948974]\n",
      "[  2.71828183   7.3890561   20.08553692  54.59815003 148.4131591\n",
      " 403.42879349]\n",
      "[ 0.84147098  0.90929743  0.14112001 -0.7568025  -0.95892427 -0.2794155 ]\n",
      "[0.         0.69314718 1.09861229 1.38629436 1.60943791 1.79175947]\n"
     ]
    }
   ],
   "source": [
    "## Universal Function \n",
    "\n",
    "arr=np.array([1,2,3,4,5,6])\n",
    "\n",
    "# square root\n",
    "print(np.sqrt(arr))\n",
    "\n",
    "# exponential \n",
    "print(np.exp(arr))\n",
    "\n",
    "# sine \n",
    "print(np.sin(arr))\n",
    "\n",
    "# natural log \n",
    "print(np.log(arr))"
   ]
  },
  {
   "cell_type": "code",
   "execution_count": 32,
   "id": "fcbf7cde-f381-44a8-94f6-fdff5c34692f",
   "metadata": {},
   "outputs": [
    {
     "name": "stdout",
     "output_type": "stream",
     "text": [
      "Array :\n",
      " [[ 1  2  3  4  5]\n",
      " [ 5  6  7  8  9]\n",
      " [10 11 12 13 14]]\n"
     ]
    }
   ],
   "source": [
    "## arrayslicing and Indexing \n",
    "\n",
    "arr=np.array([[1,2,3,4,5],[5,6,7,8,9],[10,11,12,13,14]])\n",
    "print('Array :\\n',arr)"
   ]
  },
  {
   "cell_type": "code",
   "execution_count": 33,
   "id": "033db936-caf3-45b6-b5ef-a76ffd41bd9c",
   "metadata": {},
   "outputs": [
    {
     "data": {
      "text/plain": [
       "np.int64(1)"
      ]
     },
     "execution_count": 33,
     "metadata": {},
     "output_type": "execute_result"
    }
   ],
   "source": [
    "arr[0][0]"
   ]
  },
  {
   "cell_type": "code",
   "execution_count": 34,
   "id": "c11f3367-ca47-4342-b9ac-c6586b44a068",
   "metadata": {},
   "outputs": [
    {
     "data": {
      "text/plain": [
       "array([[ 7,  8,  9],\n",
       "       [12, 13, 14]])"
      ]
     },
     "execution_count": 34,
     "metadata": {},
     "output_type": "execute_result"
    }
   ],
   "source": [
    "arr[1:,2:]"
   ]
  },
  {
   "cell_type": "code",
   "execution_count": 36,
   "id": "3cd12c56-f68d-4a39-af61-1309b85af530",
   "metadata": {},
   "outputs": [
    {
     "name": "stdout",
     "output_type": "stream",
     "text": [
      "[[2 3 4 5]\n",
      " [6 7 8 9]]\n"
     ]
    }
   ],
   "source": [
    "print(arr[0:2,1:])"
   ]
  },
  {
   "cell_type": "code",
   "execution_count": 37,
   "id": "799a487b-484e-4642-83a8-6a1defce2462",
   "metadata": {},
   "outputs": [
    {
     "name": "stdout",
     "output_type": "stream",
     "text": [
      "[[100   2   3   4   5]\n",
      " [  5   6   7   8   9]\n",
      " [ 10  11  12  13  14]]\n"
     ]
    }
   ],
   "source": [
    "## modify array elements \n",
    "arr[0][0]=100\n",
    "print(arr)"
   ]
  },
  {
   "cell_type": "code",
   "execution_count": 38,
   "id": "a16e0a26-6de4-42b6-822a-eea5d73a2f5e",
   "metadata": {},
   "outputs": [
    {
     "name": "stdout",
     "output_type": "stream",
     "text": [
      "[[100   2   3   4   5]\n",
      " [100 100 100 100 100]\n",
      " [100 100 100 100 100]]\n"
     ]
    }
   ],
   "source": [
    "arr[1:]=100\n",
    "print(arr)"
   ]
  },
  {
   "cell_type": "code",
   "execution_count": 39,
   "id": "497b92cb-3be7-4f41-ba26-a9c90eb78ce2",
   "metadata": {},
   "outputs": [
    {
     "name": "stdout",
     "output_type": "stream",
     "text": [
      "Normalized Data :  [-1.41421356 -0.70710678  0.          0.70710678  1.41421356]\n"
     ]
    }
   ],
   "source": [
    "## Statistical concepts -Normalization\n",
    "# To have a mean of 0 and standard deviation of 1\n",
    "\n",
    "data=np.array([1,2,3,4,5])\n",
    "\n",
    "# calculate the mean and standard deviation \n",
    "mean=np.mean(data)\n",
    "std_dev=np.std(data)\n",
    "\n",
    "# Normalize the data\n",
    "normalized_data=(data-mean)/std_dev\n",
    "print(\"Normalized Data : \",normalized_data)"
   ]
  },
  {
   "cell_type": "code",
   "execution_count": 41,
   "id": "9c368685-7524-4657-af5b-9f78dcd3b2af",
   "metadata": {},
   "outputs": [
    {
     "name": "stdout",
     "output_type": "stream",
     "text": [
      "Mean :  5.5\n",
      "Mdeian  5.5\n",
      "Standard Deviation :  2.8722813232690143\n",
      "variance : 8.25\n"
     ]
    }
   ],
   "source": [
    "data=np.array([1,2,3,4,5,6,7,8,9,10])\n",
    "\n",
    "# mean\n",
    "mean=np.mean(data)\n",
    "print(\"Mean : \", mean)\n",
    "\n",
    "# Median \n",
    "median=np.median(data)\n",
    "print('Mdeian ', median)\n",
    "\n",
    "# Standard Deviation \n",
    "std_dev=np.std(data)\n",
    "print('Standard Deviation : ', std_dev)\n",
    "\n",
    "#Variance \n",
    "variance=np.var(data)\n",
    "print(\"variance :\",variance)\n"
   ]
  },
  {
   "cell_type": "code",
   "execution_count": 43,
   "id": "0dd2c9a6-a3d0-4c17-ba33-f04910d3e2b8",
   "metadata": {},
   "outputs": [
    {
     "data": {
      "text/plain": [
       "array([ 6,  7,  8,  9, 10])"
      ]
     },
     "execution_count": 43,
     "metadata": {},
     "output_type": "execute_result"
    }
   ],
   "source": [
    "## Logical Operation \n",
    "\n",
    "data=np.array([1,2,3,4,5,6,7,8,9,10])\n",
    "\n",
    "data[data>5]"
   ]
  },
  {
   "cell_type": "code",
   "execution_count": 44,
   "id": "75a0e45f-7daa-4fac-a491-40c40939618e",
   "metadata": {},
   "outputs": [
    {
     "data": {
      "text/plain": [
       "array([False, False, False, False, False, False, False, False,  True,\n",
       "        True])"
      ]
     },
     "execution_count": 44,
     "metadata": {},
     "output_type": "execute_result"
    }
   ],
   "source": [
    "data > 8"
   ]
  },
  {
   "cell_type": "code",
   "execution_count": 45,
   "id": "0ac6ca2d-ddd8-4b93-93db-cfa1b7bfed12",
   "metadata": {},
   "outputs": [
    {
     "data": {
      "text/plain": [
       "array([ True,  True,  True, False, False, False, False, False, False,\n",
       "       False])"
      ]
     },
     "execution_count": 45,
     "metadata": {},
     "output_type": "execute_result"
    }
   ],
   "source": [
    "data <4"
   ]
  },
  {
   "cell_type": "code",
   "execution_count": 47,
   "id": "09a4232e-c0a8-4e96-8afa-d1f3e63c1a4c",
   "metadata": {},
   "outputs": [
    {
     "data": {
      "text/plain": [
       "array([3, 4, 5, 6, 7])"
      ]
     },
     "execution_count": 47,
     "metadata": {},
     "output_type": "execute_result"
    }
   ],
   "source": [
    "data[(data>=3) & (data<=7)]"
   ]
  },
  {
   "cell_type": "code",
   "execution_count": null,
   "id": "c7b012ab-86ab-426c-a7fd-7a4f728e0aa4",
   "metadata": {},
   "outputs": [],
   "source": []
  }
 ],
 "metadata": {
  "kernelspec": {
   "display_name": "Python 3 (ipykernel)",
   "language": "python",
   "name": "python3"
  },
  "language_info": {
   "codemirror_mode": {
    "name": "ipython",
    "version": 3
   },
   "file_extension": ".py",
   "mimetype": "text/x-python",
   "name": "python",
   "nbconvert_exporter": "python",
   "pygments_lexer": "ipython3",
   "version": "3.13.7"
  },
  "widgets": {
   "application/vnd.jupyter.widget-state+json": {
    "state": {},
    "version_major": 2,
    "version_minor": 0
   }
  }
 },
 "nbformat": 4,
 "nbformat_minor": 5
}
