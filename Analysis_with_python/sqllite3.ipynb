{
 "cells": [
  {
   "cell_type": "markdown",
   "id": "a1d51fa1-1a34-4041-aaf3-bcfa56d430c6",
   "metadata": {},
   "source": [
    "## SQL AND SQLite\n",
    "\n",
    "SQL(Structured Query Language ) is a standard language for meaning and manipulating relational databases. SQLite is a self-contained, serverless, and zero-configuration database engine that is widely used for embedded database system. In this lession, we will cover the basic of SQL and SQLite, including creating databases, tables, and performing various SQL operations."
   ]
  },
  {
   "cell_type": "code",
   "execution_count": 1,
   "id": "ddd8097f-79ca-4640-9b15-d81e4e7db2f1",
   "metadata": {},
   "outputs": [],
   "source": [
    "import sqlite3"
   ]
  },
  {
   "cell_type": "code",
   "execution_count": 2,
   "id": "1a585dcd-23c1-43d9-a36e-c416b03092a9",
   "metadata": {},
   "outputs": [],
   "source": [
    "## Connect to an SQLite database \n",
    "\n",
    "conn=sqlite3.connect('example.db')\n"
   ]
  },
  {
   "cell_type": "code",
   "execution_count": 3,
   "id": "9b4c34c6-ebe6-4052-b7f6-0d6cb584fcf7",
   "metadata": {},
   "outputs": [],
   "source": [
    "cursor=conn.cursor()"
   ]
  },
  {
   "cell_type": "code",
   "execution_count": 4,
   "id": "6457cbbb-56ee-4155-ab76-d18bcc22a064",
   "metadata": {},
   "outputs": [],
   "source": [
    "## Create a table\n",
    "cursor.execute('''\n",
    "CREATE TABLE IF NOT EXISTS employees (\n",
    "    id INTEGER PRIMARY KEY,\n",
    "    name TEXT NOT NULL,\n",
    "    age INTEGER,\n",
    "    department TEXT\n",
    ")\n",
    "''')\n",
    "\n",
    "## Commit the changes\n",
    "conn.commit()\n"
   ]
  },
  {
   "cell_type": "code",
   "execution_count": 5,
   "id": "9f8a9b21-e134-4094-af6d-75ed783cb29c",
   "metadata": {},
   "outputs": [
    {
     "data": {
      "text/plain": [
       "<sqlite3.Cursor at 0x1b36596a7c0>"
      ]
     },
     "execution_count": 5,
     "metadata": {},
     "output_type": "execute_result"
    }
   ],
   "source": [
    "cursor.execute('select * from employees')"
   ]
  },
  {
   "cell_type": "code",
   "execution_count": 56,
   "id": "989a8d6b-2914-44de-ae8f-e477bfca409f",
   "metadata": {},
   "outputs": [],
   "source": [
    "# conn = sqlite3.connect(\"your_database_name.db\", timeout=10)\n"
   ]
  },
  {
   "cell_type": "code",
   "execution_count": 6,
   "id": "06ff9b3b-2fc7-4426-8ece-5d80221a2b74",
   "metadata": {},
   "outputs": [],
   "source": [
    "## connect the database \n",
    "conn=sqlite3.connect('example.db')\n",
    "cursor=conn.cursor()"
   ]
  },
  {
   "cell_type": "code",
   "execution_count": 7,
   "id": "d6ab7e74-f03f-41aa-aff4-cfcbb1276794",
   "metadata": {},
   "outputs": [],
   "source": [
    "## Insert some data  in sqlite table\n",
    "\n",
    "cursor.execute('''\n",
    "Insert Into employees(name,age,department) \n",
    "        values('rakesh',22,'scientist')\n",
    "''')\n",
    "\n",
    "# commit \n",
    "conn.commit()"
   ]
  },
  {
   "cell_type": "code",
   "execution_count": null,
   "id": "6ba48f7b-435c-457a-b8b5-7b853868baf2",
   "metadata": {},
   "outputs": [],
   "source": []
  },
  {
   "cell_type": "code",
   "execution_count": 17,
   "id": "7b4d8da6-6732-482e-832c-5f20d6c42d79",
   "metadata": {},
   "outputs": [
    {
     "name": "stdout",
     "output_type": "stream",
     "text": [
      "(2, 'Madhav', 100, 'manager')\n",
      "(3, 'Raghav', 100, 'administrator ')\n"
     ]
    }
   ],
   "source": [
    "# Quaring the data from table \n",
    "# cursor.execute('select * from employees')\n",
    "# rows=cursor.fetchall()\n",
    "\n",
    "# ## print the queried data \n",
    "# for row in rows :\n",
    "#     print(row)\n",
    "\n",
    "def show():\n",
    "    cursor.execute('select * from employees')\n",
    "    rows=cursor.fetchall()\n",
    "\n",
    "    for row in rows:\n",
    "        print(row)\n",
    "\n",
    "show()"
   ]
  },
  {
   "cell_type": "code",
   "execution_count": 9,
   "id": "abd2176c-ef14-4d59-8908-12d71cd51629",
   "metadata": {},
   "outputs": [
    {
     "name": "stdout",
     "output_type": "stream",
     "text": [
      "(1, 'rakesh', 34, 'scientist')\n"
     ]
    }
   ],
   "source": [
    "\n",
    "\n",
    "## Update the data in the table \n",
    "\n",
    "cursor.execute('''\n",
    "Update employees set age=34 where name='rakesh'\n",
    "''')\n",
    "show()\n",
    "conn.commit()"
   ]
  },
  {
   "cell_type": "code",
   "execution_count": 20,
   "id": "6d3e8525-0410-496f-9311-80c691344bf4",
   "metadata": {},
   "outputs": [],
   "source": [
    "cursor.execute('''\n",
    "Insert Into employees(name,age,department) \n",
    "        values('Madhav',43,'AI/ML')\n",
    "''')\n",
    "\n",
    "# commit \n",
    "conn.commit()"
   ]
  },
  {
   "cell_type": "code",
   "execution_count": 14,
   "id": "e97f0b04-8cdf-4d6a-9172-cfd6548469ec",
   "metadata": {},
   "outputs": [
    {
     "data": {
      "text/plain": [
       "<sqlite3.Cursor at 0x1b36596ae40>"
      ]
     },
     "execution_count": 14,
     "metadata": {},
     "output_type": "execute_result"
    }
   ],
   "source": [
    "## Delete the date from the table \n",
    "\n",
    "cursor.execute('''\n",
    "Delete from employees \n",
    "where age=34\n",
    "\n",
    "''')\n"
   ]
  },
  {
   "cell_type": "code",
   "execution_count": 23,
   "id": "41482516-40c3-428b-9359-e2cb17e53439",
   "metadata": {},
   "outputs": [
    {
     "name": "stdout",
     "output_type": "stream",
     "text": [
      "(2, 'Madhav', 100, 'manager')\n",
      "(3, 'Raghav', 100, 'administrator ')\n",
      "(4, 'Madhav', 43, 'AI/ML')\n"
     ]
    }
   ],
   "source": [
    "show()"
   ]
  },
  {
   "cell_type": "code",
   "execution_count": 22,
   "id": "2511efb6-79d2-466d-8814-db8bb271b78f",
   "metadata": {},
   "outputs": [
    {
     "data": {
      "text/plain": [
       "<sqlite3.Cursor at 0x1b36596ae40>"
      ]
     },
     "execution_count": 22,
     "metadata": {},
     "output_type": "execute_result"
    }
   ],
   "source": [
    "\n",
    "cursor.execute('''\n",
    "Delete from employees \n",
    "where name ='madhav'\n",
    "\n",
    "''')"
   ]
  },
  {
   "cell_type": "code",
   "execution_count": 24,
   "id": "eba59019-9a1a-4394-966b-ed983e153122",
   "metadata": {},
   "outputs": [],
   "source": [
    "conn=sqlite3.connect('market.db')\n",
    "cursor=conn.cursor()"
   ]
  },
  {
   "cell_type": "code",
   "execution_count": 25,
   "id": "1893dbb7-b151-461b-b0ab-77a0555ec702",
   "metadata": {},
   "outputs": [
    {
     "data": {
      "text/plain": [
       "<sqlite3.Cursor at 0x1b36596b7c0>"
      ]
     },
     "execution_count": 25,
     "metadata": {},
     "output_type": "execute_result"
    }
   ],
   "source": [
    "## WOrking with sales Data \n",
    "cursor.execute('''\n",
    "create table if not exists sales(\n",
    "    id integer primary key,\n",
    "    date text not null,\n",
    "    product text not null,\n",
    "    sales integer,\n",
    "    region test\n",
    "    \n",
    ")\n",
    "''')\n",
    "\n"
   ]
  },
  {
   "cell_type": "code",
   "execution_count": 26,
   "id": "9735c157-8a2d-4b67-8c3b-97ade1efa83d",
   "metadata": {},
   "outputs": [],
   "source": [
    "sales_data=[\n",
    "    ('2023-01-01','Product1',100,'north'),\n",
    "    ('2023-01-02','Product2',100,'east'),\n",
    "    ('2023-01-03','Product3',100,'south'),\n",
    "    ('2023-01-04','Product4',100,'west'),\n",
    "    ('2023-01-05','Product5',100,'east')\n",
    "\n",
    "]\n",
    "\n"
   ]
  },
  {
   "cell_type": "code",
   "execution_count": 27,
   "id": "191b55ca-ee2f-437e-9f80-f1097b14bd41",
   "metadata": {},
   "outputs": [
    {
     "ename": "OperationalError",
     "evalue": "table sales has no column named data",
     "output_type": "error",
     "traceback": [
      "\u001b[31m---------------------------------------------------------------------------\u001b[39m",
      "\u001b[31mOperationalError\u001b[39m                          Traceback (most recent call last)",
      "\u001b[36mCell\u001b[39m\u001b[36m \u001b[39m\u001b[32mIn[27]\u001b[39m\u001b[32m, line 1\u001b[39m\n\u001b[32m----> \u001b[39m\u001b[32m1\u001b[39m \u001b[43mcursor\u001b[49m\u001b[43m.\u001b[49m\u001b[43mexecutemany\u001b[49m\u001b[43m(\u001b[49m\u001b[33;43m'''\u001b[39;49m\n\u001b[32m      2\u001b[39m \u001b[33;43mInsert into sales(data,product,sales,region) \u001b[39;49m\n\u001b[32m      3\u001b[39m \u001b[33;43mvalues (?,?,?,?)\u001b[39;49m\n\u001b[32m      4\u001b[39m \u001b[33;43m'''\u001b[39;49m\u001b[43m,\u001b[49m\u001b[43msales_data\u001b[49m\u001b[43m)\u001b[49m\n\u001b[32m      6\u001b[39m conn.commit()\n",
      "\u001b[31mOperationalError\u001b[39m: table sales has no column named data"
     ]
    }
   ],
   "source": [
    "cursor.executemany('''\n",
    "Insert into sales(data,product,sales,region) \n",
    "values (?,?,?,?)\n",
    "''',sales_data)\n",
    "\n",
    "conn.commit()\n",
    "\n"
   ]
  },
  {
   "cell_type": "code",
   "execution_count": 28,
   "id": "858fc66a-202e-47de-a8dd-d3a89ee3d8c2",
   "metadata": {},
   "outputs": [
    {
     "name": "stdout",
     "output_type": "stream",
     "text": [
      "hello\n"
     ]
    }
   ],
   "source": [
    "print('hello')"
   ]
  },
  {
   "cell_type": "code",
   "execution_count": null,
   "id": "8c24325b-88c3-4b15-be73-c355f97dadf1",
   "metadata": {},
   "outputs": [],
   "source": []
  }
 ],
 "metadata": {
  "kernelspec": {
   "display_name": "Python 3 (ipykernel)",
   "language": "python",
   "name": "python3"
  },
  "language_info": {
   "codemirror_mode": {
    "name": "ipython",
    "version": 3
   },
   "file_extension": ".py",
   "mimetype": "text/x-python",
   "name": "python",
   "nbconvert_exporter": "python",
   "pygments_lexer": "ipython3",
   "version": "3.13.7"
  },
  "widgets": {
   "application/vnd.jupyter.widget-state+json": {
    "state": {},
    "version_major": 2,
    "version_minor": 0
   }
  }
 },
 "nbformat": 4,
 "nbformat_minor": 5
}
