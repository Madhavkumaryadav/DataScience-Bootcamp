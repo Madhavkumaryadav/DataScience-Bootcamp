{
 "cells": [
  {
   "cell_type": "markdown",
   "id": "8e18e7d4-6a4f-4c3b-bac4-b58b48111967",
   "metadata": {},
   "source": [
    "### Missing Values \n",
    "\n",
    "Missing values occurs in dataset when some of the informations is not stored for a variable THere are 3 mechanisms "
   ]
  },
  {
   "cell_type": "markdown",
   "id": "c51bf622-9cd1-4b9b-8c2c-c9310c13551b",
   "metadata": {},
   "source": [
    "### 1. Missing Completely at Random (MCAR)\n",
    "\n",
    "Missing completely at random (MCAR) is a type of missing data mechanism in which the probability of a value being missing is unrelated to both the observed data and the missing data. In other words, if the data is MCAR, the missing values are randomly distributed throughout the dataset, and there is no systematic reason for why they are missing \n",
    "\n",
    "for example, in a survey about the prevalence of a certain disease the missing data might be MCAR if the survey participants with missing values for certain questions were for certain questions were selected randomly and their missing responses are not related to their disease status or any other variables measured in the survey."
   ]
  },
  {
   "cell_type": "markdown",
   "id": "4c4b976b-2c0b-4f2c-8efa-8e8d72931a57",
   "metadata": {},
   "source": [
    "### 2. Missing at Random MAR:\n",
    "\n",
    "Missing at Random (MAR) is a type of missing data mechanism in which the probability of a value being missing depends only on the observed data. But not on the missing data itself. in other words if the data is MAR. the missing values are systematically related to the observed data, but not to the missing data Here are a few examples of missing at random. \n"
   ]
  }
 ],
 "metadata": {
  "kernelspec": {
   "display_name": "Python 3 (ipykernel)",
   "language": "python",
   "name": "python3"
  },
  "language_info": {
   "codemirror_mode": {
    "name": "ipython",
    "version": 3
   },
   "file_extension": ".py",
   "mimetype": "text/x-python",
   "name": "python",
   "nbconvert_exporter": "python",
   "pygments_lexer": "ipython3",
   "version": "3.13.8"
  },
  "widgets": {
   "application/vnd.jupyter.widget-state+json": {
    "state": {},
    "version_major": 2,
    "version_minor": 0
   }
  }
 },
 "nbformat": 4,
 "nbformat_minor": 5
}
