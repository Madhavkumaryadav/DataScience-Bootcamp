{
 "cells": [
  {
   "cell_type": "markdown",
   "metadata": {},
   "source": [
    "# Lesson 1.2: Python Basics\n",
    "## Topics Covered:\n",
    "- Syntax and Semantics\n",
    "- Variables and Data Types\n",
    "- Basic Operators (Arithmetic, Comparison, Logical)\n"
   ]
  },
  {
   "cell_type": "code",
   "execution_count": null,
   "metadata": {},
   "outputs": [],
   "source": []
  },
  {
   "cell_type": "markdown",
   "metadata": {},
   "source": [
    "## 1. Syntax and Semantics\n",
    "\n",
    "**Question 1:** Write a Python program to print \"Hello, World!\"."
   ]
  },
  {
   "cell_type": "code",
   "execution_count": 1,
   "metadata": {},
   "outputs": [
    {
     "name": "stdout",
     "output_type": "stream",
     "text": [
      "Hello. World!\n"
     ]
    }
   ],
   "source": [
    "# Your code here\n",
    "print(\"Hello. World!\")"
   ]
  },
  {
   "cell_type": "markdown",
   "metadata": {},
   "source": [
    "**Question 2:** Write a Python program that takes a user input and prints it."
   ]
  },
  {
   "cell_type": "code",
   "execution_count": 2,
   "metadata": {},
   "outputs": [
    {
     "name": "stdin",
     "output_type": "stream",
     "text": [
      "Enter your age :  90\n"
     ]
    },
    {
     "name": "stdout",
     "output_type": "stream",
     "text": [
      "Your age is :  90\n"
     ]
    }
   ],
   "source": [
    "# Your code here\n",
    "a=int(input('Enter your age : '))\n",
    "print('Your age is : ',a)"
   ]
  },
  {
   "cell_type": "markdown",
   "metadata": {},
   "source": [
    "**Question 3:** Write a Python program to check if a number is positive, negative, or zero."
   ]
  },
  {
   "cell_type": "code",
   "execution_count": 6,
   "metadata": {},
   "outputs": [
    {
     "name": "stdin",
     "output_type": "stream",
     "text": [
      "Enter a number :  -2\n"
     ]
    },
    {
     "name": "stdout",
     "output_type": "stream",
     "text": [
      "Negative\n"
     ]
    }
   ],
   "source": [
    "# Your code here\n",
    "i=int(input('Enter a number : '))\n",
    "if i>0:\n",
    "    print('positive ')\n",
    "elif i<0:\n",
    "    print('Negative')\n",
    "else:\n",
    "    print('Zero')"
   ]
  },
  {
   "cell_type": "markdown",
   "metadata": {},
   "source": [
    "**Question 4:** Write a Python program to find the largest of three numbers."
   ]
  },
  {
   "cell_type": "code",
   "execution_count": 7,
   "metadata": {},
   "outputs": [
    {
     "name": "stdin",
     "output_type": "stream",
     "text": [
      "Enter first number :  34\n",
      "Enter Second number :  54\n",
      "Enter Third Number :  32\n"
     ]
    },
    {
     "name": "stdout",
     "output_type": "stream",
     "text": [
      "Second Number is Largest\n"
     ]
    }
   ],
   "source": [
    "# Your code here\n",
    "first=int(input(\"Enter first number : \"))\n",
    "second=int(input(\"Enter Second number : \"))\n",
    "third=int(input(\"Enter Third Number : \"))\n",
    "\n",
    "if first>second and first > third:\n",
    "    print('First Number is largest')\n",
    "elif second > first and second > third:\n",
    "    print('Second Number is Largest')\n",
    "else:\n",
    "    print('Third Number is Largest')"
   ]
  },
  {
   "cell_type": "markdown",
   "metadata": {},
   "source": [
    "**Question 5:** Write a Python program to calculate the factorial of a number."
   ]
  },
  {
   "cell_type": "code",
   "execution_count": 8,
   "metadata": {},
   "outputs": [
    {
     "name": "stdin",
     "output_type": "stream",
     "text": [
      "Enter The number :  5\n"
     ]
    },
    {
     "name": "stdout",
     "output_type": "stream",
     "text": [
      "Factorial of this Number  5  is the :  120\n"
     ]
    }
   ],
   "source": [
    "# Your code here\n",
    "n=int(input(\"Enter The number : \"))\n",
    "result=1\n",
    "for i in range(1,n+1):\n",
    "    result*=i\n",
    "print(\"Factorial of this Number \",n,\" is the : \" , result)"
   ]
  },
  {
   "cell_type": "markdown",
   "metadata": {},
   "source": [
    "## 2. Variables and Data Types\n",
    "\n",
    "**Question 6:** Create variables of different data types: integer, float, string, and boolean. Print their values and types."
   ]
  },
  {
   "cell_type": "code",
   "execution_count": 9,
   "metadata": {},
   "outputs": [
    {
     "name": "stdout",
     "output_type": "stream",
     "text": [
      "10 <class 'int'>\n",
      "8.99 <class 'float'>\n",
      "madhav <class 'str'>\n",
      "True <class 'bool'>\n"
     ]
    }
   ],
   "source": [
    "# Your code here\n",
    "# integer \n",
    "a=10\n",
    "print(a,type(a))\n",
    "a=8.99\n",
    "print(a,type(a))\n",
    "a='madhav'\n",
    "print(a,type(a))\n",
    "a=True\n",
    "print(a,type(a))\n"
   ]
  },
  {
   "cell_type": "markdown",
   "metadata": {},
   "source": [
    "**Question 7:** Write a Python program to swap the values of two variables."
   ]
  },
  {
   "cell_type": "code",
   "execution_count": 11,
   "metadata": {},
   "outputs": [
    {
     "name": "stdin",
     "output_type": "stream",
     "text": [
      "Enter the First Number :  89\n",
      "Enter the Second Number :  53\n"
     ]
    },
    {
     "name": "stdout",
     "output_type": "stream",
     "text": [
      "Before Swap...................\n",
      "a =  89\n",
      "b =  53\n",
      "After swap...................\n",
      "a =  53\n",
      "b =  89\n"
     ]
    }
   ],
   "source": [
    "# Your code here\n",
    "a=int(input(\"Enter the First Number : \"))\n",
    "b=int(input(\"Enter the Second Number : \"))\n",
    "print(\"Before Swap...................\")\n",
    "print('a = ' , a)\n",
    "print('b = ',b)\n",
    "print(\"After swap...................\")\n",
    "t=a\n",
    "a=b\n",
    "b=t\n",
    "print('a = ' , a)\n",
    "print('b = ',b)"
   ]
  },
  {
   "cell_type": "markdown",
   "metadata": {},
   "source": [
    "**Question 8:** Write a Python program to convert Celsius to Fahrenheit."
   ]
  },
  {
   "cell_type": "code",
   "execution_count": 12,
   "metadata": {},
   "outputs": [
    {
     "name": "stdin",
     "output_type": "stream",
     "text": [
      "Enter the temperature in Cessius :  78\n"
     ]
    },
    {
     "name": "stdout",
     "output_type": "stream",
     "text": [
      "The Celsius is the :  78\n",
      "Converted to the celsius 78 to Fahrenheit : 172.4\n"
     ]
    }
   ],
   "source": [
    "# Your code here\n",
    "# formula : - °F = °C × 9/5 + 32\n",
    "celsius=int(input(\"Enter the temperature in Cessius : \"))\n",
    "print(\"The Celsius is the : \",celsius)\n",
    "f=celsius * 9/5 + 32\n",
    "print(f\"Converted to the celsius {celsius} to Fahrenheit : {f}\") \n"
   ]
  },
  {
   "cell_type": "markdown",
   "metadata": {},
   "source": [
    "**Question 9:** Write a Python program to concatenate two strings."
   ]
  },
  {
   "cell_type": "code",
   "execution_count": 13,
   "metadata": {},
   "outputs": [
    {
     "name": "stdin",
     "output_type": "stream",
     "text": [
      "Enter your first Name :  madhav\n",
      "Enter your Last Name :  kuamr\n"
     ]
    },
    {
     "name": "stdout",
     "output_type": "stream",
     "text": [
      "Concatenate string is the ..............................\n",
      "madhavkuamr\n"
     ]
    }
   ],
   "source": [
    "# Your code here\n",
    "f_name=input(\"Enter your first Name : \")\n",
    "l_name=input(\"Enter your Last Name : \")\n",
    "full_name=f_name + l_name\n",
    "print(\"Concatenate string is the ..............................\")\n",
    "print(full_name)"
   ]
  },
  {
   "cell_type": "markdown",
   "metadata": {},
   "source": [
    "**Question 10:** Write a Python program to check if a variable is of a specific data type."
   ]
  },
  {
   "cell_type": "code",
   "execution_count": 15,
   "metadata": {},
   "outputs": [
    {
     "name": "stdout",
     "output_type": "stream",
     "text": [
      "This is Not Float\n"
     ]
    }
   ],
   "source": [
    "# Your code here\n",
    "var=10.99\n",
    "if isinstance(var,float):\n",
    "    print(\"This is Float type\")\n",
    "else:\n",
    "    print(\"This is Not Float\")"
   ]
  },
  {
   "cell_type": "markdown",
   "metadata": {},
   "source": [
    "## 3. Basic Operators (Arithmetic, Comparison, Logical)\n",
    "\n",
    "**Question 11:** Write a Python program to perform arithmetic operations: addition, subtraction, multiplication, and division."
   ]
  },
  {
   "cell_type": "code",
   "execution_count": 16,
   "metadata": {},
   "outputs": [
    {
     "name": "stdout",
     "output_type": "stream",
     "text": [
      "Addition :  64\n",
      "Subtract :  -26\n",
      "Multiplication :  855\n",
      "Divide :  0.4222222222222222\n"
     ]
    }
   ],
   "source": [
    "# Your code here\n",
    "a=19\n",
    "b=45\n",
    "sum=a+b\n",
    "sub=a-b\n",
    "mul=a*b\n",
    "div=a/b\n",
    "\n",
    "print('Addition : ', sum)\n",
    "print('Subtract : ',sub)\n",
    "print(\"Multiplication : \" , mul)\n",
    "print(\"Divide : \", div)"
   ]
  },
  {
   "cell_type": "markdown",
   "metadata": {},
   "source": [
    "**Question 12:** Write a Python program to demonstrate comparison operators: equal to, not equal to, greater than, less than."
   ]
  },
  {
   "cell_type": "code",
   "execution_count": 19,
   "metadata": {},
   "outputs": [
    {
     "name": "stdout",
     "output_type": "stream",
     "text": [
      "Equal to (==) operator :  False\n",
      "Not Equal to (!=) Operator :  True\n",
      "Greater Then equal to (>=) operator :  True\n",
      "great then (>) operator :  True\n",
      "less then (<) operator :  False\n",
      "less then equal to (<=) operator :  False\n"
     ]
    }
   ],
   "source": [
    "# Your code here\n",
    "a=99\n",
    "b=55\n",
    "print('Equal to (==) operator : ' , a==b)\n",
    "print(\"Not Equal to (!=) Operator : \", a!=b)\n",
    "print('Greater Then equal to (>=) operator : ', a>=b)\n",
    "print('great then (>) operator : ', a>b)\n",
    "print('less then (<) operator : ', a<b)\n",
    "print('less then equal to (<=) operator : ', a<=b)\n"
   ]
  },
  {
   "cell_type": "markdown",
   "metadata": {},
   "source": [
    "**Question 13:** Write a Python program to demonstrate logical operators: and, or, not."
   ]
  },
  {
   "cell_type": "code",
   "execution_count": 24,
   "metadata": {},
   "outputs": [
    {
     "name": "stdout",
     "output_type": "stream",
     "text": [
      "AND Operator  False\n",
      "OR Operator :  True\n",
      "NOT Operator :  True\n",
      "NOT Operator :  False\n"
     ]
    }
   ],
   "source": [
    "# Your code here\n",
    "a=True\n",
    "b=False\n",
    "print('AND Operator ' , a and b)\n",
    "print('OR Operator : ', a or b)\n",
    "print('NOT Operator : ',not b)\n",
    "print('NOT Operator : ', not a)\n"
   ]
  },
  {
   "cell_type": "markdown",
   "metadata": {},
   "source": [
    "**Question 14:** Write a Python program to calculate the square of a number."
   ]
  },
  {
   "cell_type": "code",
   "execution_count": 25,
   "metadata": {},
   "outputs": [
    {
     "name": "stdin",
     "output_type": "stream",
     "text": [
      "Enter the number :  10\n"
     ]
    },
    {
     "name": "stdout",
     "output_type": "stream",
     "text": [
      "Square of the 10 is : 100\n"
     ]
    }
   ],
   "source": [
    "# Your code here\n",
    "a=int(input(\"Enter the number : \"))\n",
    "print(f\"Square of the {a} is : {a**2}\")"
   ]
  },
  {
   "cell_type": "markdown",
   "metadata": {},
   "source": [
    "**Question 15:** Write a Python program to check if a number is even or odd."
   ]
  },
  {
   "cell_type": "code",
   "execution_count": 26,
   "metadata": {},
   "outputs": [
    {
     "name": "stdin",
     "output_type": "stream",
     "text": [
      "Enter The Number :  89\n"
     ]
    },
    {
     "name": "stdout",
     "output_type": "stream",
     "text": [
      "The Number is Odd\n"
     ]
    }
   ],
   "source": [
    "# Your code here\n",
    "number=int(input(\"Enter The Number : \"))\n",
    "if number %2==0:\n",
    "    print('The number is Even ')\n",
    "else:\n",
    "    print(\"The Number is Odd\")"
   ]
  },
  {
   "cell_type": "markdown",
   "metadata": {},
   "source": [
    "**Question 16:** Write a Python program to find the sum of the first n natural numbers."
   ]
  },
  {
   "cell_type": "code",
   "execution_count": 28,
   "metadata": {},
   "outputs": [
    {
     "name": "stdin",
     "output_type": "stream",
     "text": [
      "Enter the Number :  10\n"
     ]
    },
    {
     "name": "stdout",
     "output_type": "stream",
     "text": [
      "The sum of first 10 natural Number  is 55\n"
     ]
    }
   ],
   "source": [
    "# Your code here\n",
    "n=int(input('Enter the Number : '))\n",
    "result=0\n",
    "for i in range(1,n+1):\n",
    "    result += i\n",
    "print(f\"The sum of first {n} natural Number  is {result}\")"
   ]
  },
  {
   "cell_type": "markdown",
   "metadata": {},
   "source": [
    "**Question 17:** Write a Python program to check if a year is a leap year."
   ]
  },
  {
   "cell_type": "code",
   "execution_count": 40,
   "metadata": {},
   "outputs": [
    {
     "name": "stdin",
     "output_type": "stream",
     "text": [
      "Enter your year :  7800\n"
     ]
    },
    {
     "name": "stdout",
     "output_type": "stream",
     "text": [
      "7800 is Leap year \n"
     ]
    }
   ],
   "source": [
    "# Your code here\n",
    "year=int(input(\"Enter your year : \"))\n",
    "\n",
    "if year % 4 == 0 or year % 100 == 0 and year % 400 ==0:\n",
    "    print(f'{year} is Leap year ')\n",
    "else:\n",
    "    print(f'{year} is not Leap year ')\n"
   ]
  },
  {
   "cell_type": "markdown",
   "metadata": {},
   "source": [
    "**Question 18:** Write a Python program to reverse a string."
   ]
  },
  {
   "cell_type": "code",
   "execution_count": 49,
   "metadata": {},
   "outputs": [
    {
     "name": "stdin",
     "output_type": "stream",
     "text": [
      "Enter your String :  abc\n"
     ]
    },
    {
     "name": "stdout",
     "output_type": "stream",
     "text": [
      "cba"
     ]
    }
   ],
   "source": [
    "# Your code here\n",
    "string=input(\"Enter your String : \")\n",
    "n=len(string)\n",
    "\n",
    "for i in range(n-1,-1,-1):\n",
    "    print(string[i],end=\"\")\n",
    "    "
   ]
  },
  {
   "cell_type": "markdown",
   "metadata": {},
   "source": [
    "**Question 19:** Write a Python program to check if a string is a palindrome."
   ]
  },
  {
   "cell_type": "code",
   "execution_count": 56,
   "metadata": {},
   "outputs": [
    {
     "name": "stdin",
     "output_type": "stream",
     "text": [
      "Enter your string :  aba\n"
     ]
    },
    {
     "name": "stdout",
     "output_type": "stream",
     "text": [
      "Palindrome \n"
     ]
    }
   ],
   "source": [
    "# Your code here\n",
    "string=input(\"Enter your string : \")\n",
    "n=len(string)\n",
    "name=[i for i in string]\n",
    "\n",
    "dub=[]\n",
    "for i in range(n-1,-1,-1):\n",
    "    dub.append(name[i])\n",
    "\n",
    "name=''.join(name)\n",
    "dub=''.join(dub)\n",
    "\n",
    "if name == dub:\n",
    "    print('Palindrome ')\n",
    "else:\n",
    "    print('Not Palindrome ')"
   ]
  },
  {
   "cell_type": "markdown",
   "metadata": {},
   "source": [
    "**Question 20:** Write a Python program to sort a list of numbers in ascending order."
   ]
  },
  {
   "cell_type": "code",
   "execution_count": 60,
   "metadata": {},
   "outputs": [
    {
     "name": "stdin",
     "output_type": "stream",
     "text": [
      "Enter the size of list :  4\n",
      "Enter element :  6\n",
      "Enter element :  2\n",
      "Enter element :  7\n",
      "Enter element :  4\n"
     ]
    },
    {
     "name": "stdout",
     "output_type": "stream",
     "text": [
      "sorted list is :  [2, 4, 6, 7]\n"
     ]
    }
   ],
   "source": [
    "# Your code here\n",
    "n=int(input(\"Enter the size of list : \"))\n",
    "list1=[]\n",
    "for i in range(n):\n",
    "    a=int(input(\"Enter element : \"))\n",
    "    list1.append(a)\n",
    "\n",
    "list1.sort()\n",
    "print('sorted list is : ', list1)"
   ]
  },
  {
   "cell_type": "code",
   "execution_count": null,
   "metadata": {},
   "outputs": [],
   "source": []
  }
 ],
 "metadata": {
  "kernelspec": {
   "display_name": "Python 3 (ipykernel)",
   "language": "python",
   "name": "python3"
  },
  "language_info": {
   "codemirror_mode": {
    "name": "ipython",
    "version": 3
   },
   "file_extension": ".py",
   "mimetype": "text/x-python",
   "name": "python",
   "nbconvert_exporter": "python",
   "pygments_lexer": "ipython3",
   "version": "3.13.7"
  },
  "widgets": {
   "application/vnd.jupyter.widget-state+json": {
    "state": {},
    "version_major": 2,
    "version_minor": 0
   }
  }
 },
 "nbformat": 4,
 "nbformat_minor": 4
}
