{
 "cells": [
  {
   "cell_type": "markdown",
   "id": "f7e321ea",
   "metadata": {},
   "source": [
    "# Module 2: Control Flow Assignments\n",
    "## Lesson 2.1: Conditional Statements\n",
    "### Assignment 1: Simple if Statement\n",
    "\n",
    "Write a program that asks the user to input a number and prints whether the number is positive.\n",
    "\n",
    "### Assignment 2: if-else Statement\n",
    "\n",
    "Write a program that asks the user to input a number and prints whether the number is positive or negative.\n",
    "\n",
    "### Assignment 3: if-elif-else Statement\n",
    "\n",
    "Write a program that asks the user to input a number and prints whether the number is positive, negative, or zero.\n",
    "\n",
    "### Assignment 4: Nested if Statement\n",
    "\n",
    "Write a program that asks the user to input a number and prints whether the number is positive and even, positive and odd, or negative.\n",
    "\n",
    "## Lesson 2.2: Loops\n",
    "### Assignment 5: for Loop\n",
    "\n",
    "Write a program that prints all the numbers from 1 to 10 using a for loop.\n",
    "\n",
    "### Assignment 6: while Loop\n",
    "\n",
    "Write a program that prints all the numbers from 1 to 10 using a while loop.\n",
    "\n",
    "### Assignment 7: Nested Loops\n",
    "\n",
    "Write a program that prints a 5x5 grid of asterisks (*) using nested loops.\n",
    "\n",
    "### Assignment 8: break Statement\n",
    "\n",
    "Write a program that asks the user to input numbers until they input 0. The program should print the sum of all the input numbers.\n",
    "\n",
    "### Assignment 9: continue Statement\n",
    "\n",
    "Write a program that prints all the numbers from 1 to 10 except 5 using a for loop and continue statement.\n",
    "\n",
    "### Assignment 10: pass Statement\n",
    "\n",
    "Write a program that defines an empty function using the pass statement.\n",
    "\n",
    "### Assignment 11: Combining Loops and Conditionals\n",
    "\n",
    "Write a program that asks the user to input a number and prints all the even numbers from 1 to that number using a for loop.\n",
    "\n",
    "### Assignment 12: Factorial Calculation\n",
    "\n",
    "Write a program that calculates the factorial of a number input by the user using a while loop.\n",
    "\n",
    "### Assignment 13: Sum of Digits\n",
    "\n",
    "Write a program that calculates the sum of the digits of a number input by the user using a while loop.\n",
    "\n",
    "### Assignment 14: Prime Number Check\n",
    "\n",
    "Write a program that checks if a number input by the user is a prime number using a for loop.\n",
    "\n",
    "### Assignment 15: Fibonacci Sequence\n",
    "\n",
    "Write a program that prints the first n Fibonacci numbers, where n is input by the user."
   ]
  },
  {
   "cell_type": "code",
   "execution_count": 2,
   "id": "65a8b23d",
   "metadata": {},
   "outputs": [
    {
     "name": "stdin",
     "output_type": "stream",
     "text": [
      "Enter the number :  -24\n"
     ]
    },
    {
     "name": "stdout",
     "output_type": "stream",
     "text": [
      "Number is not positive  -24\n"
     ]
    }
   ],
   "source": [
    "# Write a program that asks the user to input a number and prints whether the number is positive.\n",
    "\n",
    "n=int(input(\"Enter the number : \" ))\n",
    "if n>0:\n",
    "    print(\"The number is positive \" , n)\n",
    "else:\n",
    "    print(\"Number is not positive \", n)"
   ]
  },
  {
   "cell_type": "code",
   "execution_count": 6,
   "id": "ef0346ab-b6d8-4d3e-b89f-ef7988611e39",
   "metadata": {},
   "outputs": [
    {
     "name": "stdin",
     "output_type": "stream",
     "text": [
      "Enter the number :  90\n"
     ]
    },
    {
     "name": "stdout",
     "output_type": "stream",
     "text": [
      "The Number is Positive \n"
     ]
    }
   ],
   "source": [
    "# Write a program that asks the user to input a number and prints whether the number is positive or negative.\n",
    "\n",
    "n=int(input(\"Enter the number : \"))\n",
    "if n>0:\n",
    "    print(\"The Number is Positive \")\n",
    "elif n<0:\n",
    "    print('The number is Negative ')\n"
   ]
  },
  {
   "cell_type": "code",
   "execution_count": 7,
   "id": "2f465cb1-aee0-4172-81a7-532eff3af65d",
   "metadata": {},
   "outputs": [
    {
     "name": "stdin",
     "output_type": "stream",
     "text": [
      "Enter the number :  0\n"
     ]
    },
    {
     "name": "stdout",
     "output_type": "stream",
     "text": [
      "The nubmer is Zero\n"
     ]
    }
   ],
   "source": [
    "# Write a program that asks the user to input a number and prints whether the number is positive, negative, or zero.\n",
    "\n",
    "n=int(input(\"Enter the number : \"))\n",
    "if n>0:\n",
    "    print(\"The Number is Positive \")\n",
    "elif n<0:\n",
    "    print('The number is Negative ')\n",
    "else:\n",
    "    print(\"The nubmer is Zero\")"
   ]
  },
  {
   "cell_type": "code",
   "execution_count": 10,
   "id": "03514305-7645-4058-9f84-0e46a193af46",
   "metadata": {},
   "outputs": [
    {
     "name": "stdin",
     "output_type": "stream",
     "text": [
      "Enter the number :  -987\n"
     ]
    },
    {
     "name": "stdout",
     "output_type": "stream",
     "text": [
      "The Number is Negative\n"
     ]
    }
   ],
   "source": [
    "# Write a program that asks the user to input a number and prints whether the number is positive \n",
    "# and even, positive and odd, or negative.\n",
    "n=int(input(\"Enter the number : \"))\n",
    "if n>0:\n",
    "    if n%2==0:\n",
    "        print(\"Even Positive Number : \",n)\n",
    "    else:\n",
    "        print(\"Odd Positive Number : \",n)\n",
    "elif n<0:\n",
    "    print(\"The Number is Negative\")"
   ]
  },
  {
   "cell_type": "code",
   "execution_count": 11,
   "id": "5da9e8ac-fedf-4e48-ab42-c7042b747d22",
   "metadata": {},
   "outputs": [
    {
     "name": "stdout",
     "output_type": "stream",
     "text": [
      "1\n",
      "2\n",
      "3\n",
      "4\n",
      "5\n",
      "6\n",
      "7\n",
      "8\n",
      "9\n",
      "10\n"
     ]
    }
   ],
   "source": [
    "# Write a program that prints all the numbers from 1 to 10 using a for loop.\n",
    "for i in range(1,11):\n",
    "    print(i)"
   ]
  },
  {
   "cell_type": "code",
   "execution_count": 3,
   "id": "690edeec-c14f-4ee8-87de-282fe53b1add",
   "metadata": {},
   "outputs": [
    {
     "name": "stdout",
     "output_type": "stream",
     "text": [
      "1\n",
      "2\n",
      "3\n",
      "4\n",
      "5\n",
      "6\n",
      "7\n",
      "8\n",
      "9\n",
      "10\n"
     ]
    }
   ],
   "source": [
    "# Write a program that prints all the numbers from 1 to 10 using a while loop.\n",
    "a=1\n",
    "while a!=11:\n",
    "    print(a)\n",
    "    a+=1"
   ]
  },
  {
   "cell_type": "code",
   "execution_count": 9,
   "id": "19ea0caf-d8e8-46a5-bc0f-8cf15bd224e5",
   "metadata": {},
   "outputs": [
    {
     "name": "stdout",
     "output_type": "stream",
     "text": [
      "* * * * * \n",
      "* * * * * \n",
      "* * * * * \n",
      "* * * * * \n",
      "* * * * * \n"
     ]
    }
   ],
   "source": [
    "# Write a program that prints a 5x5 grid of asterisks (*) using nested loops.\n",
    "for i in range(5):\n",
    "    print('* '*5)"
   ]
  },
  {
   "cell_type": "code",
   "execution_count": 10,
   "id": "f9b975e4-7029-4b2d-8f45-ef71abdd8214",
   "metadata": {},
   "outputs": [
    {
     "name": "stdin",
     "output_type": "stream",
     "text": [
      "Enter the number  7\n",
      "Enter the number  3\n",
      "Enter the number  2\n",
      "Enter the number  5\n",
      "Enter the number  4\n",
      "Enter the number  3\n",
      "Enter the number  5\n",
      "Enter the number  6\n",
      "Enter the number  5\n",
      "Enter the number  64\n",
      "Enter the number  4\n",
      "Enter the number  -543\n",
      "Enter the number  5\n",
      "Enter the number  5654\n",
      "Enter the number  35\n",
      "Enter the number  4\n",
      "Enter the number  -6543\n",
      "Enter the number  0\n"
     ]
    },
    {
     "name": "stdout",
     "output_type": "stream",
     "text": [
      "Result is :  -1280\n"
     ]
    }
   ],
   "source": [
    "# Write a program that asks the user to input numbers until they input 0. The program should print the sum of all\n",
    "# the input numbers.\n",
    "\n",
    "\n",
    "sum=0\n",
    "while True:\n",
    "    n=int(input(\"Enter the number \"))\n",
    "    if n==0:\n",
    "        break\n",
    "    else:\n",
    "        sum += n\n",
    "\n",
    "print(\"Result is : \" , sum)\n",
    "\n"
   ]
  },
  {
   "cell_type": "code",
   "execution_count": 11,
   "id": "81fe69d5-5a92-4c1a-822f-9a478ac793e9",
   "metadata": {},
   "outputs": [
    {
     "name": "stdout",
     "output_type": "stream",
     "text": [
      "1\n",
      "2\n",
      "3\n",
      "4\n",
      "6\n",
      "7\n",
      "8\n",
      "9\n",
      "10\n"
     ]
    }
   ],
   "source": [
    "# Write a program that prints all the numbers from 1 to 10 except 5 using a for loop and continue statement.\n",
    "for i in range(1,11):\n",
    "    if i==5:\n",
    "        continue\n",
    "    print(i)"
   ]
  },
  {
   "cell_type": "code",
   "execution_count": 12,
   "id": "165075a1-591f-4edb-8600-fe2dcc0bd071",
   "metadata": {},
   "outputs": [
    {
     "name": "stdin",
     "output_type": "stream",
     "text": [
      " 89\n"
     ]
    },
    {
     "name": "stdout",
     "output_type": "stream",
     "text": [
      "positive\n"
     ]
    }
   ],
   "source": [
    "# Write a program that defines an empty function using the pass statement.\n",
    "n=int(input())\n",
    "if n>0:\n",
    "    print('positive')\n",
    "    if n%2==0:\n",
    "        pass\n",
    "    else:\n",
    "        pass\n",
    "else:\n",
    "    pass"
   ]
  },
  {
   "cell_type": "code",
   "execution_count": 14,
   "id": "e71a55f8-fd56-4f2a-b1fd-e995461c1d7d",
   "metadata": {},
   "outputs": [
    {
     "name": "stdin",
     "output_type": "stream",
     "text": [
      "Enter a Number :  11\n"
     ]
    },
    {
     "name": "stdout",
     "output_type": "stream",
     "text": [
      "2\n",
      "4\n",
      "6\n",
      "8\n",
      "10\n"
     ]
    }
   ],
   "source": [
    "# Write a program that asks the user to input a number and prints all the even numbers from 1 to that number using a for loop.\n",
    "\n",
    "a=int(input(\"Enter a Number : \"))\n",
    "for i in range(1,a):\n",
    "    if i%2==0:\n",
    "        print(i)"
   ]
  },
  {
   "cell_type": "code",
   "execution_count": 18,
   "id": "f3b7f49a-c117-46d7-b086-a698a0e5ff15",
   "metadata": {},
   "outputs": [
    {
     "name": "stdin",
     "output_type": "stream",
     "text": [
      "Enter the Number :  5\n"
     ]
    },
    {
     "name": "stdout",
     "output_type": "stream",
     "text": [
      "The Factorial of 5 is : 120\n"
     ]
    }
   ],
   "source": [
    "# Write a program that calculates the factorial of a number input by the user using a while loop.\n",
    "factorial=int(input(\"Enter the Number : \"))\n",
    "res=1\n",
    "for i in range(1,factorial+1):\n",
    "    res *= i\n",
    "print(f\"The Factorial of {factorial} is : {res}\")"
   ]
  },
  {
   "cell_type": "code",
   "execution_count": 26,
   "id": "6c115397-5857-4641-992c-b7a287bca8e1",
   "metadata": {},
   "outputs": [
    {
     "name": "stdin",
     "output_type": "stream",
     "text": [
      "Enter a number  10\n"
     ]
    },
    {
     "name": "stdout",
     "output_type": "stream",
     "text": [
      "0  +  10  =  10\n",
      "10  +  9  =  19\n",
      "19  +  8  =  27\n",
      "27  +  7  =  34\n",
      "34  +  6  =  40\n",
      "40  +  5  =  45\n",
      "45  +  4  =  49\n",
      "49  +  3  =  52\n",
      "52  +  2  =  54\n",
      "54  +  1  =  55\n",
      "The Sum of digit is  55\n"
     ]
    }
   ],
   "source": [
    "# Write a program that calculates the sum of the digits of a number input by the user using a while loop.\n",
    "\n",
    "a=int(input(\"Enter a number \"))\n",
    "digit=0\n",
    "while a!=0:\n",
    "    print(digit , ' + ' , a , ' = ' , digit+a)\n",
    "    digit += a\n",
    "    \n",
    "    a=a-1\n",
    "print('The Sum of digit is ', digit)"
   ]
  },
  {
   "cell_type": "code",
   "execution_count": 30,
   "id": "2f7fd459-ae1a-4b7a-b913-9212c4ee5ff2",
   "metadata": {},
   "outputs": [
    {
     "name": "stdin",
     "output_type": "stream",
     "text": [
      "Enter the Number :  10\n"
     ]
    },
    {
     "name": "stdout",
     "output_type": "stream",
     "text": [
      "10 is not prime \n"
     ]
    }
   ],
   "source": [
    "# Write a program that checks if a number input by the user is a prime number using a for loop.\n",
    "n=int(input(\"Enter the Number : \"))\n",
    "is_prime=True\n",
    "if n<=1:\n",
    "    is_prime=False\n",
    "else:\n",
    "    for i in range(2,int(n**0.5)+1):\n",
    "        if n%2==0:\n",
    "            is_prime=False\n",
    "            break\n",
    "\n",
    "if is_prime:\n",
    "    print(f'{n} is prime ')\n",
    "else:\n",
    "    print(f'{n} is not prime ')\n",
    "\n"
   ]
  },
  {
   "cell_type": "code",
   "execution_count": 38,
   "id": "e8974b95-e9b8-43b7-bced-e1edd846f3a6",
   "metadata": {},
   "outputs": [
    {
     "name": "stdin",
     "output_type": "stream",
     "text": [
      "Enter a number :  8\n"
     ]
    },
    {
     "name": "stdout",
     "output_type": "stream",
     "text": [
      "0, 1, 1, 2, 3, 5, 8, 13, "
     ]
    }
   ],
   "source": [
    "# Write a program that prints the first n Fibonacci numbers, where n is input by the user.\n",
    "\n",
    "a=int(input(\"Enter a number : \"))\n",
    "b , c= 0,1\n",
    "count =0\n",
    "while count<a:\n",
    "    print(b,end=\", \")\n",
    "    b,c=c,b+c\n",
    "    count += 1\n",
    "    \n",
    "    "
   ]
  },
  {
   "cell_type": "code",
   "execution_count": null,
   "id": "4091f73d-bfe3-4188-8f00-16f0655965be",
   "metadata": {},
   "outputs": [],
   "source": []
  }
 ],
 "metadata": {
  "kernelspec": {
   "display_name": "Python 3 (ipykernel)",
   "language": "python",
   "name": "python3"
  },
  "language_info": {
   "codemirror_mode": {
    "name": "ipython",
    "version": 3
   },
   "file_extension": ".py",
   "mimetype": "text/x-python",
   "name": "python",
   "nbconvert_exporter": "python",
   "pygments_lexer": "ipython3",
   "version": "3.13.7"
  },
  "widgets": {
   "application/vnd.jupyter.widget-state+json": {
    "state": {},
    "version_major": 2,
    "version_minor": 0
   }
  }
 },
 "nbformat": 4,
 "nbformat_minor": 5
}
