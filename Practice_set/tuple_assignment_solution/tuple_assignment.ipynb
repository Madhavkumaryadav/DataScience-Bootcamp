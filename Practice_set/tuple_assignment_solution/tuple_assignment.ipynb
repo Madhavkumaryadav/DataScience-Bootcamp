{
 "cells": [
  {
   "cell_type": "code",
   "execution_count": 3,
   "id": "c0a92f09",
   "metadata": {},
   "outputs": [
    {
     "name": "stdout",
     "output_type": "stream",
     "text": [
      "1\n",
      "2\n",
      "3\n",
      "4\n",
      "5\n",
      "6\n",
      "7\n",
      "8\n",
      "9\n",
      "10\n"
     ]
    }
   ],
   "source": [
    "# Assignment 1: Creating and Accessing Tuples\n",
    "# Create a tuple with the first 10 positive integers. Print the tuple.\n",
    "\n",
    "tup1=(i for i in range(1,11))\n",
    "for i in tup1:\n",
    "    print(i)\n",
    "    "
   ]
  },
  {
   "cell_type": "code",
   "execution_count": 4,
   "id": "5c211bc2-1900-44a7-a623-425d6623f3f1",
   "metadata": {},
   "outputs": [
    {
     "name": "stdout",
     "output_type": "stream",
     "text": [
      "1\n",
      "[2, 3, 4, 5, 6]\n",
      "7\n"
     ]
    }
   ],
   "source": [
    "# Assignment 2: Accessing Tuple Elements\n",
    "# Print the first, middle, and last elements of the tuple created in Assignment 1.\n",
    "\n",
    "tupple=(1,2,3,4,5,6,7)\n",
    "first,*middle,last=tupple\n",
    "print(first)\n",
    "print(middle)\n",
    "print(last)"
   ]
  },
  {
   "cell_type": "code",
   "execution_count": 7,
   "id": "295b289a-9157-40fa-8a18-c73d037a9eb6",
   "metadata": {},
   "outputs": [
    {
     "name": "stdout",
     "output_type": "stream",
     "text": [
      "(1, 2, 3)\n",
      "(4, 5, 6)\n",
      "(3, 4, 5)\n"
     ]
    }
   ],
   "source": [
    "# Assignment 3: Tuple Slicing\n",
    "# Print the first three elements, the last three elements, and the elements from index 2 to 5 of the tuple created in Assignment 1.\n",
    "\n",
    "print(tupple[0:3])\n",
    "print(tupple[-4:-1])\n",
    "print(tupple[2:5])"
   ]
  },
  {
   "cell_type": "code",
   "execution_count": 7,
   "id": "e13bcaf5-700d-4b9e-9fce-e138a5412f2d",
   "metadata": {},
   "outputs": [
    {
     "name": "stdout",
     "output_type": "stream",
     "text": [
      "(1, 2, 3, 4)\n",
      "('madhav', 'kumar')\n",
      "(3.43, 42.1, 4.67, 87.65)\n",
      "accessing :  kumar\n",
      "Accessing element :  4.67\n",
      "Accessing element :  3\n"
     ]
    }
   ],
   "source": [
    "# Assignment 4: Nested Tuples\n",
    "# Create a nested tuple representing a 3x3 matrix and print the matrix. Access and print the element at the\n",
    "# second row and third column.\n",
    "\n",
    "nested_tup=((1,2,3,4),('madhav','kumar'),(3.43,42.1,4.67,87.65))\n",
    "for i in nested_tup:\n",
    "    print(i)\n",
    "\n",
    "print('accessing : ', nested_tup[1][1])\n",
    "print('Accessing element : ', nested_tup[2][2])\n",
    "print('Accessing element : ', nested_tup[0][2])\n"
   ]
  },
  {
   "cell_type": "markdown",
   "id": "9e6c9667-122e-4363-8f81-49e1963a7e8a",
   "metadata": {},
   "source": [
    "### Assignment 5: Tuple Concatenation\n",
    "\n",
    "Concatenate two tuples: (1, 2, 3) and (4, 5, 6). Print the resulting tuple.\n"
   ]
  },
  {
   "cell_type": "code",
   "execution_count": 9,
   "id": "bb4407e4-b7cf-45dd-9ce5-aaaf329006f2",
   "metadata": {},
   "outputs": [
    {
     "name": "stdout",
     "output_type": "stream",
     "text": [
      "(1, 2, 3, 4, 5, 6)\n"
     ]
    }
   ],
   "source": [
    "tup1=(1,2,3)\n",
    "tup2=(4,5,6)\n",
    "print(tup1+tup2)"
   ]
  },
  {
   "cell_type": "markdown",
   "id": "6c8c39d5-8974-482a-ad53-8128db354e91",
   "metadata": {},
   "source": [
    "### Assignment 6: Tuple Methods\n",
    "\n",
    "Create a tuple with duplicate elements and count the occurrences of an element. Find the index of the first occurrence of an element in the tuple."
   ]
  },
  {
   "cell_type": "code",
   "execution_count": 10,
   "id": "f1208b20-366b-471c-9be0-c602849e967f",
   "metadata": {},
   "outputs": [
    {
     "name": "stdout",
     "output_type": "stream",
     "text": [
      "occuranges of 4 :  8\n",
      "Index of 2 :  3\n"
     ]
    }
   ],
   "source": [
    "dublicate=(1,1,1,2,2,2,2,2,3,3,3,3,3,4,4,4,4,4,4,4,4,5,5,5,5,5)\n",
    "\n",
    "# occurances \n",
    "print('occuranges of 4 : ' , dublicate.count(4))\n",
    "print('Index of 2 : ' , dublicate.index(2))"
   ]
  },
  {
   "cell_type": "markdown",
   "id": "589904eb-b12d-4584-a8ef-fc1b63e0fdf8",
   "metadata": {},
   "source": [
    "### Assignment 7: Unpacking Tuples\n",
    "\n",
    "Create a tuple with 5 elements and unpack it into 5 variables. Print the variables."
   ]
  },
  {
   "cell_type": "code",
   "execution_count": 12,
   "id": "d9d59d12-b4d1-4778-b249-2821b21cd054",
   "metadata": {},
   "outputs": [
    {
     "name": "stdout",
     "output_type": "stream",
     "text": [
      "1\n",
      "2\n",
      "3\n",
      "4\n",
      "5\n"
     ]
    }
   ],
   "source": [
    "tup5=(1,2,3,4,5)\n",
    "# Unpacking \n",
    "a,b,c,d,e=tup5\n",
    "print(a)\n",
    "print(b)\n",
    "print(c)\n",
    "print(d)\n",
    "print(e)"
   ]
  },
  {
   "cell_type": "markdown",
   "id": "1b347323-071e-4712-a62e-eb053a4a508b",
   "metadata": {},
   "source": [
    "### Assignment 8: Tuple Conversion\n",
    "\n",
    "Convert a list of the first 5 positive integers to a tuple. Print the tuple."
   ]
  },
  {
   "cell_type": "code",
   "execution_count": 13,
   "id": "78a6cab6-1027-4d1b-9235-b36f265e907a",
   "metadata": {},
   "outputs": [
    {
     "name": "stdout",
     "output_type": "stream",
     "text": [
      "<class 'list'>\n",
      "[1, 2, 3, 4, 5, 6]\n",
      "<class 'tuple'>\n",
      "(1, 2, 3, 4, 5, 6)\n"
     ]
    }
   ],
   "source": [
    "lst=[1,2,3,4,5,6]\n",
    "print(type(lst))\n",
    "print(lst)\n",
    "lst=tuple(lst)\n",
    "print(type(lst))\n",
    "print(lst)"
   ]
  },
  {
   "cell_type": "markdown",
   "id": "3d998362-fc94-4203-9579-3a387fcdd6cb",
   "metadata": {},
   "source": [
    "### Assignment 9: Tuple of Tuples\n",
    "\n",
    "Create a tuple containing 3 tuples, each with 3 elements. Print the tuple of tuples.\n"
   ]
  },
  {
   "cell_type": "code",
   "execution_count": 14,
   "id": "8b885d57-4048-47e5-aed8-0b8137e1f494",
   "metadata": {},
   "outputs": [
    {
     "name": "stdout",
     "output_type": "stream",
     "text": [
      "1 2 3 \n",
      "4 5 6 \n",
      "7 8 9 \n"
     ]
    }
   ],
   "source": [
    "tup=((1,2,3),(4,5,6),(7,8,9))\n",
    "for tup1 in tup:\n",
    "    for i in tup1:\n",
    "        print(i,end=\" \")\n",
    "    print()"
   ]
  },
  {
   "cell_type": "markdown",
   "id": "39329521-e55c-4c64-ac3e-94808154b14f",
   "metadata": {},
   "source": [
    "### Assignment 10: Tuple and List\n",
    "\n",
    "Create a tuple with the first 5 positive integers. Convert it to a list, append the number 6, and convert it back to a tuple. Print the resulting tuple.\n"
   ]
  },
  {
   "cell_type": "code",
   "execution_count": 16,
   "id": "dd327312-4628-4bc5-ab75-7ccc49714cd1",
   "metadata": {},
   "outputs": [
    {
     "name": "stdout",
     "output_type": "stream",
     "text": [
      "<class 'tuple'>\n",
      "[1, 2, 3, 4, 5]\n",
      "<class 'list'>\n",
      "<class 'tuple'>\n",
      "(1, 2, 3, 4, 5, 5)\n"
     ]
    }
   ],
   "source": [
    "positive_integer=(1,2,3,4,5)\n",
    "print(type(positive_integer))\n",
    "positive_integer=list(positive_integer)\n",
    "print(positive_integer)\n",
    "print(type(positive_integer))\n",
    "positive_integer.append(5)\n",
    "positive_integer=tuple(positive_integer)\n",
    "print(type( positive_integer))\n",
    "print(positive_integer)"
   ]
  },
  {
   "cell_type": "markdown",
   "id": "5253e73a-a008-4a9f-b17e-01c0a6277273",
   "metadata": {},
   "source": [
    "### Assignment 11: Tuple and String\n",
    "\n",
    "Create a tuple with the characters of a string. Join the tuple elements into a single string. Print the string.\n"
   ]
  },
  {
   "cell_type": "code",
   "execution_count": 17,
   "id": "76876c75-7918-4fc6-ab05-1a622a342fd5",
   "metadata": {},
   "outputs": [
    {
     "name": "stdout",
     "output_type": "stream",
     "text": [
      "('m', 'a', 'd', 'h', 'a', 'v')\n",
      "madhav\n"
     ]
    }
   ],
   "source": [
    "name=('m','a','d','h','a','v')\n",
    "print(name)\n",
    "print(''.join(name))"
   ]
  },
  {
   "cell_type": "markdown",
   "id": "d19ffee4-2b39-4569-ac2b-3e7ed09639d5",
   "metadata": {},
   "source": [
    "### Assignment 12: Tuple and Dictionary\n",
    "\n",
    "Create a dictionary with tuple keys and integer values. Print the dictionary.\n"
   ]
  },
  {
   "cell_type": "code",
   "execution_count": 20,
   "id": "188963fd-65e7-443c-a5a5-53f029919fff",
   "metadata": {},
   "outputs": [
    {
     "data": {
      "text/plain": [
       "{(1, 2): 3, (3, 4): 9, (8, 9): 11}"
      ]
     },
     "execution_count": 20,
     "metadata": {},
     "output_type": "execute_result"
    }
   ],
   "source": [
    "tup_dict={\n",
    "    (1,2):3,\n",
    "    (3,4):9,\n",
    "    (8,9) : 11\n",
    "}\n",
    "tup_dict"
   ]
  },
  {
   "cell_type": "markdown",
   "id": "a83035c5-5555-4a0c-84b0-fc3f2798097a",
   "metadata": {},
   "source": [
    "### Assignment 13: Nested Tuple Iteration\n",
    "Create a nested tuple and iterate over the elements, printing each element."
   ]
  },
  {
   "cell_type": "code",
   "execution_count": 21,
   "id": "0e71f246-4d6d-4a1e-b3dc-642db9f9cb65",
   "metadata": {},
   "outputs": [
    {
     "name": "stdout",
     "output_type": "stream",
     "text": [
      "1\n",
      "2\n",
      "3\n",
      "4\n",
      "5\n",
      "6\n",
      "ma\n",
      "dh\n",
      "av\n"
     ]
    }
   ],
   "source": [
    "nest_tup=((1,2,3),(4,5,6),('ma','dh','av'))\n",
    "for i in nest_tup:\n",
    "    for j in i:\n",
    "        print(j)"
   ]
  },
  {
   "cell_type": "markdown",
   "id": "64138f29-99bd-4e1c-b3b2-c5fe079de048",
   "metadata": {},
   "source": [
    "### Assignment 14: Tuple and Set\n",
    "Create a tuple with duplicate elements. Convert it to a set to remove duplicates and print the resulting set."
   ]
  },
  {
   "cell_type": "code",
   "execution_count": 23,
   "id": "0be2ad8b-6d23-4cb5-84dc-a4b640a30312",
   "metadata": {},
   "outputs": [
    {
     "name": "stdout",
     "output_type": "stream",
     "text": [
      "(1, 1, 1, 2, 2, 2, 3, 3, 3, 4, 5, 5, 6, 6, 7, 8, 8)\n",
      "<class 'tuple'>\n",
      "{1, 2, 3, 4, 5, 6, 7, 8}\n",
      "<class 'set'>\n"
     ]
    }
   ],
   "source": [
    "dub_tup=(1,1,1,2,2,2,3,3,3,4,5,5,6,6,7,8,8)\n",
    "print(dub_tup)\n",
    "print(type(dub_tup))\n",
    "dub_tup=set(dub_tup)\n",
    "print(dub_tup)\n",
    "print(type(dub_tup))"
   ]
  },
  {
   "cell_type": "markdown",
   "id": "8209061a-ae7e-4910-8630-30901b6c4204",
   "metadata": {},
   "source": [
    "### Assignment 15: Tuple Functions\n",
    "Write functions that take a tuple and return the minimum, maximum, and sum of the elements. Print the results for a sample tuple."
   ]
  },
  {
   "cell_type": "code",
   "execution_count": 24,
   "id": "21789a92-c462-49c4-a0ab-d0370b78ad7d",
   "metadata": {},
   "outputs": [
    {
     "name": "stdout",
     "output_type": "stream",
     "text": [
      "(2, 5643, 10871)\n"
     ]
    }
   ],
   "source": [
    "def result(tup):\n",
    "    mi,mx,sm=min(tup),max(tup),sum(tup)\n",
    "    return mi,mx,sm\n",
    "\n",
    "tup=(2,3,4,5,6,4,2,4,5,4433,234,54,323,4,5,54,9,32,45,5643)\n",
    "res=result(tup)\n",
    "print(res)"
   ]
  },
  {
   "cell_type": "code",
   "execution_count": null,
   "id": "3095c0eb-64ee-4df7-a5bf-fbcf1639490a",
   "metadata": {},
   "outputs": [],
   "source": []
  }
 ],
 "metadata": {
  "kernelspec": {
   "display_name": "Python 3 (ipykernel)",
   "language": "python",
   "name": "python3"
  },
  "language_info": {
   "codemirror_mode": {
    "name": "ipython",
    "version": 3
   },
   "file_extension": ".py",
   "mimetype": "text/x-python",
   "name": "python",
   "nbconvert_exporter": "python",
   "pygments_lexer": "ipython3",
   "version": "3.13.7"
  },
  "widgets": {
   "application/vnd.jupyter.widget-state+json": {
    "state": {},
    "version_major": 2,
    "version_minor": 0
   }
  }
 },
 "nbformat": 4,
 "nbformat_minor": 5
}
