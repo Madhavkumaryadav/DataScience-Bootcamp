{
 "cells": [
  {
   "cell_type": "markdown",
   "id": "60cef3c1-0aae-44a9-999e-2da47c4cc441",
   "metadata": {},
   "source": [
    "## Importing Moudles in Phton : MOdules and packages \n",
    "\n",
    "In Python, Modules and packages help organize and reuse code. Here's comprehensive guide on hoow to import htem "
   ]
  },
  {
   "cell_type": "code",
   "execution_count": 1,
   "id": "c3f1b494-f61b-4ff5-8a7a-62f79bfe1e9a",
   "metadata": {},
   "outputs": [
    {
     "data": {
      "text/plain": [
       "4.0"
      ]
     },
     "execution_count": 1,
     "metadata": {},
     "output_type": "execute_result"
    }
   ],
   "source": [
    "import math\n",
    "math.sqrt(16)"
   ]
  },
  {
   "cell_type": "code",
   "execution_count": 2,
   "id": "cfac63e0-c47b-4c23-b94a-e8d4a25ec4c9",
   "metadata": {},
   "outputs": [
    {
     "name": "stdout",
     "output_type": "stream",
     "text": [
      "3.872983346207417\n",
      "3.141592653589793\n"
     ]
    }
   ],
   "source": [
    "from math  import sqrt,pi\n",
    "print(sqrt(15))\n",
    "print(pi)"
   ]
  },
  {
   "cell_type": "code",
   "execution_count": 4,
   "id": "66d6080b-a811-4120-9735-bd3759e46dad",
   "metadata": {},
   "outputs": [
    {
     "name": "stdout",
     "output_type": "stream",
     "text": [
      "Collecting numpy\n",
      "  Using cached numpy-2.3.3-cp313-cp313-win_amd64.whl.metadata (60 kB)\n",
      "Using cached numpy-2.3.3-cp313-cp313-win_amd64.whl (12.8 MB)\n",
      "Installing collected packages: numpy\n",
      "Successfully installed numpy-2.3.3\n"
     ]
    }
   ],
   "source": [
    "!pip install numpy"
   ]
  },
  {
   "cell_type": "code",
   "execution_count": 5,
   "id": "f327c8ac-5ae7-461d-9c42-57ac3cecb916",
   "metadata": {},
   "outputs": [
    {
     "name": "stdout",
     "output_type": "stream",
     "text": [
      "[1 2 3 4 5]\n",
      "<class 'numpy.ndarray'>\n"
     ]
    }
   ],
   "source": [
    "import numpy as np\n",
    "a=np.array([1,2,3,4,5])\n",
    "print(a)\n",
    "print(type(a))"
   ]
  },
  {
   "cell_type": "code",
   "execution_count": 6,
   "id": "929d0e82-4eea-49c2-81e7-1cc17c8de5ce",
   "metadata": {},
   "outputs": [],
   "source": [
    "from math import*"
   ]
  },
  {
   "cell_type": "code",
   "execution_count": 11,
   "id": "c9bc9876-8507-4d15-9a92-3c844781f1bc",
   "metadata": {},
   "outputs": [
    {
     "name": "stdout",
     "output_type": "stream",
     "text": [
      "4.0\n",
      "3.141592653589793\n",
      "1.0\n"
     ]
    }
   ],
   "source": [
    "print(sqrt(16))\n",
    "print(pi)\n",
    "print(cos(0))\n",
    "\n"
   ]
  },
  {
   "cell_type": "code",
   "execution_count": 13,
   "id": "e9905cfb-5715-4ff4-a99a-84b20e3ea09f",
   "metadata": {},
   "outputs": [],
   "source": [
    "from package.maths import*"
   ]
  },
  {
   "cell_type": "code",
   "execution_count": 14,
   "id": "af0c7af9-c478-4361-9527-07b5a2b2cab8",
   "metadata": {},
   "outputs": [
    {
     "ename": "NameError",
     "evalue": "name 'addition' is not defined",
     "output_type": "error",
     "traceback": [
      "\u001b[31m---------------------------------------------------------------------------\u001b[39m",
      "\u001b[31mNameError\u001b[39m                                 Traceback (most recent call last)",
      "\u001b[36mCell\u001b[39m\u001b[36m \u001b[39m\u001b[32mIn[14]\u001b[39m\u001b[32m, line 1\u001b[39m\n\u001b[32m----> \u001b[39m\u001b[32m1\u001b[39m \u001b[43maddition\u001b[49m(\u001b[32m9\u001b[39m,\u001b[32m20\u001b[39m)\n",
      "\u001b[31mNameError\u001b[39m: name 'addition' is not defined"
     ]
    }
   ],
   "source": [
    "addition(9,20)\n"
   ]
  },
  {
   "cell_type": "code",
   "execution_count": null,
   "id": "778a1270-030c-44c3-be14-df80e5227cfe",
   "metadata": {},
   "outputs": [],
   "source": []
  }
 ],
 "metadata": {
  "kernelspec": {
   "display_name": "Python 3 (ipykernel)",
   "language": "python",
   "name": "python3"
  },
  "language_info": {
   "codemirror_mode": {
    "name": "ipython",
    "version": 3
   },
   "file_extension": ".py",
   "mimetype": "text/x-python",
   "name": "python",
   "nbconvert_exporter": "python",
   "pygments_lexer": "ipython3",
   "version": "3.13.7"
  },
  "widgets": {
   "application/vnd.jupyter.widget-state+json": {
    "state": {},
    "version_major": 2,
    "version_minor": 0
   }
  }
 },
 "nbformat": 4,
 "nbformat_minor": 5
}
