{
 "cells": [
  {
   "cell_type": "markdown",
   "id": "f5c5befa-dbfa-45c3-b633-3204239645ee",
   "metadata": {},
   "source": [
    "## Conditional Statement (if,elif,else)"
   ]
  },
  {
   "cell_type": "code",
   "execution_count": 2,
   "id": "d598d88c-2978-4780-b229-320d4c9c2603",
   "metadata": {},
   "outputs": [
    {
     "name": "stdout",
     "output_type": "stream",
     "text": [
      "You are allowed to vote in the electoions\n"
     ]
    }
   ],
   "source": [
    "## if statement \n",
    "## if statement that is the evaluate the condition \n",
    "age=20\n",
    "\n",
    "if age >=20:\n",
    "    print('You are allowed to vote in the electoions')"
   ]
  },
  {
   "cell_type": "code",
   "execution_count": 3,
   "id": "96f29c83-2b47-42cb-aa45-8b9d27011b20",
   "metadata": {},
   "outputs": [
    {
     "name": "stdout",
     "output_type": "stream",
     "text": [
      "You are a minor\n"
     ]
    }
   ],
   "source": [
    "# else\n",
    "# the else statement executes a block of code if the dcondition in the statement if False\n",
    "\n",
    "age =16\n",
    "if age >= 18 : \n",
    "    print('You are eligible for voting ')\n",
    "else:\n",
    "    print('You are a minor')"
   ]
  },
  {
   "cell_type": "code",
   "execution_count": 4,
   "id": "5a4cc2ad-3c77-4ddc-af51-ee729a612d27",
   "metadata": {},
   "outputs": [
    {
     "name": "stdout",
     "output_type": "stream",
     "text": [
      "you are an adult\n"
     ]
    }
   ],
   "source": [
    "## elif \n",
    "## The elif statement allows you to check multiple conditions. It stand for 'else if'\n",
    "\n",
    "age=20\n",
    "if age<13:\n",
    "    print(\"you are a child\")\n",
    "elif age<18:\n",
    "    print('you are a teenager')\n",
    "else:\n",
    "    print('you are an adult')\n",
    "    "
   ]
  },
  {
   "cell_type": "code",
   "execution_count": 8,
   "id": "5d4f4c1f-69e3-4ec3-82cd-037bab900776",
   "metadata": {},
   "outputs": [
    {
     "name": "stdin",
     "output_type": "stream",
     "text": [
      "Enter the number :  -09284\n"
     ]
    },
    {
     "name": "stdout",
     "output_type": "stream",
     "text": [
      "The Number is Zero or Negative \n"
     ]
    }
   ],
   "source": [
    "## Nested Conditional Statements \n",
    "## You can place one or more if , elif or else statements \n",
    "## inside another if, elif, or else statement to create nested conditional statements\n",
    "\n",
    "## Number even ,odd,negative\n",
    "\n",
    "num=int(input('Enter the number : '))\n",
    "\n",
    "if num>0:\n",
    "    print('The number is positive')\n",
    "    if num%2==0:\n",
    "        print('The number is Even')\n",
    "    else:\n",
    "        print('The Number is odd')\n",
    "else:\n",
    "    print('The Number is Zero or Negative ')"
   ]
  },
  {
   "cell_type": "code",
   "execution_count": 10,
   "id": "d8bb8a5b-39a5-4c97-b06d-766a7dac48ca",
   "metadata": {},
   "outputs": [
    {
     "name": "stdin",
     "output_type": "stream",
     "text": [
      "Enter the year :  2024\n"
     ]
    },
    {
     "name": "stdout",
     "output_type": "stream",
     "text": [
      "2024  is a leap year \n"
     ]
    }
   ],
   "source": [
    "## Practical Example \n",
    "\n",
    "## Determine if a year is a leap year using nested condition statement \n",
    "\n",
    "year=int(input('Enter the year : '))\n",
    "\n",
    "if (year % 4 == 0 ):\n",
    "    if year % 100 ==0:\n",
    "        if  year % 400 ==0 :\n",
    "            print(year,' is a leap year')\n",
    "        else:\n",
    "            print(year, ' is a not leap year')\n",
    "    else:\n",
    "        print(year,' is a leap year ')\n",
    "else:\n",
    "    print(year, ' is not a leap year ')"
   ]
  },
  {
   "cell_type": "code",
   "execution_count": 11,
   "id": "ebd4d005-1d3d-4b2e-b14b-e1c28bfd438a",
   "metadata": {},
   "outputs": [],
   "source": [
    "## Assingment \n",
    "## simple calculator program \n"
   ]
  },
  {
   "cell_type": "markdown",
   "id": "6f39abe0-3583-4eed-933f-f8545635a435",
   "metadata": {},
   "source": [
    "## Loop"
   ]
  },
  {
   "cell_type": "code",
   "execution_count": 12,
   "id": "74234398-e1b2-4f0e-bceb-45c55b7eeb12",
   "metadata": {},
   "outputs": [
    {
     "name": "stdout",
     "output_type": "stream",
     "text": [
      "0\n",
      "1\n",
      "2\n",
      "3\n",
      "4\n"
     ]
    }
   ],
   "source": [
    "## for loop\n",
    "\n",
    "for i in range(5):\n",
    "    print(i)"
   ]
  },
  {
   "cell_type": "code",
   "execution_count": 13,
   "id": "369c83c5-8b78-4ca5-b2d1-b4e74f8d154b",
   "metadata": {},
   "outputs": [
    {
     "name": "stdout",
     "output_type": "stream",
     "text": [
      "1\n",
      "2\n",
      "3\n",
      "4\n",
      "5\n"
     ]
    }
   ],
   "source": [
    "for i in range(1,6):\n",
    "    print(i)"
   ]
  },
  {
   "cell_type": "code",
   "execution_count": 14,
   "id": "94b4eedc-fc3b-44b9-985a-21389f1739c9",
   "metadata": {},
   "outputs": [
    {
     "name": "stdout",
     "output_type": "stream",
     "text": [
      "1\n",
      "3\n",
      "5\n",
      "7\n",
      "9\n"
     ]
    }
   ],
   "source": [
    "for i in range(1,10,2):\n",
    "    print(i)"
   ]
  },
  {
   "cell_type": "code",
   "execution_count": 15,
   "id": "06005fbf-fdef-4387-9ad8-6d8c80c82d17",
   "metadata": {},
   "outputs": [
    {
     "name": "stdout",
     "output_type": "stream",
     "text": [
      "10\n",
      "9\n",
      "8\n",
      "7\n",
      "6\n",
      "5\n",
      "4\n",
      "3\n",
      "2\n"
     ]
    }
   ],
   "source": [
    "for i in range(10,1,-1):\n",
    "    print(i)"
   ]
  },
  {
   "cell_type": "code",
   "execution_count": 16,
   "id": "e71d6e99-3405-433d-9af0-b98a9789bd27",
   "metadata": {},
   "outputs": [
    {
     "name": "stdout",
     "output_type": "stream",
     "text": [
      "10\n",
      "8\n",
      "6\n",
      "4\n",
      "2\n"
     ]
    }
   ],
   "source": [
    "for i in range(10,1,-2):\n",
    "    print(i)"
   ]
  },
  {
   "cell_type": "code",
   "execution_count": 17,
   "id": "8d43a88f-6b04-4b3d-80c8-fd49c7c7dd21",
   "metadata": {},
   "outputs": [
    {
     "name": "stdout",
     "output_type": "stream",
     "text": [
      "M\n",
      "a\n",
      "d\n",
      "h\n",
      "a\n",
      "v\n",
      " \n",
      "K\n",
      "u\n",
      "m\n",
      "a\n",
      "r\n"
     ]
    }
   ],
   "source": [
    "str='Madhav Kumar'\n",
    "\n",
    "for i in str:\n",
    "    print(i)"
   ]
  },
  {
   "cell_type": "code",
   "execution_count": 18,
   "id": "9e123573-a3a0-4570-a696-68fd492362cc",
   "metadata": {},
   "outputs": [
    {
     "name": "stdout",
     "output_type": "stream",
     "text": [
      "0\n",
      "1\n",
      "2\n",
      "3\n",
      "4\n"
     ]
    }
   ],
   "source": [
    "## while loop\n",
    "\n",
    "## The while loop continues to execute as long as the condition is True\n",
    "\n",
    "count =0\n",
    "\n",
    "while count < 5:\n",
    "    print(count)\n",
    "    count=count + 1  "
   ]
  },
  {
   "cell_type": "code",
   "execution_count": 21,
   "id": "e428a83d-2f8a-43d2-8b94-eec370d48f49",
   "metadata": {},
   "outputs": [
    {
     "name": "stdout",
     "output_type": "stream",
     "text": [
      "8\n"
     ]
    }
   ],
   "source": [
    "count=8\n",
    "\n",
    "while count % 2==0:\n",
    "    print(count)\n",
    "    count=count+1"
   ]
  },
  {
   "cell_type": "code",
   "execution_count": 22,
   "id": "b62262b0-0d9c-460f-9207-0b5e919dbe77",
   "metadata": {},
   "outputs": [
    {
     "name": "stdout",
     "output_type": "stream",
     "text": [
      "0\n",
      "1\n",
      "2\n",
      "3\n",
      "4\n"
     ]
    }
   ],
   "source": [
    "## Loop control Statements \n",
    "\n",
    "# break\n",
    "# The break statement exits the loop permatuerly \n",
    "\n",
    "# break statement\n",
    "\n",
    "for i in range(10):\n",
    "    if i==5:\n",
    "        break\n",
    "    print(i)"
   ]
  },
  {
   "cell_type": "code",
   "execution_count": 23,
   "id": "65e0d64d-11f7-4f8f-9b52-85123a145d28",
   "metadata": {},
   "outputs": [
    {
     "name": "stdout",
     "output_type": "stream",
     "text": [
      "1\n",
      "3\n",
      "5\n",
      "7\n",
      "9\n"
     ]
    }
   ],
   "source": [
    "## continue\n",
    "\n",
    "## The continue statement skips the current iteration and continues with the next \n",
    "\n",
    "for i in range(10):\n",
    "    if i%2==0:\n",
    "        continue\n",
    "    print(i)"
   ]
  },
  {
   "cell_type": "code",
   "execution_count": 26,
   "id": "f57f9b13-40bf-4163-ab4c-173477673d13",
   "metadata": {},
   "outputs": [
    {
     "name": "stdout",
     "output_type": "stream",
     "text": [
      "0\n",
      "1\n",
      "2\n",
      "This number is skipped 3\n",
      "3\n",
      "4\n"
     ]
    }
   ],
   "source": [
    "## pass\n",
    "\n",
    "## The pass statement is a null operation; it does nothing.\n",
    "\n",
    "for i in range(5):\n",
    "    if i==3:\n",
    "        print('This number is skipped',i)\n",
    "        pass\n",
    "    print(i)"
   ]
  },
  {
   "cell_type": "code",
   "execution_count": 27,
   "id": "01336afc-a7aa-4f43-ac19-1276167b4f2e",
   "metadata": {},
   "outputs": [
    {
     "name": "stdout",
     "output_type": "stream",
     "text": [
      "i : 0 and j : 0\n",
      "i : 0 and j : 1\n",
      "i : 1 and j : 0\n",
      "i : 1 and j : 1\n",
      "i : 2 and j : 0\n",
      "i : 2 and j : 1\n"
     ]
    }
   ],
   "source": [
    "## Nested Loops \n",
    "## A loop inside a loop\n",
    "\n",
    "for i in range(3):\n",
    "    for j in range(2):\n",
    "        print(f\"i : {i} and j : {j}\")\n",
    "        "
   ]
  },
  {
   "cell_type": "code",
   "execution_count": 28,
   "id": "663e9e4b-9565-4f3c-8b97-a8196080c840",
   "metadata": {},
   "outputs": [
    {
     "name": "stdout",
     "output_type": "stream",
     "text": [
      "Sum of first 10 Natural Numbers :  55\n"
     ]
    }
   ],
   "source": [
    "## Examples . Calculate the sum of first N natural numbers using a while and for loop\n",
    "\n",
    "## while loop \n",
    "\n",
    "n=10\n",
    "sum=0\n",
    "count=1\n",
    "\n",
    "while count <=n:\n",
    "    sum = sum + count \n",
    "    count=count + 1\n",
    "print('Sum of first 10 Natural Numbers : ',sum)"
   ]
  },
  {
   "cell_type": "code",
   "execution_count": 29,
   "id": "06299cc2-6430-4dc4-88d4-a41f032493d5",
   "metadata": {},
   "outputs": [
    {
     "name": "stdout",
     "output_type": "stream",
     "text": [
      "55\n"
     ]
    }
   ],
   "source": [
    "n=10\n",
    "sum=0\n",
    "count=1\n",
    "for i in range(11):\n",
    "    sum=sum+i\n",
    "print(sum)"
   ]
  },
  {
   "cell_type": "code",
   "execution_count": 30,
   "id": "26172d8e-89bc-4198-9261-91c23db78e28",
   "metadata": {},
   "outputs": [
    {
     "name": "stdout",
     "output_type": "stream",
     "text": [
      "2\n",
      "3\n",
      "5\n",
      "7\n",
      "11\n",
      "13\n",
      "17\n",
      "19\n",
      "23\n",
      "29\n",
      "31\n",
      "37\n",
      "41\n",
      "43\n",
      "47\n",
      "53\n",
      "59\n",
      "61\n",
      "67\n",
      "71\n",
      "73\n",
      "79\n",
      "83\n",
      "89\n",
      "97\n"
     ]
    }
   ],
   "source": [
    "## Example - Prime Numbers between 1 and 100\n",
    "\n",
    "for num in range(1,101):\n",
    "    if num>1:\n",
    "        for i in range(2,num):\n",
    "            if num % i ==0:\n",
    "                break\n",
    "        else:\n",
    "            print(num)"
   ]
  },
  {
   "cell_type": "markdown",
   "id": "61cd1f9e-34b6-4967-ac68-5a8040d1c696",
   "metadata": {},
   "source": [
    "### Conclusion :\n",
    "loops are powerful constructs in python that allow you to execute a block of code multiple times. By understanding and using for and while loops along with loop control statements like break continue and pass you can handle a wide range of programming tasks efficiently."
   ]
  },
  {
   "cell_type": "code",
   "execution_count": null,
   "id": "aced4fcc-d639-4a00-b62c-54c031ea9758",
   "metadata": {},
   "outputs": [],
   "source": []
  }
 ],
 "metadata": {
  "kernelspec": {
   "display_name": "Python 3 (ipykernel)",
   "language": "python",
   "name": "python3"
  },
  "language_info": {
   "codemirror_mode": {
    "name": "ipython",
    "version": 3
   },
   "file_extension": ".py",
   "mimetype": "text/x-python",
   "name": "python",
   "nbconvert_exporter": "python",
   "pygments_lexer": "ipython3",
   "version": "3.13.7"
  },
  "widgets": {
   "application/vnd.jupyter.widget-state+json": {
    "state": {},
    "version_major": 2,
    "version_minor": 0
   }
  }
 },
 "nbformat": 4,
 "nbformat_minor": 5
}
