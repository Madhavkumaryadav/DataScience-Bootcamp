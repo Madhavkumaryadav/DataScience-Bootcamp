{
 "cells": [
  {
   "cell_type": "markdown",
   "id": "29b6cf97-de63-490e-880a-0e04bf25a0ef",
   "metadata": {},
   "source": [
    "# Dictionaries\n",
    "\n",
    "Dictionaries are unordered collections of items. They store data inn key-value pair. Keys must be unique and immutable(e.g., strings numbers, or tuples), while value can be of any type"
   ]
  },
  {
   "cell_type": "code",
   "execution_count": 4,
   "id": "46459931-535a-43ca-979e-88f2e366da0c",
   "metadata": {},
   "outputs": [
    {
     "name": "stdout",
     "output_type": "stream",
     "text": [
      "<class 'dict'>\n"
     ]
    },
    {
     "data": {
      "text/plain": [
       "{}"
      ]
     },
     "execution_count": 4,
     "metadata": {},
     "output_type": "execute_result"
    }
   ],
   "source": [
    "## creating Dictionaries \n",
    "empty_dict={}\n",
    "print(type(empty_dict))\n",
    "empty_dict"
   ]
  },
  {
   "cell_type": "code",
   "execution_count": 5,
   "id": "025d7b52-f042-43c2-b92b-396a27a34c68",
   "metadata": {},
   "outputs": [
    {
     "data": {
      "text/plain": [
       "{}"
      ]
     },
     "execution_count": 5,
     "metadata": {},
     "output_type": "execute_result"
    }
   ],
   "source": [
    "empty_dict=dict()\n",
    "empty_dict"
   ]
  },
  {
   "cell_type": "code",
   "execution_count": 6,
   "id": "d0966a16-06a2-43cd-92c2-d5fc7ce1edd6",
   "metadata": {},
   "outputs": [
    {
     "name": "stdout",
     "output_type": "stream",
     "text": [
      "{'name': 'madhav', 'age': 45, 'grade': 45}\n",
      "<class 'dict'>\n"
     ]
    }
   ],
   "source": [
    "student={'name':'madhav','age':45,'grade':45}\n",
    "print(student)\n",
    "print(type(student))"
   ]
  },
  {
   "cell_type": "code",
   "execution_count": 18,
   "id": "3f6dcec9-1c7c-4551-9261-0c698f4fdebc",
   "metadata": {},
   "outputs": [
    {
     "name": "stdout",
     "output_type": "stream",
     "text": [
      "{'name': 'madhav', 'age': 32, 'grade': 54}\n"
     ]
    }
   ],
   "source": [
    "## Error \n",
    "# Single key is always used \n",
    "student={'name':'madhav','age':32,'grade':54}\n",
    "print(student)"
   ]
  },
  {
   "cell_type": "code",
   "execution_count": 19,
   "id": "beab0ebb-dc15-484e-941d-3aecd21c3e24",
   "metadata": {},
   "outputs": [
    {
     "name": "stdout",
     "output_type": "stream",
     "text": [
      "A\n",
      "32\n"
     ]
    }
   ],
   "source": [
    "## Accessing Dictionary Elements \n",
    "student={'name':'madhav','age':32,'grade':'A'}\n",
    "print(student['grade'])\n",
    "print(student['age'])\n",
    "\n",
    "\n",
    "      "
   ]
  },
  {
   "cell_type": "code",
   "execution_count": 20,
   "id": "2e014d69-b314-4b33-b737-1e42563aae33",
   "metadata": {},
   "outputs": [
    {
     "name": "stdout",
     "output_type": "stream",
     "text": [
      "A\n",
      "madhav\n",
      "None\n",
      "None\n",
      "Not avilable \n"
     ]
    }
   ],
   "source": [
    "\n",
    "## Accessing using get()method\n",
    "\n",
    "print(student.get('grade'))\n",
    "print(student.get('name'))\n",
    "print(student.get('last_name'))\n",
    "print(student.get('last_name'))\n",
    "print(student.get('last_name','Not avilable '))\n"
   ]
  },
  {
   "cell_type": "code",
   "execution_count": 21,
   "id": "e8f5571a-e459-41f1-890b-321ef4a75e20",
   "metadata": {},
   "outputs": [
    {
     "name": "stdout",
     "output_type": "stream",
     "text": [
      "{'name': 'madhav', 'age': 32, 'grade': 'A'}\n"
     ]
    }
   ],
   "source": [
    "## Modifying Dictionary Elements \n",
    "## Dictionary are matuable, so you can add, update or delete element\n",
    "print(student)"
   ]
  },
  {
   "cell_type": "code",
   "execution_count": 22,
   "id": "b1a8b478-38d3-4d92-a977-50182cbe4afa",
   "metadata": {},
   "outputs": [
    {
     "name": "stdout",
     "output_type": "stream",
     "text": [
      "{'name': 'madhav', 'age': 89, 'grade': 'A'}\n",
      "{'name': 'madhav', 'age': 89, 'grade': 'A', 'address': 'India'}\n"
     ]
    }
   ],
   "source": [
    "student['age']=89 ## Update value for the key\n",
    "print(student)\n",
    "student['address']='India'  ## added a new key and value \n",
    "print(student)"
   ]
  },
  {
   "cell_type": "code",
   "execution_count": 23,
   "id": "a82eac6e-26cb-4939-8762-1223c47f4331",
   "metadata": {},
   "outputs": [
    {
     "name": "stdout",
     "output_type": "stream",
     "text": [
      "{'name': 'madhav', 'age': 89, 'address': 'India'}\n"
     ]
    }
   ],
   "source": [
    "del student['grade']  ## delete key and value pair \n",
    "print(student)"
   ]
  },
  {
   "cell_type": "code",
   "execution_count": 26,
   "id": "ea5b447a-b33e-4cf2-92c6-a9df85bed00c",
   "metadata": {},
   "outputs": [
    {
     "name": "stdout",
     "output_type": "stream",
     "text": [
      "dict_keys(['name', 'age', 'address'])\n",
      "dict_values(['madhav', 89, 'India'])\n",
      "dict_items([('name', 'madhav'), ('age', 89), ('address', 'India')])\n"
     ]
    }
   ],
   "source": [
    "\n",
    "## Dictionary methods \n",
    "\n",
    "keys=student.keys()  ## get all keys \n",
    "print(keys)\n",
    "values=student.values() ## get all values\n",
    "print(values)\n",
    "\n",
    "\n",
    "items=student.items() ## get all key value pairs \n",
    "print(items)"
   ]
  },
  {
   "cell_type": "code",
   "execution_count": 28,
   "id": "1621a4b3-85e4-4082-b85d-2beb4f3ed824",
   "metadata": {},
   "outputs": [
    {
     "name": "stdout",
     "output_type": "stream",
     "text": [
      "{'name': 'madhav', 'age': 89, 'address': 'India'}\n",
      "{'name': 'madhav', 'age': 89, 'address': 'India'}\n"
     ]
    }
   ],
   "source": [
    "## sallow copy \n",
    "student_copy=student\n",
    "print(student)\n",
    "print(student_copy)"
   ]
  },
  {
   "cell_type": "code",
   "execution_count": 29,
   "id": "f20ee560-c76f-4472-bdce-16bc445cfd01",
   "metadata": {},
   "outputs": [
    {
     "name": "stdout",
     "output_type": "stream",
     "text": [
      "{'name': 'rakesh', 'age': 89, 'address': 'India'}\n",
      "{'name': 'rakesh', 'age': 89, 'address': 'India'}\n"
     ]
    }
   ],
   "source": [
    "student['name']='rakesh'\n",
    "print(student)\n",
    "print(student_copy)"
   ]
  },
  {
   "cell_type": "code",
   "execution_count": 30,
   "id": "c617bdb9-b222-4777-8df6-72d84ad2fbcf",
   "metadata": {},
   "outputs": [
    {
     "name": "stdout",
     "output_type": "stream",
     "text": [
      "{'name': 'rakesh', 'age': 89, 'address': 'India'}\n",
      "{'name': 'rakesh', 'age': 89, 'address': 'India'}\n"
     ]
    }
   ],
   "source": [
    "student_copy1=student.copy()  ## shallow copy \n",
    "print(student_copy1)\n",
    "print(student)"
   ]
  },
  {
   "cell_type": "code",
   "execution_count": 32,
   "id": "23a6d98f-9cde-4662-85f9-468f9bb2dc44",
   "metadata": {},
   "outputs": [
    {
     "name": "stdout",
     "output_type": "stream",
     "text": [
      "{'name': 'rakesh', 'age': 89, 'address': 'India'}\n",
      "{'name': 'Madhav', 'age': 89, 'address': 'India'}\n"
     ]
    }
   ],
   "source": [
    "student['name']='Madhav'\n",
    "print(student_copy1)\n",
    "print(student)"
   ]
  },
  {
   "cell_type": "code",
   "execution_count": 33,
   "id": "db85cb11-c712-4665-aebf-fb9a8a12d6d3",
   "metadata": {},
   "outputs": [
    {
     "name": "stdout",
     "output_type": "stream",
     "text": [
      "name\n",
      "age\n",
      "address\n"
     ]
    }
   ],
   "source": [
    " ## iterating over Dictionaries \n",
    "## toy can use loops to iterate over dictionaries , key, values,or items\n",
    "\n",
    "## Iterating over keys\n",
    "for keys in student.keys():\n",
    "    print(keys)"
   ]
  },
  {
   "cell_type": "code",
   "execution_count": 34,
   "id": "cf10f29f-949a-4105-b37c-779dd29200c9",
   "metadata": {},
   "outputs": [
    {
     "name": "stdout",
     "output_type": "stream",
     "text": [
      "Madhav\n",
      "89\n",
      "India\n"
     ]
    }
   ],
   "source": [
    "## Iterate over values\n",
    "for i in student.values():\n",
    "    print(i)"
   ]
  },
  {
   "cell_type": "code",
   "execution_count": 35,
   "id": "12f31980-e058-41b4-a8ec-494d2499ead0",
   "metadata": {},
   "outputs": [
    {
     "name": "stdout",
     "output_type": "stream",
     "text": [
      "name  :  Madhav\n",
      "age  :  89\n",
      "address  :  India\n"
     ]
    }
   ],
   "source": [
    "## Iterate over key,values pairs\n",
    "\n",
    "for key,value in student.items():\n",
    "    print(key,' : ' , value)"
   ]
  },
  {
   "cell_type": "code",
   "execution_count": 44,
   "id": "5ad422fa-6056-4cd9-beb9-168236dd3405",
   "metadata": {},
   "outputs": [
    {
     "name": "stdout",
     "output_type": "stream",
     "text": [
      "{'student1': {'name': 'Madhav', 'age': 21}, 'student2': {'name': 'Rakesh', 'age': 12}}\n"
     ]
    }
   ],
   "source": [
    "## Nested Disctionaries \n",
    "student={\n",
    "    'student1':{'name':'Madhav','age':21},\n",
    "    'student2':{'name':'Rakesh','age':12}\n",
    "}\n",
    "print(student)"
   ]
  },
  {
   "cell_type": "code",
   "execution_count": 45,
   "id": "7b096065-dfcb-4e2b-ae0c-e32710c93239",
   "metadata": {},
   "outputs": [
    {
     "name": "stdout",
     "output_type": "stream",
     "text": [
      "Rakesh\n",
      "21\n"
     ]
    }
   ],
   "source": [
    "## Access nested dictionaries elements \n",
    "print(student['student2']['name'])\n",
    "print(student['student1']['age'])"
   ]
  },
  {
   "cell_type": "code",
   "execution_count": 49,
   "id": "9516bfb9-fbdd-4d94-b84c-8512ccfa1270",
   "metadata": {},
   "outputs": [
    {
     "name": "stdout",
     "output_type": "stream",
     "text": [
      "student1  :  {'name': 'Madhav', 'age': 21}\n",
      "name  :  Madhav\n",
      "age  :  21\n",
      "student2  :  {'name': 'Rakesh', 'age': 12}\n",
      "name  :  Rakesh\n",
      "age  :  12\n"
     ]
    }
   ],
   "source": [
    "## Iterating over nested dictionaries \n",
    "\n",
    "for student_id,student_info in student.items():\n",
    "    print(student_id , \" : \" , student_info)\n",
    "    for key,value in student_info.items():\n",
    "        print(key,\" : \" , value)"
   ]
  },
  {
   "cell_type": "code",
   "execution_count": 50,
   "id": "e8d83600-9a30-4949-b587-558b9cfc9e89",
   "metadata": {},
   "outputs": [
    {
     "name": "stdout",
     "output_type": "stream",
     "text": [
      "{0: 0, 1: 1, 2: 4, 3: 9, 4: 16, 5: 25, 6: 36, 7: 49, 8: 64, 9: 81}\n"
     ]
    }
   ],
   "source": [
    "## Dictionary Comphrehension\n",
    "\n",
    "squares={x:x**2 for x in range(10)}\n",
    "print(squares)"
   ]
  },
  {
   "cell_type": "code",
   "execution_count": 52,
   "id": "7ee6caf2-1320-4de3-89f2-4de2bf705d93",
   "metadata": {},
   "outputs": [
    {
     "name": "stdout",
     "output_type": "stream",
     "text": [
      "{0: 0, 2: 4, 4: 16, 6: 36, 8: 64}\n"
     ]
    }
   ],
   "source": [
    "## Contition dictionary comprehension \n",
    "\n",
    "evens={ x : x**2 for x in range(10) if x%2==0}\n",
    "print(evens)"
   ]
  },
  {
   "cell_type": "code",
   "execution_count": 54,
   "id": "73ba6138-39a1-40d7-a89f-3cb5b7f45234",
   "metadata": {},
   "outputs": [
    {
     "name": "stdout",
     "output_type": "stream",
     "text": [
      "{1: 1, 2: 2, 3: 3, 4: 3}\n"
     ]
    }
   ],
   "source": [
    "## Practical Examples \n",
    "\n",
    "# Use a dictionary to count the frequency of elements inn list \n",
    "\n",
    "number = [ 1,2,2,3,3,3,4,4,4]\n",
    "frequency={}\n",
    "for numbers in number:\n",
    "    if numbers in frequency:\n",
    "        frequency[numbers] +=1\n",
    "    else:\n",
    "        frequency[numbers]=1\n",
    "print(frequency)"
   ]
  },
  {
   "cell_type": "code",
   "execution_count": 55,
   "id": "8a9b2f02-0f21-42be-a00a-065fe808efdc",
   "metadata": {},
   "outputs": [
    {
     "name": "stdout",
     "output_type": "stream",
     "text": [
      "{'a': 1, 'b': 2, 'c': 3, 'd': 4}\n"
     ]
    }
   ],
   "source": [
    "## Merge 2 Dictionaries into one \n",
    "\n",
    "dict1={'a':1,'b':2}\n",
    "dict2={'c':3,'d':4}\n",
    "\n",
    "merged_dict={**dict1,**dict2}\n",
    "print(merged_dict)"
   ]
  },
  {
   "cell_type": "code",
   "execution_count": null,
   "id": "8965f97b-daaf-4464-8e2d-bbf0551c2824",
   "metadata": {},
   "outputs": [],
   "source": []
  }
 ],
 "metadata": {
  "kernelspec": {
   "display_name": "Python 3 (ipykernel)",
   "language": "python",
   "name": "python3"
  },
  "language_info": {
   "codemirror_mode": {
    "name": "ipython",
    "version": 3
   },
   "file_extension": ".py",
   "mimetype": "text/x-python",
   "name": "python",
   "nbconvert_exporter": "python",
   "pygments_lexer": "ipython3",
   "version": "3.13.7"
  },
  "widgets": {
   "application/vnd.jupyter.widget-state+json": {
    "state": {},
    "version_major": 2,
    "version_minor": 0
   }
  }
 },
 "nbformat": 4,
 "nbformat_minor": 5
}
