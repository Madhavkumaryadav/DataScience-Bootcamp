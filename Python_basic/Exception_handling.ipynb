{
 "cells": [
  {
   "cell_type": "markdown",
   "id": "d249a573-0751-48d9-a303-7c7d8cd02dbc",
   "metadata": {},
   "source": [
    "## Understanding Exceptions \n",
    "\n",
    "Exception handling in python allows you to handle errors gracefully and take corrective actions without stopping the execution of the program. THis lesson will cover the basics of exceptions, including how to use tyr, except, else, and finally blocks. \n",
    "\n",
    "### What Are Exceptions?\n",
    "Exception are event thet disrupt the normal flow of a program . They occur when an error is encountered during program execution. Common exceptions include. \n",
    "\n",
    "ZeroDivisionError : Dividing by zero.\n",
    "FileNotFoundError : File not found. \n",
    "ValueError : Invalid value. \n",
    "TypeError : invalid type. "
   ]
  },
  {
   "cell_type": "code",
   "execution_count": 3,
   "id": "cb1d1b9b-0b62-49b0-bf59-a54057ccc3da",
   "metadata": {},
   "outputs": [
    {
     "name": "stdout",
     "output_type": "stream",
     "text": [
      "The variable has not been assigned\n"
     ]
    }
   ],
   "source": [
    "## Exception try, except block \n",
    "\n",
    "try:\n",
    "    a=b\n",
    "except :\n",
    "    print(\"The variable has not been assigned\")"
   ]
  },
  {
   "cell_type": "code",
   "execution_count": 4,
   "id": "1819d008-325f-482c-b082-a727b4dfd4f9",
   "metadata": {},
   "outputs": [
    {
     "name": "stdout",
     "output_type": "stream",
     "text": [
      "name 'b' is not defined\n"
     ]
    }
   ],
   "source": [
    "try:\n",
    "    a=b\n",
    "except NameError as ex:\n",
    "    print(ex)"
   ]
  },
  {
   "cell_type": "code",
   "execution_count": 7,
   "id": "1ed3e241-8e47-46ed-b193-ffdc89be0d03",
   "metadata": {},
   "outputs": [
    {
     "name": "stdout",
     "output_type": "stream",
     "text": [
      "division by zero\n",
      "Please enter the denominator is greater then 0\n"
     ]
    }
   ],
   "source": [
    "try:\n",
    "    result=1/0\n",
    "except ZeroDivisionError as ex:\n",
    "    print(ex)\n",
    "    print(\"Please enter the denominator is greater then 0\")"
   ]
  },
  {
   "cell_type": "code",
   "execution_count": 11,
   "id": "ab417265-3d70-4382-bffa-fca36ba97d8b",
   "metadata": {},
   "outputs": [
    {
     "name": "stdout",
     "output_type": "stream",
     "text": [
      "name 'b' is not defined\n"
     ]
    }
   ],
   "source": [
    "try: \n",
    "    a=b\n",
    "    result=1/0\n",
    "except Exception as ex:\n",
    "    print(ex)"
   ]
  },
  {
   "cell_type": "code",
   "execution_count": 14,
   "id": "d97bb9fe-50a4-4383-82da-a1af6403a774",
   "metadata": {},
   "outputs": [
    {
     "name": "stdin",
     "output_type": "stream",
     "text": [
      "Etner a number :  @\n"
     ]
    },
    {
     "name": "stdout",
     "output_type": "stream",
     "text": [
      "Not a valid Number \n"
     ]
    }
   ],
   "source": [
    "try:\n",
    "    num=int(input(\"Etner a number : \"))\n",
    "    result=10/num\n",
    "except ValueError:\n",
    "    print(\"Not a valid Number \")\n",
    "except ZeroDivisionError:\n",
    "    print(\"Enter denominator greather then 0\")\n",
    "\n",
    "except Exception as ex:\n",
    "    print(ex)"
   ]
  },
  {
   "cell_type": "code",
   "execution_count": 17,
   "id": "16ade5d0-72d4-475e-af48-1030980a8074",
   "metadata": {},
   "outputs": [
    {
     "name": "stdin",
     "output_type": "stream",
     "text": [
      "Enter a number :  90\n"
     ]
    },
    {
     "name": "stdout",
     "output_type": "stream",
     "text": [
      "The result is 0.1111111111111111\n"
     ]
    }
   ],
   "source": [
    "## try,except,else block\n",
    "\n",
    "try:\n",
    "    num=int(input(\"Enter a number : \"))\n",
    "    res=10/num\n",
    "except ValueError:\n",
    "    print(\"That's not a valid numbers! \")\n",
    "except ZeroDivisionError:\n",
    "    print(\"You Can't divide by zero!\")\n",
    "except Exception as ex:\n",
    "    print(ex)\n",
    "else:\n",
    "    print(f\"The result is {res}\")"
   ]
  },
  {
   "cell_type": "code",
   "execution_count": 19,
   "id": "135be38d-50c7-4969-9904-fb290a3125ff",
   "metadata": {},
   "outputs": [
    {
     "name": "stdin",
     "output_type": "stream",
     "text": [
      "Enter a number :  hjjh\n"
     ]
    },
    {
     "name": "stdout",
     "output_type": "stream",
     "text": [
      "That's not a valid numbers! \n",
      "Execution Complete.\n"
     ]
    }
   ],
   "source": [
    "\n",
    "## try,except,else and finally \n",
    "try:\n",
    "    num=int(input(\"Enter a number : \"))\n",
    "    res=10/num\n",
    "except ValueError:\n",
    "    print(\"That's not a valid numbers! \")\n",
    "except ZeroDivisionError:\n",
    "    print(\"You Can't divide by zero!\")\n",
    "except Exception as ex:\n",
    "    print(ex)\n",
    "else:\n",
    "    print(f\"The result is {res}\")\n",
    "finally:\n",
    "    print(\"Execution Complete.\")"
   ]
  },
  {
   "cell_type": "code",
   "execution_count": 29,
   "id": "21286e68-109c-466e-b83c-945b34033a00",
   "metadata": {},
   "outputs": [
    {
     "name": "stdout",
     "output_type": "stream",
     "text": [
      "The file does not exists\n",
      "File closed\n"
     ]
    }
   ],
   "source": [
    "#### file handling and exception handling \n",
    "\n",
    "try:\n",
    "    file=open('example1.txt','r')\n",
    "    content=file.read()\n",
    "    print(content)\n",
    "except FileNotFoundError:\n",
    "    print(\"The file does not exists\")\n",
    "except Exception as ex:\n",
    "    print(ex)\n",
    "finally:\n",
    "    if 'file' in locals() or not file.closed():\n",
    "        file.close()\n",
    "        print(\"File closed\")"
   ]
  },
  {
   "cell_type": "code",
   "execution_count": null,
   "id": "9bc7b270-f52f-4631-823c-ff2bfe2f0f7f",
   "metadata": {},
   "outputs": [],
   "source": []
  }
 ],
 "metadata": {
  "kernelspec": {
   "display_name": "Python 3 (ipykernel)",
   "language": "python",
   "name": "python3"
  },
  "language_info": {
   "codemirror_mode": {
    "name": "ipython",
    "version": 3
   },
   "file_extension": ".py",
   "mimetype": "text/x-python",
   "name": "python",
   "nbconvert_exporter": "python",
   "pygments_lexer": "ipython3",
   "version": "3.13.7"
  },
  "widgets": {
   "application/vnd.jupyter.widget-state+json": {
    "state": {},
    "version_major": 2,
    "version_minor": 0
   }
  }
 },
 "nbformat": 4,
 "nbformat_minor": 5
}
