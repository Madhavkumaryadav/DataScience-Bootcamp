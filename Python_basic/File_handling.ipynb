{
 "cells": [
  {
   "cell_type": "markdown",
   "id": "d41c5031-9181-4b56-a86b-f94060765003",
   "metadata": {},
   "source": [
    "## File Operation-Read And Write Files\n",
    "\n",
    "file handling is a crucial part of any programming language. Python provides built-in functions and methods to read from and write to files, both text and binary. This lesson will cover the basics of file handling, including reading and writing text files and binary files"
   ]
  },
  {
   "cell_type": "code",
   "execution_count": 1,
   "id": "b46ced84-7aec-4d3b-9ce1-e71684d543bb",
   "metadata": {},
   "outputs": [
    {
     "name": "stdout",
     "output_type": "stream",
     "text": [
      "Hello, How are you \n",
      "I'm fine ,\n",
      "how about you \n",
      "I'm also dowing well \n"
     ]
    }
   ],
   "source": [
    "\n",
    "## Read a while file \n",
    "\n",
    "with open('source.txt','r') as file:\n",
    "    content=file.read()\n",
    "    print(content)\n",
    "    \n",
    "\n",
    "\n",
    "\n",
    "\n"
   ]
  },
  {
   "cell_type": "code",
   "execution_count": 4,
   "id": "f82f6d9e-7acb-4215-82a3-aab4b14ee62c",
   "metadata": {},
   "outputs": [
    {
     "name": "stdout",
     "output_type": "stream",
     "text": [
      "Hello, How are you\n",
      "I'm fine ,\n",
      "how about you\n",
      "I'm also dowing well\n"
     ]
    }
   ],
   "source": [
    "## Read a file line by line\n",
    "\n",
    "with  open('source.txt','r') as file:\n",
    "    for line in file:\n",
    "        print(line.strip()) ## this .strip() removes the newline character "
   ]
  },
  {
   "cell_type": "code",
   "execution_count": 5,
   "id": "1320a943-6a01-4c19-a33f-0d2e931e2b6a",
   "metadata": {},
   "outputs": [],
   "source": [
    "## Writing a file(overwriting )\n",
    "\n",
    "with  open('source.txt','w') as file:\n",
    "    file.write('Hello world \\n')\n",
    "    file.write('This is a new line.')"
   ]
  },
  {
   "cell_type": "code",
   "execution_count": 6,
   "id": "5d469a63-7e3d-420a-a1ce-6912c1762f44",
   "metadata": {},
   "outputs": [],
   "source": [
    "## Write a file (without overwriting )\n",
    "\n",
    "with open('source.txt','a') as file:\n",
    "    file.write('Append operation taking place!\\n')"
   ]
  },
  {
   "cell_type": "code",
   "execution_count": 8,
   "id": "8e2b2d36-f2f6-4273-9609-6e10797ea5c3",
   "metadata": {},
   "outputs": [],
   "source": [
    "### Writing a list of lines to a file \n",
    "\n",
    "lines=['first line \\n', 'second line \\n', 'third line \\n']\n",
    "\n",
    "with open ('source.txt','a')as file:\n",
    "    file.writelines(lines)"
   ]
  },
  {
   "cell_type": "code",
   "execution_count": 9,
   "id": "713c1bd0-fa37-4134-8b69-3a78bb6fe500",
   "metadata": {},
   "outputs": [],
   "source": [
    "## Binary File \n",
    "\n",
    "# writing to a binary file \n",
    "\n",
    "data=b'\\x00\\x01\\x02\\x03\\x04'\n",
    "\n",
    "with open ('example.bin','wb') as file:\n",
    "    file.write(data)"
   ]
  },
  {
   "cell_type": "code",
   "execution_count": 4,
   "id": "4ba6cda8-6d57-48b8-9b8c-59f3c077a856",
   "metadata": {},
   "outputs": [
    {
     "name": "stdout",
     "output_type": "stream",
     "text": [
      "b'\\x00\\x01\\x02\\x03\\x04'\n"
     ]
    }
   ],
   "source": [
    "### Reading a binary file\n",
    "with open('example.bin','rb') as file:\n",
    "    content=file.read()\n",
    "    print(content)"
   ]
  },
  {
   "cell_type": "code",
   "execution_count": 5,
   "id": "ef318100-036a-41d0-a715-67c46b129431",
   "metadata": {},
   "outputs": [],
   "source": [
    "## Read the content from a source text file and write to a destination text file \n",
    "# copying a text file \n",
    "with open('source.txt','r')as source_file:\n",
    "    content=source_file.read()\n",
    "with open('destination.txt', 'w') as destination_file:\n",
    "    destination_file.write(content)\n",
    "\n"
   ]
  },
  {
   "cell_type": "code",
   "execution_count": 6,
   "id": "234e60bf-08ed-4cab-a25e-cca1b52e7da2",
   "metadata": {},
   "outputs": [
    {
     "name": "stdout",
     "output_type": "stream",
     "text": [
      "lines : 7, Words : 23 , Characters : 137\n"
     ]
    }
   ],
   "source": [
    "# Read a text and count the number of lines, words, and characters. \n",
    "# Counting lines, words , and characters in a text file\n",
    "\n",
    "\n",
    "def count_text_file(file_path):\n",
    "    with open(file_path,'r') as file:\n",
    "        lines=file.readlines()\n",
    "        line_count=len(lines)\n",
    "        word_count=sum(len(line.split()) for line in lines)\n",
    "        char_count=sum(len(line) for line in lines)\n",
    "    return line_count,word_count,char_count\n",
    "\n",
    "file_path='source.txt'\n",
    "lines,words,characters = count_text_file(file_path)\n",
    "\n",
    "print(f'lines : {lines}, Words : {words} , Characters : {characters}')\n",
    "        "
   ]
  },
  {
   "cell_type": "markdown",
   "id": "1e9c7b0e-71bf-41d1-8d11-1f304494785f",
   "metadata": {},
   "source": [
    "### The w+ mode in python is used to open a file for both reading  and writing. If the file does not exist, it will be created. If the file exists, its content is truncated (i.e., the file overwritten)"
   ]
  },
  {
   "cell_type": "code",
   "execution_count": 8,
   "id": "e03ae422-50f7-4228-b024-a3382909ed9f",
   "metadata": {},
   "outputs": [
    {
     "name": "stdout",
     "output_type": "stream",
     "text": [
      "hello world \n",
      "This is a new line \n",
      "\n"
     ]
    }
   ],
   "source": [
    "### Writing and then reading a file \n",
    "\n",
    "with open('example.txt','w+') as file:\n",
    "    file.write('hello world \\n')\n",
    "    file.write('This is a new line \\n')\n",
    "\n",
    "    ## Move the file cursor to the beginning \n",
    "    file.seek(0)\n",
    "\n",
    "    ## Read the content of the file \n",
    "    content=file.read()\n",
    "    print(content)\n",
    "    "
   ]
  },
  {
   "cell_type": "code",
   "execution_count": 9,
   "id": "671cc08f-2f96-4452-88d2-4485d8979087",
   "metadata": {},
   "outputs": [
    {
     "name": "stdout",
     "output_type": "stream",
     "text": [
      "current working directory is C:\\Users\\Madhav Yadav\\OneDrive\\Desktop\\desktop1\\Udemy_datascience\\Python_basic\n"
     ]
    }
   ],
   "source": [
    "import os \n",
    "cwd=os.getcwd()\n",
    "print(f'current working directory is {cwd}')"
   ]
  },
  {
   "cell_type": "code",
   "execution_count": 13,
   "id": "d0a65aea-b84b-4bab-8fa3-37bf71db7e79",
   "metadata": {},
   "outputs": [
    {
     "name": "stdout",
     "output_type": "stream",
     "text": [
      "directory : package1' created \n"
     ]
    }
   ],
   "source": [
    "#Create a new directory\n",
    "new_directory='package1'\n",
    "os.mkdir(new_directory)\n",
    "print(f\"directory : {new_directory}' created \")\n"
   ]
  },
  {
   "cell_type": "code",
   "execution_count": 16,
   "id": "5302705b-a150-4dd2-9000-0d28b39fb834",
   "metadata": {},
   "outputs": [
    {
     "name": "stdout",
     "output_type": "stream",
     "text": [
      "['.ipynb_checkpoints', 'Conditional_&_Loops.ipynb', 'Dcitionaries.ipynb', 'destination.txt', 'example.bin', 'example.txt', 'File_handling.ipynb', 'Function.ipynb', 'Import_modules.ipynb', 'Lambda_function.ipynb', 'list.ipynb', 'pkg1', 'Practice1.ipynb', 'python_basic.ipynb', 'sample.txt', 'Set_data_type.ipynb', 'source.txt', 'test_dir', 'tuple.ipynb', 'Untitled.ipynb']\n"
     ]
    }
   ],
   "source": [
    "## Listing Files and directories \n",
    "\n",
    "items=os.listdir('.')\n",
    "print(items)"
   ]
  },
  {
   "cell_type": "code",
   "execution_count": 17,
   "id": "7e489e2a-5a22-4c6a-a9e6-dc510708c803",
   "metadata": {},
   "outputs": [
    {
     "name": "stdout",
     "output_type": "stream",
     "text": [
      "folder\\file.txt\n"
     ]
    }
   ],
   "source": [
    "### Joining Paths \n",
    "\n",
    "dir_name='folder'\n",
    "file_name='file.txt'\n",
    "full_path=os.path.join(dir_name,file_name)\n",
    "print(full_path)"
   ]
  },
  {
   "cell_type": "code",
   "execution_count": 18,
   "id": "19e0fee6-a2de-4d93-9997-62922b65d70b",
   "metadata": {},
   "outputs": [
    {
     "name": "stdout",
     "output_type": "stream",
     "text": [
      "C:\\Users\\Madhav Yadav\\OneDrive\\Desktop\\desktop1\\Udemy_datascience\\Python_basic\\folder\\file.txt\n"
     ]
    }
   ],
   "source": [
    "dir_name='folder'\n",
    "file_name='file.txt'\n",
    "full_path=os.path.join(os.getcwd(),dir_name,file_name)\n",
    "print(full_path)"
   ]
  },
  {
   "cell_type": "code",
   "execution_count": 23,
   "id": "913d8a61-872a-4b55-9175-e2696dc4bebd",
   "metadata": {},
   "outputs": [
    {
     "name": "stdout",
     "output_type": "stream",
     "text": [
      "The path example.txt exists\n"
     ]
    }
   ],
   "source": [
    "\n",
    "path='example.txt'\n",
    "if os.path.exists(path):\n",
    "    print(f'The path {path} exists')\n",
    "else:\n",
    "    print(f'The path {path} does not exists')\n"
   ]
  },
  {
   "cell_type": "code",
   "execution_count": 26,
   "id": "0754fc49-cde3-4dbf-87e8-cc7699050204",
   "metadata": {},
   "outputs": [
    {
     "name": "stdout",
     "output_type": "stream",
     "text": [
      "The path 'example.txt' is a file . \n"
     ]
    }
   ],
   "source": [
    "## Checking if a path is a file or Directory \n",
    "import os\n",
    "\n",
    "path='example.txt'\n",
    "if os.path.isfile(path):\n",
    "    print(f\"The path '{path}' is a file . \")\n",
    "elif os.path.isdir(path):\n",
    "    print(f\"The path '{path}' is a Directory \")\n",
    "else:\n",
    "    print(f\"The Path '{path}' is neither a file nor a directory.\")"
   ]
  },
  {
   "cell_type": "code",
   "execution_count": 27,
   "id": "2da938ae-e560-42ce-a173-80800a419065",
   "metadata": {},
   "outputs": [
    {
     "name": "stdout",
     "output_type": "stream",
     "text": [
      "C:\\Users\\Madhav Yadav\\OneDrive\\Desktop\\desktop1\\Udemy_datascience\\Python_basic\\example.txt\n"
     ]
    }
   ],
   "source": [
    "## Getting the absolute path \n",
    "\n",
    "relative_path='example.txt'\n",
    "absolute_path=os.path.abspath(relative_path)\n",
    "print(absolute_path)"
   ]
  },
  {
   "cell_type": "code",
   "execution_count": null,
   "id": "87754f8f-4942-4273-bb79-7e4e825cb349",
   "metadata": {},
   "outputs": [],
   "source": []
  }
 ],
 "metadata": {
  "kernelspec": {
   "display_name": "Python 3 (ipykernel)",
   "language": "python",
   "name": "python3"
  },
  "language_info": {
   "codemirror_mode": {
    "name": "ipython",
    "version": 3
   },
   "file_extension": ".py",
   "mimetype": "text/x-python",
   "name": "python",
   "nbconvert_exporter": "python",
   "pygments_lexer": "ipython3",
   "version": "3.13.7"
  },
  "widgets": {
   "application/vnd.jupyter.widget-state+json": {
    "state": {},
    "version_major": 2,
    "version_minor": 0
   }
  }
 },
 "nbformat": 4,
 "nbformat_minor": 5
}
