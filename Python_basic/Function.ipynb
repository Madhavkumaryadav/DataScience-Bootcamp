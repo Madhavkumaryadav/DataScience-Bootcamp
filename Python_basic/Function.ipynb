{
 "cells": [
  {
   "cell_type": "markdown",
   "id": "11622957-c2f9-4d6c-92dd-f6f90f72635e",
   "metadata": {},
   "source": [
    "## Introduction to Functions\n",
    "\n",
    "### Definition: \n",
    "A function is a block of code that performs a specific task. Functions help in organizing code, reusing code, and improving readability. "
   ]
  },
  {
   "cell_type": "code",
   "execution_count": 1,
   "id": "58b4ccce-8e30-4623-94eb-b15b62965aea",
   "metadata": {},
   "outputs": [],
   "source": [
    "# #syntax\n",
    "# def function_name(parameters):\n",
    "#     '''Docstring'''\n",
    "#     # Function body\n",
    "#     return expression"
   ]
  },
  {
   "cell_type": "code",
   "execution_count": 4,
   "id": "c2387ddd-e87a-4ab1-a9a1-37d37555bb39",
   "metadata": {},
   "outputs": [
    {
     "name": "stdout",
     "output_type": "stream",
     "text": [
      "the number is even \n"
     ]
    }
   ],
   "source": [
    "## why functionns? \n",
    "n=24\n",
    "if n %2==0:\n",
    "    print('the number is even ')\n",
    "else:\n",
    "    print(\"the number is odd\")"
   ]
  },
  {
   "cell_type": "code",
   "execution_count": 7,
   "id": "5bf7834a-18e8-40ff-bdc3-6e34c3528b09",
   "metadata": {},
   "outputs": [],
   "source": [
    "def even_or_odd(num):\n",
    "    '''This functiuon finds even or odd'''\n",
    "    if num%2==0:\n",
    "        print('The number is even')\n",
    "    else:\n",
    "        print('the number is odd ')"
   ]
  },
  {
   "cell_type": "code",
   "execution_count": 8,
   "id": "7a8f6960-6d6e-4fbe-b846-641d437a40f4",
   "metadata": {},
   "outputs": [
    {
     "name": "stdout",
     "output_type": "stream",
     "text": [
      "the number is odd \n"
     ]
    }
   ],
   "source": [
    "# call this function \n",
    "even_or_odd(29)"
   ]
  },
  {
   "cell_type": "code",
   "execution_count": 9,
   "id": "25fbcaa4-f47b-481c-af17-9a00751311a5",
   "metadata": {},
   "outputs": [],
   "source": [
    "## Function with multiple parameters\n",
    "\n",
    "def add (a,b):\n",
    "    ''''''\n",
    "    c=a+b\n",
    "    return c"
   ]
  },
  {
   "cell_type": "code",
   "execution_count": 10,
   "id": "e5c22ae1-d838-4dfc-9138-691b413a1e7d",
   "metadata": {},
   "outputs": [
    {
     "data": {
      "text/plain": [
       "77"
      ]
     },
     "execution_count": 10,
     "metadata": {},
     "output_type": "execute_result"
    }
   ],
   "source": [
    "add(45,32)"
   ]
  },
  {
   "cell_type": "code",
   "execution_count": 14,
   "id": "17c26e6b-5663-4f85-96bc-3fccdbceeeb8",
   "metadata": {},
   "outputs": [
    {
     "name": "stdout",
     "output_type": "stream",
     "text": [
      "Hello Madhav\n",
      "Hello guest\n"
     ]
    }
   ],
   "source": [
    "## Default Parameters \n",
    "\n",
    "def greet(name='guest'):\n",
    "    print(f'Hello {name}')\n",
    "\n",
    "greet('Madhav')\n",
    "greet()"
   ]
  },
  {
   "cell_type": "code",
   "execution_count": 15,
   "id": "f40d1732-cac8-44ba-afc3-797a2fcf6a6f",
   "metadata": {},
   "outputs": [],
   "source": [
    "## Variable length Arguments\n",
    "## Positional And kywords Arguments \n",
    "\n",
    "def print_numbers(*args):\n",
    "    for numbers in args:\n",
    "        print(numbers)"
   ]
  },
  {
   "cell_type": "code",
   "execution_count": 16,
   "id": "5a74202c-337c-4c9a-8aff-abaa87e2543c",
   "metadata": {},
   "outputs": [
    {
     "name": "stdout",
     "output_type": "stream",
     "text": [
      "1\n",
      "2\n",
      "3\n",
      "4\n",
      "4\n",
      "5\n",
      "6\n",
      "madhav\n"
     ]
    }
   ],
   "source": [
    "print_numbers(1,2,3,4,4,5,6,'madhav')"
   ]
  },
  {
   "cell_type": "code",
   "execution_count": 17,
   "id": "6f029cd1-a3be-497a-b312-a3f84d49c7fa",
   "metadata": {},
   "outputs": [],
   "source": [
    "## Keywords Arguments \n",
    "\n",
    "def print_details(**kwargs):\n",
    "    for key,value in kwargs.items():\n",
    "        print(f'{key} : {value}')"
   ]
  },
  {
   "cell_type": "code",
   "execution_count": 19,
   "id": "a0752f8d-a5ee-4b74-a249-90bd512e5be6",
   "metadata": {},
   "outputs": [
    {
     "name": "stdout",
     "output_type": "stream",
     "text": [
      "name : madhav\n",
      "age : 32\n",
      "country : india\n"
     ]
    }
   ],
   "source": [
    "print_details(name='madhav',age=32,country='india')"
   ]
  },
  {
   "cell_type": "code",
   "execution_count": 20,
   "id": "d3c98ad0-2e49-439d-8fe7-ba3024cb421b",
   "metadata": {},
   "outputs": [],
   "source": [
    "def print_detail(*args,**kwargs):\n",
    "    for num in args:\n",
    "        print(f'Positional Argument : {num}')\n",
    "    for key,value in kwargs.items():\n",
    "        print(f'{key} : {value}')"
   ]
  },
  {
   "cell_type": "code",
   "execution_count": 21,
   "id": "daa6d763-fd7d-42eb-9476-d127147e3f8a",
   "metadata": {},
   "outputs": [
    {
     "name": "stdout",
     "output_type": "stream",
     "text": [
      "Positional Argument : 3\n",
      "Positional Argument : 4\n",
      "Positional Argument : 5\n",
      "Positional Argument : 7\n",
      "Positional Argument : 5\n",
      "Positional Argument : 3\n",
      "Positional Argument : 2\n",
      "Positional Argument : gsff\n",
      "name : madhav\n",
      "roll : 11\n",
      "state : bihar\n"
     ]
    }
   ],
   "source": [
    "print_detail(3,4,5,7,5,3,2,'gsff',name='madhav',roll=11,state='bihar')"
   ]
  },
  {
   "cell_type": "code",
   "execution_count": 22,
   "id": "fdcd3396-2ccb-42bf-8332-38f51d8db69d",
   "metadata": {},
   "outputs": [
    {
     "data": {
      "text/plain": [
       "20"
      ]
     },
     "execution_count": 22,
     "metadata": {},
     "output_type": "execute_result"
    }
   ],
   "source": [
    "### Return statements \n",
    "def multiply(a,b):\n",
    "    return a*b\n",
    "\n",
    "multiply(4,5)"
   ]
  },
  {
   "cell_type": "code",
   "execution_count": 25,
   "id": "022bee1d-6bee-4f3d-91e8-75d41d1a46eb",
   "metadata": {},
   "outputs": [],
   "source": [
    "### return statement return multiples parameters \n",
    "def myltiply(a,b):\n",
    "    return a*b,a\n",
    "    "
   ]
  },
  {
   "cell_type": "code",
   "execution_count": 26,
   "id": "ee0cdefc-99bb-4927-8ba5-1cc8b474497a",
   "metadata": {},
   "outputs": [
    {
     "data": {
      "text/plain": [
       "1035"
      ]
     },
     "execution_count": 26,
     "metadata": {},
     "output_type": "execute_result"
    }
   ],
   "source": [
    "multiply(45,23)"
   ]
  },
  {
   "cell_type": "code",
   "execution_count": 27,
   "id": "e37972cf-2323-4b82-b8d8-91f03a92f583",
   "metadata": {},
   "outputs": [
    {
     "name": "stdout",
     "output_type": "stream",
     "text": [
      "77.0\n",
      "25.555555555555557\n"
     ]
    }
   ],
   "source": [
    "# Example Temperature Conversion \n",
    "def conbert_temperature(temp,unit):\n",
    "    '''This function converts temperature between celsius and fahrenheit'''\n",
    "    if unit=='C':\n",
    "        return temp * 9/5 +32 # convert celsius to Fahrenheit \n",
    "    elif unit == 'F':\n",
    "        return (temp-32) * 5/9 ## Fahrenheit to celsius \n",
    "    else:\n",
    "        return None\n",
    "\n",
    "\n",
    "print(conbert_temperature(25,'C'))\n",
    "print(conbert_temperature(78,'F'))\n",
    "    "
   ]
  },
  {
   "cell_type": "code",
   "execution_count": 29,
   "id": "0adfff8b-3ff2-4ec8-b55e-2def668f36ab",
   "metadata": {},
   "outputs": [
    {
     "name": "stdout",
     "output_type": "stream",
     "text": [
      "False\n",
      "True\n"
     ]
    }
   ],
   "source": [
    "## Password Strength Checker \n",
    "\n",
    "def is_strong_password(password):\n",
    "\n",
    "    if len(password)<8:\n",
    "        return False\n",
    "    if not any(char.isdigit() for char in password):\n",
    "        return False\n",
    "    if not any(char.islower() for char in password):\n",
    "        return False\n",
    "    if not any(char.isupper() for char in password):\n",
    "        return False\n",
    "    if not any(char in '!@#$%^&*()_+' for char  in password):\n",
    "        return False \n",
    "    return True\n",
    "\n",
    "## Calling the function \n",
    "print(is_strong_password('WeakPwd'))\n",
    "print(is_strong_password('Stro0pwd!'))"
   ]
  },
  {
   "cell_type": "code",
   "execution_count": 32,
   "id": "2e9b05b2-d88c-4839-bde5-ea4c7c0f79ad",
   "metadata": {},
   "outputs": [
    {
     "data": {
      "text/plain": [
       "63.0"
      ]
     },
     "execution_count": 32,
     "metadata": {},
     "output_type": "execute_result"
    }
   ],
   "source": [
    "\n",
    "## Calculate the Total cost of items in  a shpping Cart \n",
    "\n",
    "def calculate_total_cost(cart):\n",
    "    total_cost=0\n",
    "    for item in cart:\n",
    "        total_cost += item['price'] * item['quantity']\n",
    "    return total_cost\n",
    "\n",
    "## example cart data\n",
    "cart=[\n",
    "    {'name':'apple','price':0.5,'quantity':4},\n",
    "    {'name':'orange','price':6,'quantity':3},\n",
    "    {'name':'mango','price':3,'quantity':9},\n",
    "    {'name':'grapes','price':8,'quantity':2}\n",
    "]\n",
    "\n",
    "calculate_total_cost(cart)"
   ]
  },
  {
   "cell_type": "code",
   "execution_count": 33,
   "id": "d648a994-4de5-4679-a815-e45ec5b0a44f",
   "metadata": {},
   "outputs": [
    {
     "name": "stdout",
     "output_type": "stream",
     "text": [
      "True\n",
      "False\n"
     ]
    }
   ],
   "source": [
    "# check if a string is Palindrome \n",
    "\n",
    "def is_palindrome(s):\n",
    "    s=s.lower().replace(' ','')\n",
    "    return s==s[::-1]\n",
    "\n",
    "print(is_palindrome('A man a plan a canal Panama'))\n",
    "print(is_palindrome('madhav'))"
   ]
  },
  {
   "cell_type": "code",
   "execution_count": 36,
   "id": "4587d96f-cace-4575-a02f-f1c0712cbf18",
   "metadata": {},
   "outputs": [
    {
     "name": "stdout",
     "output_type": "stream",
     "text": [
      "3628800\n"
     ]
    }
   ],
   "source": [
    "# Calculate the factorials of a number using recursion \n",
    "\n",
    "def factorial(n):\n",
    "    if n==0:\n",
    "        return 1\n",
    "    else:\n",
    "        return n* factorial(n-1)\n",
    "\n",
    "print(factorial(10))"
   ]
  },
  {
   "cell_type": "code",
   "execution_count": 40,
   "id": "ae148ee3-ff4f-4754-af3f-1aea51a6afb2",
   "metadata": {},
   "outputs": [
    {
     "name": "stdout",
     "output_type": "stream",
     "text": [
      "{'hello': 1, 'my': 1, 'name': 1, 'is': 1, 'madhav': 1, 'kumar': 1, \"i'm\": 1, 'from': 1, 'bihar': 1, 'we': 1, 'have': 1, 'pusiving': 1, 'in': 2, 'b.tech': 1, 'computer': 1, 'science': 1, 'the': 1, 'jagannath': 1, 'university': 1, 'jaipur': 1}\n"
     ]
    }
   ],
   "source": [
    "## A function to Read A file and count the frequency of each word \n",
    "def count_word_frequency(file_path):\n",
    "    word_count={}\n",
    "    with open(file_path,'r') as file:\n",
    "        for line in file:\n",
    "            words=line.split()\n",
    "            for word in words:\n",
    "                word=word.lower().strip('.,?;:\"\\'')\n",
    "                word_count[word]=word_count.get(word,0)+1\n",
    "\n",
    "    return word_count\n",
    "\n",
    "file_path='sample.txt'\n",
    "\n",
    "word_frequency=count_word_frequency(file_path) \n",
    "print(word_frequency)\n"
   ]
  },
  {
   "cell_type": "code",
   "execution_count": 44,
   "id": "a8f68acd-39d8-49a7-9fb4-36508bed73d5",
   "metadata": {},
   "outputs": [
    {
     "name": "stdout",
     "output_type": "stream",
     "text": [
      "False\n",
      "False\n"
     ]
    }
   ],
   "source": [
    "## Validate Email Address \n",
    "import re\n",
    "def is_valid_email(email):\n",
    "    pattern = r'^[a-zA-Z0-9_.+-] +@[a-zA-Z0-9-]+\\.[a-zA-Z0-9-.]+$'\n",
    "    return re.match(pattern,email) is not None\n",
    "\n",
    "\n",
    "print(is_valid_email('test@example.com')) ## Output :- True\n",
    "print(is_valid_email('invalic-email')) ## output :- False"
   ]
  },
  {
   "cell_type": "code",
   "execution_count": null,
   "id": "c7259b0f-ea0c-4c66-88e5-173af05f11f6",
   "metadata": {},
   "outputs": [],
   "source": []
  }
 ],
 "metadata": {
  "kernelspec": {
   "display_name": "Python 3 (ipykernel)",
   "language": "python",
   "name": "python3"
  },
  "language_info": {
   "codemirror_mode": {
    "name": "ipython",
    "version": 3
   },
   "file_extension": ".py",
   "mimetype": "text/x-python",
   "name": "python",
   "nbconvert_exporter": "python",
   "pygments_lexer": "ipython3",
   "version": "3.13.7"
  },
  "widgets": {
   "application/vnd.jupyter.widget-state+json": {
    "state": {},
    "version_major": 2,
    "version_minor": 0
   }
  }
 },
 "nbformat": 4,
 "nbformat_minor": 5
}
