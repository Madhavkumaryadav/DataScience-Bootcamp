{
 "cells": [
  {
   "cell_type": "markdown",
   "id": "60cef3c1-0aae-44a9-999e-2da47c4cc441",
   "metadata": {},
   "source": [
    "## Importing Moudles in Phton : MOdules and packages \n",
    "\n",
    "In Python, Modules and packages help organize and reuse code. Here's comprehensive guide on hoow to import htem "
   ]
  },
  {
   "cell_type": "code",
   "execution_count": 1,
   "id": "c3f1b494-f61b-4ff5-8a7a-62f79bfe1e9a",
   "metadata": {},
   "outputs": [
    {
     "data": {
      "text/plain": [
       "4.0"
      ]
     },
     "execution_count": 1,
     "metadata": {},
     "output_type": "execute_result"
    }
   ],
   "source": [
    "import math\n",
    "math.sqrt(16)"
   ]
  },
  {
   "cell_type": "code",
   "execution_count": 2,
   "id": "cfac63e0-c47b-4c23-b94a-e8d4a25ec4c9",
   "metadata": {},
   "outputs": [
    {
     "name": "stdout",
     "output_type": "stream",
     "text": [
      "3.872983346207417\n",
      "3.141592653589793\n"
     ]
    }
   ],
   "source": [
    "from math  import sqrt,pi\n",
    "print(sqrt(15))\n",
    "print(pi)"
   ]
  },
  {
   "cell_type": "code",
   "execution_count": 4,
   "id": "66d6080b-a811-4120-9735-bd3759e46dad",
   "metadata": {},
   "outputs": [
    {
     "name": "stdout",
     "output_type": "stream",
     "text": [
      "Collecting numpy\n",
      "  Using cached numpy-2.3.3-cp313-cp313-win_amd64.whl.metadata (60 kB)\n",
      "Using cached numpy-2.3.3-cp313-cp313-win_amd64.whl (12.8 MB)\n",
      "Installing collected packages: numpy\n",
      "Successfully installed numpy-2.3.3\n"
     ]
    }
   ],
   "source": [
    "!pip install numpy"
   ]
  },
  {
   "cell_type": "code",
   "execution_count": 5,
   "id": "f327c8ac-5ae7-461d-9c42-57ac3cecb916",
   "metadata": {},
   "outputs": [
    {
     "name": "stdout",
     "output_type": "stream",
     "text": [
      "[1 2 3 4 5]\n",
      "<class 'numpy.ndarray'>\n"
     ]
    }
   ],
   "source": [
    "import numpy as np\n",
    "a=np.array([1,2,3,4,5])\n",
    "print(a)\n",
    "print(type(a))"
   ]
  },
  {
   "cell_type": "code",
   "execution_count": 6,
   "id": "929d0e82-4eea-49c2-81e7-1cc17c8de5ce",
   "metadata": {},
   "outputs": [],
   "source": [
    "from math import*"
   ]
  },
  {
   "cell_type": "code",
   "execution_count": 11,
   "id": "c9bc9876-8507-4d15-9a92-3c844781f1bc",
   "metadata": {},
   "outputs": [
    {
     "name": "stdout",
     "output_type": "stream",
     "text": [
      "4.0\n",
      "3.141592653589793\n",
      "1.0\n"
     ]
    }
   ],
   "source": [
    "print(sqrt(16))\n",
    "print(pi)\n",
    "print(cos(0))\n",
    "\n"
   ]
  },
  {
   "cell_type": "code",
   "execution_count": 17,
   "id": "e9905cfb-5715-4ff4-a99a-84b20e3ea09f",
   "metadata": {},
   "outputs": [],
   "source": [
    "from pkg1.maths import*"
   ]
  },
  {
   "cell_type": "code",
   "execution_count": 18,
   "id": "af0c7af9-c478-4361-9527-07b5a2b2cab8",
   "metadata": {},
   "outputs": [
    {
     "data": {
      "text/plain": [
       "17"
      ]
     },
     "execution_count": 18,
     "metadata": {},
     "output_type": "execute_result"
    }
   ],
   "source": [
    "addition(9,8)"
   ]
  },
  {
   "cell_type": "code",
   "execution_count": 19,
   "id": "778a1270-030c-44c3-be14-df80e5227cfe",
   "metadata": {},
   "outputs": [
    {
     "data": {
      "text/plain": [
       "68"
      ]
     },
     "execution_count": 19,
     "metadata": {},
     "output_type": "execute_result"
    }
   ],
   "source": [
    "from pkg1 import maths\n",
    "maths.addition(23,45)"
   ]
  },
  {
   "cell_type": "markdown",
   "id": "65f8a6ee-9733-451b-9da3-df08805e91b0",
   "metadata": {},
   "source": [
    "### Standard Library Overview \n",
    "\n",
    "Python's Standard Library is a vast collection of modules and packages that come bundled with Python, providing a whde range of dunctionalities out of the box. Here's an overview of some of the most commonly used modules and packages in the Python Standard Library "
   ]
  },
  {
   "cell_type": "code",
   "execution_count": 21,
   "id": "093d0ac5-5cbe-4b98-b82c-44b77790bffd",
   "metadata": {},
   "outputs": [
    {
     "name": "stdout",
     "output_type": "stream",
     "text": [
      "array('i', [1, 2, 3, 4, 5])\n"
     ]
    }
   ],
   "source": [
    "import array\n",
    "arr=array.array('i',[1,2,3,4,5])\n",
    "print(arr)"
   ]
  },
  {
   "cell_type": "code",
   "execution_count": 22,
   "id": "4a0bf67a-54af-4337-a50c-97544e5d7915",
   "metadata": {},
   "outputs": [
    {
     "name": "stdout",
     "output_type": "stream",
     "text": [
      "4.0\n",
      "3.141592653589793\n"
     ]
    }
   ],
   "source": [
    "import math\n",
    "print(math.sqrt(16))\n",
    "print(math.pi)"
   ]
  },
  {
   "cell_type": "code",
   "execution_count": 25,
   "id": "3b33132e-9da3-480d-ac1e-ac921578fb68",
   "metadata": {},
   "outputs": [
    {
     "name": "stdout",
     "output_type": "stream",
     "text": [
      "4\n",
      "apple\n"
     ]
    }
   ],
   "source": [
    "import random \n",
    "print(random.randint(1,10))\n",
    "print(random.choice(['apple','banana','cherry']))"
   ]
  },
  {
   "cell_type": "code",
   "execution_count": 26,
   "id": "5d2317a6-ebf7-49b7-8848-f0ba4b33ebeb",
   "metadata": {},
   "outputs": [
    {
     "name": "stdout",
     "output_type": "stream",
     "text": [
      "C:\\Users\\Madhav Yadav\\OneDrive\\Desktop\\desktop1\\Udemy_datascience\\Python_basic\n"
     ]
    }
   ],
   "source": [
    "## File and Directory Access \n",
    "\n",
    "import os\n",
    "print(os.getcwd())"
   ]
  },
  {
   "cell_type": "code",
   "execution_count": 27,
   "id": "d4be6292-eecb-47bc-9de7-6a669108f505",
   "metadata": {},
   "outputs": [],
   "source": [
    "os.mkdir('test_dir')"
   ]
  },
  {
   "cell_type": "code",
   "execution_count": 28,
   "id": "2aeb2f9e-86d0-40df-95ea-d605e7f6a958",
   "metadata": {},
   "outputs": [
    {
     "data": {
      "text/plain": [
       "'destination.txt'"
      ]
     },
     "execution_count": 28,
     "metadata": {},
     "output_type": "execute_result"
    }
   ],
   "source": [
    "## High level Operations on files and collection of files \n",
    "\n",
    "import shutil \n",
    "shutil.copyfile('source.txt','destination.txt')"
   ]
  },
  {
   "cell_type": "code",
   "execution_count": 33,
   "id": "934a8d64-8f6d-4c0c-8a20-901762ae1dca",
   "metadata": {},
   "outputs": [
    {
     "name": "stdout",
     "output_type": "stream",
     "text": [
      "{\"name\": \"madhav\", \"age\": 34}\n",
      "<class 'str'>\n",
      "{'name': 'madhav', 'age': 34}\n",
      "<class 'dict'>\n"
     ]
    }
   ],
   "source": [
    "## Data Seralization \n",
    "\n",
    "import json \n",
    "\n",
    "data={'name':'madhav','age':34}\n",
    "josn_str=json.dumps(data)\n",
    "print(josn_str)\n",
    "print(type(josn_str))\n",
    "\n",
    "past_data=json.loads(josn_str)\n",
    "print(past_data)\n",
    "print(type(past_data))"
   ]
  },
  {
   "cell_type": "code",
   "execution_count": 35,
   "id": "21ab3e68-811f-494e-ac36-558c80b6197d",
   "metadata": {},
   "outputs": [
    {
     "ename": "TypeError",
     "evalue": "writer.writerow() takes exactly one argument (2 given)",
     "output_type": "error",
     "traceback": [
      "\u001b[31m---------------------------------------------------------------------------\u001b[39m",
      "\u001b[31mTypeError\u001b[39m                                 Traceback (most recent call last)",
      "\u001b[36mCell\u001b[39m\u001b[36m \u001b[39m\u001b[32mIn[35]\u001b[39m\u001b[32m, line 7\u001b[39m\n\u001b[32m      5\u001b[39m \u001b[38;5;28;01mwith\u001b[39;00m \u001b[38;5;28mopen\u001b[39m(\u001b[33m'\u001b[39m\u001b[33mexample.csv\u001b[39m\u001b[33m'\u001b[39m,mode=\u001b[33m'\u001b[39m\u001b[33mw\u001b[39m\u001b[33m'\u001b[39m,newline=\u001b[33m'\u001b[39m\u001b[33m'\u001b[39m)\u001b[38;5;28;01mas\u001b[39;00m file:\n\u001b[32m      6\u001b[39m     writer=csv.writer(file)\n\u001b[32m----> \u001b[39m\u001b[32m7\u001b[39m     \u001b[43mwriter\u001b[49m\u001b[43m.\u001b[49m\u001b[43mwriterow\u001b[49m\u001b[43m(\u001b[49m\u001b[33;43m'\u001b[39;49m\u001b[33;43mname\u001b[39;49m\u001b[33;43m'\u001b[39;49m\u001b[43m,\u001b[49m\u001b[33;43m'\u001b[39;49m\u001b[33;43mage\u001b[39;49m\u001b[33;43m'\u001b[39;49m\u001b[43m)\u001b[49m\n\u001b[32m      8\u001b[39m     writer.writerow([\u001b[33m'\u001b[39m\u001b[33mmadhhav\u001b[39m\u001b[33m'\u001b[39m,\u001b[32m32\u001b[39m])\n\u001b[32m      9\u001b[39m \u001b[38;5;28;01mwith\u001b[39;00m \u001b[38;5;28mopen\u001b[39m(\u001b[33m'\u001b[39m\u001b[33mexample.csv\u001b[39m\u001b[33m'\u001b[39m,mode=\u001b[33m'\u001b[39m\u001b[33mr\u001b[39m\u001b[33m'\u001b[39m) \u001b[38;5;28;01mas\u001b[39;00m file:\n",
      "\u001b[31mTypeError\u001b[39m: writer.writerow() takes exactly one argument (2 given)"
     ]
    }
   ],
   "source": [
    "##csv\n",
    "\n",
    "import csv\n",
    "\n",
    "with open('example.csv',mode='w',newline='')as file:\n",
    "    writer=csv.writer(file)\n",
    "    writer.writerow('name','age')\n",
    "    writer.writerow(['madhhav',32])\n",
    "with open('example.csv',mode='r') as file:\n",
    "    reader=csv.reader(file)\n",
    "    for row in reader:\n",
    "        print(row)"
   ]
  },
  {
   "cell_type": "code",
   "execution_count": 38,
   "id": "26483a6e-7064-492e-a859-26f1955d5da4",
   "metadata": {},
   "outputs": [
    {
     "name": "stdout",
     "output_type": "stream",
     "text": [
      "2025-09-30 06:54:22.680002\n",
      "2025-09-29 06:54:22.680002\n"
     ]
    }
   ],
   "source": [
    "from datetime import datetime,timedelta\n",
    "\n",
    "now=datetime.now()\n",
    "print(now)\n",
    "\n",
    "yesterday=now-timedelta(days=1)\n",
    "print(yesterday)"
   ]
  },
  {
   "cell_type": "code",
   "execution_count": 39,
   "id": "035b5366-14e4-458d-ba5e-f9a057b7d883",
   "metadata": {},
   "outputs": [
    {
     "name": "stdout",
     "output_type": "stream",
     "text": [
      "1759195503.5125854\n",
      "1759195505.5143986\n"
     ]
    }
   ],
   "source": [
    "## import time\n",
    "import time\n",
    "print(time.time())\n",
    "time.sleep(2)\n",
    "print(time.time())"
   ]
  },
  {
   "cell_type": "code",
   "execution_count": 40,
   "id": "10790ef1-9ead-46ed-acc2-0c803f00ba4d",
   "metadata": {},
   "outputs": [
    {
     "name": "stdout",
     "output_type": "stream",
     "text": [
      "123\n"
     ]
    }
   ],
   "source": [
    "## Regular Expressiion \n",
    "\n",
    "import re\n",
    "pattern=r'\\d+'\n",
    "text='There are 123 apples'\n",
    "match=re.search(pattern,text)\n",
    "print(match.group())"
   ]
  },
  {
   "cell_type": "code",
   "execution_count": null,
   "id": "5eb515b8-bc8f-42b9-ac94-d7b17da9fc57",
   "metadata": {},
   "outputs": [],
   "source": []
  }
 ],
 "metadata": {
  "kernelspec": {
   "display_name": "Python 3 (ipykernel)",
   "language": "python",
   "name": "python3"
  },
  "language_info": {
   "codemirror_mode": {
    "name": "ipython",
    "version": 3
   },
   "file_extension": ".py",
   "mimetype": "text/x-python",
   "name": "python",
   "nbconvert_exporter": "python",
   "pygments_lexer": "ipython3",
   "version": "3.13.7"
  },
  "widgets": {
   "application/vnd.jupyter.widget-state+json": {
    "state": {},
    "version_major": 2,
    "version_minor": 0
   }
  }
 },
 "nbformat": 4,
 "nbformat_minor": 5
}
