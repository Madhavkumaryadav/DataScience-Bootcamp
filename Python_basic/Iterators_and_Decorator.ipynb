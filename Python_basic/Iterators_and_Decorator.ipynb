{
 "cells": [
  {
   "cell_type": "markdown",
   "id": "f44c22e7-689c-4945-bb86-1e4f91b7165c",
   "metadata": {},
   "source": [
    "# Advance Python \n",
    "\n",
    "## Iterators \n",
    "\n",
    "Iterators are advanced Python concepts that allow for efficient looping and memory management. Iterators provide a way to access elements of a collection sequentially without exposing the underlying structure "
   ]
  },
  {
   "cell_type": "code",
   "execution_count": 4,
   "id": "52ce446c-8c2b-4ad1-9c93-abf4d619c7b4",
   "metadata": {},
   "outputs": [
    {
     "name": "stdout",
     "output_type": "stream",
     "text": [
      "1\n",
      "2\n",
      "3\n",
      "4\n",
      "5\n",
      "6\n"
     ]
    }
   ],
   "source": [
    "my_list=[i for i in range(1,7)]\n",
    "for i in my_list:\n",
    "    print(i)"
   ]
  },
  {
   "cell_type": "code",
   "execution_count": 5,
   "id": "eff5bf2f-611d-49ee-9e93-7fbd54e22764",
   "metadata": {},
   "outputs": [
    {
     "name": "stdout",
     "output_type": "stream",
     "text": [
      "<class 'list_iterator'>\n"
     ]
    }
   ],
   "source": [
    "## Iterator using the iter() keyboard\n",
    "\n",
    "iterator=iter(my_list)\n",
    "print(type(iterator))"
   ]
  },
  {
   "cell_type": "code",
   "execution_count": 6,
   "id": "d0a6c586-933b-4917-9069-7159d9a4faff",
   "metadata": {},
   "outputs": [
    {
     "data": {
      "text/plain": [
       "<list_iterator at 0x1f8dba8f2b0>"
      ]
     },
     "execution_count": 6,
     "metadata": {},
     "output_type": "execute_result"
    }
   ],
   "source": [
    "iterator"
   ]
  },
  {
   "cell_type": "code",
   "execution_count": 16,
   "id": "df6e86da-f6e4-4737-98ff-36245de73c63",
   "metadata": {},
   "outputs": [],
   "source": [
    "## Iterate through all the element \n",
    "\n",
    "iterator=iter(my_list)"
   ]
  },
  {
   "cell_type": "code",
   "execution_count": 23,
   "id": "fb37ebc7-5df2-419e-b60c-aafe0c26c56e",
   "metadata": {},
   "outputs": [
    {
     "name": "stdout",
     "output_type": "stream",
     "text": [
      "There are no element in the iterator\n"
     ]
    }
   ],
   "source": [
    "\n",
    "try:\n",
    "    print(next(iterator))\n",
    "except StopIteration:\n",
    "    print(\"There are no element in the iterator\")"
   ]
  },
  {
   "cell_type": "markdown",
   "id": "0f940199-f86e-411d-a485-fed99134ca9b",
   "metadata": {},
   "source": [
    "## Generators\n",
    "\n",
    "Generators are a simpler way to create iterators. They use the yeild keyword to produce a series of value lazily, which means they generate values on the fly and do not store them in memeory."
   ]
  },
  {
   "cell_type": "code",
   "execution_count": 25,
   "id": "f2ed688b-8a98-4f50-a4d0-07b90c7bf13a",
   "metadata": {},
   "outputs": [],
   "source": [
    "def square(n):\n",
    "    for i in range(3):\n",
    "        yield i ** 2"
   ]
  },
  {
   "cell_type": "code",
   "execution_count": 26,
   "id": "16231290-d261-4207-bcda-6f61e07d1403",
   "metadata": {},
   "outputs": [
    {
     "data": {
      "text/plain": [
       "<generator object square at 0x000001F8DBFA8A00>"
      ]
     },
     "execution_count": 26,
     "metadata": {},
     "output_type": "execute_result"
    }
   ],
   "source": [
    "square(3)"
   ]
  },
  {
   "cell_type": "code",
   "execution_count": 28,
   "id": "62cddf5a-f429-4fa6-ac7d-a1941b4e3d64",
   "metadata": {},
   "outputs": [
    {
     "name": "stdout",
     "output_type": "stream",
     "text": [
      "0\n",
      "1\n",
      "4\n"
     ]
    }
   ],
   "source": [
    "for i in square(8):\n",
    "    print(i)"
   ]
  },
  {
   "cell_type": "code",
   "execution_count": 29,
   "id": "be4598ad-9337-427e-856e-ce39084ec7aa",
   "metadata": {},
   "outputs": [],
   "source": [
    "def my_generator():\n",
    "    yield 1\n",
    "    yield 2 \n",
    "    yield 3"
   ]
  },
  {
   "cell_type": "code",
   "execution_count": 30,
   "id": "3835320f-f36c-4a28-86df-c605e5d90b8d",
   "metadata": {},
   "outputs": [
    {
     "data": {
      "text/plain": [
       "<generator object my_generator at 0x000001F8DBF96A30>"
      ]
     },
     "execution_count": 30,
     "metadata": {},
     "output_type": "execute_result"
    }
   ],
   "source": [
    "gen=my_generator()\n",
    "gen"
   ]
  },
  {
   "cell_type": "markdown",
   "id": "18d70d10-9249-4d3b-a671-cea834916ad7",
   "metadata": {},
   "source": [
    "### Pratical Example: Reading Large Files \n",
    "Generators are particularly useful for reading large files because they allow you to process one line at a time without loading the entire file into memory."
   ]
  },
  {
   "cell_type": "code",
   "execution_count": 37,
   "id": "83b25cb3-6d1e-4bf3-bb54-78ff78575bf6",
   "metadata": {},
   "outputs": [],
   "source": [
    "def read_large_file(file_path):\n",
    "    with open(file_path,'r') as file:\n",
    "        for line in file:\n",
    "            yield line\n",
    "            "
   ]
  },
  {
   "cell_type": "code",
   "execution_count": 41,
   "id": "cb0db8ee-9df1-4ba4-8984-d166954954a3",
   "metadata": {},
   "outputs": [
    {
     "name": "stdout",
     "output_type": "stream",
     "text": [
      "Master the theory, practice,and math behind Data Science,Machine Learning,Deep Learning,NLP with end to end projects\n",
      "Rating: 4.5 out of 54.5\n",
      "18,830 ratings\n",
      "107,604\n",
      "Students\n",
      "99 hours\n",
      "Total\n",
      "Last updated July 2025\n",
      "English\n",
      "English [CC], Arabic [Auto],\n",
      "information alert\n",
      "Schedule learning time\n",
      "Learning a little each day adds up. Research shows that students who make learning a habit are more likely to reach their goals. Set time aside to learn and get reminders using your learning scheduler.\n",
      "By the numbers\n",
      "Skill level: All Levels\n",
      "Students: 107604\n",
      "Languages: English\n",
      "Captions: Yes\n",
      "Lectures: 429\n",
      "Video: 99 total hours\n"
     ]
    }
   ],
   "source": [
    "file_path='large.txt'\n",
    "for line in read_large_file(file_path):\n",
    "    \n",
    "    print(line.strip())\n",
    "    "
   ]
  },
  {
   "cell_type": "markdown",
   "id": "4fb08ba3-7654-4813-834f-0f47b39fc7c8",
   "metadata": {},
   "source": [
    "## Decorators \n",
    "\n",
    "Decorators are a powerful and flexible feature in python that allows you to modify the behavior of a function or class method. THey are commonly used to add functionality to functions or methods without modifying their actual code. This lesson covers the basics of decorators, including how to create and use them."
   ]
  },
  {
   "cell_type": "code",
   "execution_count": 11,
   "id": "5aa97c3c-edca-4d59-a75e-5f16cdb15753",
   "metadata": {},
   "outputs": [
    {
     "data": {
      "text/plain": [
       "'Welcome to the advanced python couse'"
      ]
     },
     "execution_count": 11,
     "metadata": {},
     "output_type": "execute_result"
    }
   ],
   "source": [
    "## Function copy \n",
    "def welcome():\n",
    "    return \"Welcome to the advanced python couse\"\n",
    "\n",
    "welcome()"
   ]
  },
  {
   "cell_type": "code",
   "execution_count": 12,
   "id": "0308b2ba-437d-4ab7-82b0-24121525d5af",
   "metadata": {},
   "outputs": [],
   "source": [
    "wel=welcome\n",
    "wel()\n",
    "\n",
    "del welcome\n"
   ]
  },
  {
   "cell_type": "code",
   "execution_count": 13,
   "id": "641d3b07-0adf-40ee-b8f6-eb8164ba563b",
   "metadata": {},
   "outputs": [
    {
     "data": {
      "text/plain": [
       "'Welcome to the advanced python couse'"
      ]
     },
     "execution_count": 13,
     "metadata": {},
     "output_type": "execute_result"
    }
   ],
   "source": [
    "wel()"
   ]
  },
  {
   "cell_type": "code",
   "execution_count": 20,
   "id": "57165ced-81cb-44a6-af2e-7f80c9485f21",
   "metadata": {},
   "outputs": [],
   "source": [
    "## Closures functions :- Function inside the function  \n",
    "\n",
    "def main_welcome(msg):\n",
    "    # msg='welcome'\n",
    "    def sub_welcome():\n",
    "        print(\"Welcome to the advance python course \")\n",
    "        print(msg)\n",
    "        print(\"Please learn these comcepts properly\")\n",
    "    return sub_welcome()"
   ]
  },
  {
   "cell_type": "code",
   "execution_count": 21,
   "id": "15229d0e-f16a-4a55-baf3-17df55ad69e8",
   "metadata": {},
   "outputs": [
    {
     "name": "stdout",
     "output_type": "stream",
     "text": [
      "Welcome to the advance python course \n",
      "Hello Welcome\n",
      "Please learn these comcepts properly\n"
     ]
    }
   ],
   "source": [
    "main_welcome(\"Hello Welcome\")"
   ]
  },
  {
   "cell_type": "code",
   "execution_count": 1,
   "id": "1d853b53-fc5f-4518-80d1-041e4a90ca35",
   "metadata": {},
   "outputs": [],
   "source": [
    "def main_welcome(msg):\n",
    "    # msg='welcome'\n",
    "    def sub_welcome():\n",
    "        print(\"Welcome to the advance python course \")\n",
    "        print(msg)\n",
    "        print(\"Please learn these comcepts properly\")\n",
    "    return sub_welcome()"
   ]
  },
  {
   "cell_type": "code",
   "execution_count": 2,
   "id": "ddecd2f7-e9b8-4db7-91d9-34079565034f",
   "metadata": {},
   "outputs": [
    {
     "name": "stdout",
     "output_type": "stream",
     "text": [
      "Welcome to the advance python course \n",
      "hello\n",
      "Please learn these comcepts properly\n"
     ]
    }
   ],
   "source": [
    "main_welcome('hello')"
   ]
  },
  {
   "cell_type": "code",
   "execution_count": 3,
   "id": "8bf9f11c-94a2-4ee5-85f9-8efa4d941260",
   "metadata": {},
   "outputs": [],
   "source": [
    "def main_welcome(func,lst):\n",
    "    # msg='welcome'\n",
    "    def sub_welcome():\n",
    "        print(\"Welcome to the advance python course \")\n",
    "        print(func(lst))\n",
    "        print(\"Please learn these comcepts properly\")\n",
    "    return sub_welcome()"
   ]
  },
  {
   "cell_type": "code",
   "execution_count": 4,
   "id": "2a085611-59d9-4b65-b04d-8259f06a4d3b",
   "metadata": {},
   "outputs": [
    {
     "name": "stdout",
     "output_type": "stream",
     "text": [
      "Welcome to the advance python course \n",
      "6\n",
      "Please learn these comcepts properly\n"
     ]
    }
   ],
   "source": [
    "main_welcome(len,[1,2,3,4,5,6])"
   ]
  },
  {
   "cell_type": "code",
   "execution_count": 10,
   "id": "69a176a4-06de-4c20-9ff1-61f8a306dfc2",
   "metadata": {},
   "outputs": [],
   "source": [
    "### Start Creating a Decorator\n",
    "def main_welcome(func):\n",
    "    # msg='welcome'\n",
    "    def sub_welcome():\n",
    "        print(\"Welcome to the advance python course \")\n",
    "        func\n",
    "        print(\"Please learn these comcepts properly\")\n",
    "    return sub_welcome()"
   ]
  },
  {
   "cell_type": "code",
   "execution_count": 11,
   "id": "f99ade67-c6e5-44dc-96f0-1c31304df317",
   "metadata": {},
   "outputs": [
    {
     "name": "stdout",
     "output_type": "stream",
     "text": [
      "This is an advanced python course\n"
     ]
    }
   ],
   "source": [
    "def course_introduction():\n",
    "    print(\"This is an advanced python course\")\n",
    "\n",
    "course_introduction()"
   ]
  },
  {
   "cell_type": "code",
   "execution_count": 12,
   "id": "dc64577d-d440-4999-b424-3d9aaed2cd24",
   "metadata": {},
   "outputs": [
    {
     "name": "stdout",
     "output_type": "stream",
     "text": [
      "This is an advanced python course\n",
      "Welcome to the advance python course \n",
      "Please learn these comcepts properly\n"
     ]
    }
   ],
   "source": [
    "main_welcome(course_introduction())"
   ]
  },
  {
   "cell_type": "code",
   "execution_count": 13,
   "id": "a82c0369-f67a-4a6d-88c1-966abab11775",
   "metadata": {},
   "outputs": [
    {
     "name": "stdout",
     "output_type": "stream",
     "text": [
      "Welcome to the advance python course \n",
      "Please learn these comcepts properly\n"
     ]
    }
   ],
   "source": [
    "@main_welcome\n",
    "def course_introduction():\n",
    "    print(\"This is an advanced python course\")\n",
    "\n"
   ]
  },
  {
   "cell_type": "code",
   "execution_count": 14,
   "id": "ce60bae6-a8c0-434e-9332-9ebe1510d55a",
   "metadata": {},
   "outputs": [],
   "source": [
    "# Decorator\n",
    "def my_decorator(func):\n",
    "    def wrapper():\n",
    "        print(\"Something is happening before the function is called.\")\n",
    "        func\n",
    "        print(\"Something is happening after the function is called.\")\n",
    "    return wrapper\n"
   ]
  },
  {
   "cell_type": "code",
   "execution_count": 15,
   "id": "0d92194d-e3e9-4964-8a69-87663d9a0c15",
   "metadata": {},
   "outputs": [],
   "source": [
    "@my_decorator\n",
    "def say_hello():\n",
    "    print(\"hello!\")"
   ]
  },
  {
   "cell_type": "code",
   "execution_count": 17,
   "id": "5eb0d102-da3c-4c46-a90e-c51693bf7a5d",
   "metadata": {},
   "outputs": [
    {
     "name": "stdout",
     "output_type": "stream",
     "text": [
      "Something is happening before the function is called.\n",
      "Something is happening after the function is called.\n"
     ]
    }
   ],
   "source": [
    "say_hello()"
   ]
  },
  {
   "cell_type": "code",
   "execution_count": 18,
   "id": "4a7cad05-433c-4355-9d89-7bd14c290d69",
   "metadata": {},
   "outputs": [],
   "source": [
    "## Decorators with arguments\n",
    "\n",
    "def repeat(n):\n",
    "    def decorator(func):\n",
    "        def wrapper(*args,**kwargs):\n",
    "            for _ in range(n):\n",
    "                func(*args,**kwargs)\n",
    "        return wrapper\n",
    "    return decorator\n",
    "    "
   ]
  },
  {
   "cell_type": "code",
   "execution_count": 19,
   "id": "a4d79036-1fbf-4b6a-9ad8-30d252c3273a",
   "metadata": {},
   "outputs": [],
   "source": [
    "@repeat(4)\n",
    "def say_hello():\n",
    "    print('hello')"
   ]
  },
  {
   "cell_type": "code",
   "execution_count": 20,
   "id": "5e62e781-fe9c-4f59-b4a5-56bc5ed562d9",
   "metadata": {},
   "outputs": [
    {
     "name": "stdout",
     "output_type": "stream",
     "text": [
      "hello\n",
      "hello\n",
      "hello\n",
      "hello\n"
     ]
    }
   ],
   "source": [
    "say_hello()"
   ]
  },
  {
   "cell_type": "markdown",
   "id": "2f99ce8c-dc5d-4477-b45b-df4a27d1ca47",
   "metadata": {},
   "source": [
    "### Conclusion\n",
    "\n",
    "Decorators are a powerful tool in Pyhton for extending and modifying the behavior of functions and methods. They provide a clean and readable way to add functionality such as logging, timing, access control, and more without changing the original code. Understanding and using decoratorseffectively can significantly enchance you Python programming skills."
   ]
  },
  {
   "cell_type": "code",
   "execution_count": null,
   "id": "8be5cf65-9383-41c1-9f6c-bce8246a10cd",
   "metadata": {},
   "outputs": [],
   "source": []
  }
 ],
 "metadata": {
  "kernelspec": {
   "display_name": "Python 3 (ipykernel)",
   "language": "python",
   "name": "python3"
  },
  "language_info": {
   "codemirror_mode": {
    "name": "ipython",
    "version": 3
   },
   "file_extension": ".py",
   "mimetype": "text/x-python",
   "name": "python",
   "nbconvert_exporter": "python",
   "pygments_lexer": "ipython3",
   "version": "3.13.7"
  },
  "widgets": {
   "application/vnd.jupyter.widget-state+json": {
    "state": {},
    "version_major": 2,
    "version_minor": 0
   }
  }
 },
 "nbformat": 4,
 "nbformat_minor": 5
}
