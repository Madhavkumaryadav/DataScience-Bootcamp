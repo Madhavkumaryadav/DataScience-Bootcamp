{
 "cells": [
  {
   "cell_type": "markdown",
   "id": "f44c22e7-689c-4945-bb86-1e4f91b7165c",
   "metadata": {},
   "source": [
    "# Advance Python \n",
    "\n",
    "## Iterators \n",
    "\n",
    "Iterators are advanced Python concepts that allow for efficient looping and memory management. Iterators provide a way to access elements of a collection sequentially without exposing the underlying structure "
   ]
  },
  {
   "cell_type": "code",
   "execution_count": 4,
   "id": "52ce446c-8c2b-4ad1-9c93-abf4d619c7b4",
   "metadata": {},
   "outputs": [
    {
     "name": "stdout",
     "output_type": "stream",
     "text": [
      "1\n",
      "2\n",
      "3\n",
      "4\n",
      "5\n",
      "6\n"
     ]
    }
   ],
   "source": [
    "my_list=[i for i in range(1,7)]\n",
    "for i in my_list:\n",
    "    print(i)"
   ]
  },
  {
   "cell_type": "code",
   "execution_count": 5,
   "id": "eff5bf2f-611d-49ee-9e93-7fbd54e22764",
   "metadata": {},
   "outputs": [
    {
     "name": "stdout",
     "output_type": "stream",
     "text": [
      "<class 'list_iterator'>\n"
     ]
    }
   ],
   "source": [
    "## Iterator using the iter() keyboard\n",
    "\n",
    "iterator=iter(my_list)\n",
    "print(type(iterator))"
   ]
  },
  {
   "cell_type": "code",
   "execution_count": 6,
   "id": "d0a6c586-933b-4917-9069-7159d9a4faff",
   "metadata": {},
   "outputs": [
    {
     "data": {
      "text/plain": [
       "<list_iterator at 0x1f8dba8f2b0>"
      ]
     },
     "execution_count": 6,
     "metadata": {},
     "output_type": "execute_result"
    }
   ],
   "source": [
    "iterator"
   ]
  },
  {
   "cell_type": "code",
   "execution_count": 16,
   "id": "df6e86da-f6e4-4737-98ff-36245de73c63",
   "metadata": {},
   "outputs": [],
   "source": [
    "## Iterate through all the element \n",
    "\n",
    "iterator=iter(my_list)"
   ]
  },
  {
   "cell_type": "code",
   "execution_count": 23,
   "id": "fb37ebc7-5df2-419e-b60c-aafe0c26c56e",
   "metadata": {},
   "outputs": [
    {
     "name": "stdout",
     "output_type": "stream",
     "text": [
      "There are no element in the iterator\n"
     ]
    }
   ],
   "source": [
    "\n",
    "try:\n",
    "    print(next(iterator))\n",
    "except StopIteration:\n",
    "    print(\"There are no element in the iterator\")"
   ]
  },
  {
   "cell_type": "markdown",
   "id": "0f940199-f86e-411d-a485-fed99134ca9b",
   "metadata": {},
   "source": [
    "## Generators\n",
    "\n",
    "Generators are a simpler way to create iterators. They use the yeild keyword to produce a series of value lazily, which means they generate values on the fly and do not store them in memeory."
   ]
  },
  {
   "cell_type": "code",
   "execution_count": 25,
   "id": "f2ed688b-8a98-4f50-a4d0-07b90c7bf13a",
   "metadata": {},
   "outputs": [],
   "source": [
    "def square(n):\n",
    "    for i in range(3):\n",
    "        yield i ** 2"
   ]
  },
  {
   "cell_type": "code",
   "execution_count": 26,
   "id": "16231290-d261-4207-bcda-6f61e07d1403",
   "metadata": {},
   "outputs": [
    {
     "data": {
      "text/plain": [
       "<generator object square at 0x000001F8DBFA8A00>"
      ]
     },
     "execution_count": 26,
     "metadata": {},
     "output_type": "execute_result"
    }
   ],
   "source": [
    "square(3)"
   ]
  },
  {
   "cell_type": "code",
   "execution_count": 28,
   "id": "62cddf5a-f429-4fa6-ac7d-a1941b4e3d64",
   "metadata": {},
   "outputs": [
    {
     "name": "stdout",
     "output_type": "stream",
     "text": [
      "0\n",
      "1\n",
      "4\n"
     ]
    }
   ],
   "source": [
    "for i in square(8):\n",
    "    print(i)"
   ]
  },
  {
   "cell_type": "code",
   "execution_count": 29,
   "id": "be4598ad-9337-427e-856e-ce39084ec7aa",
   "metadata": {},
   "outputs": [],
   "source": [
    "def my_generator():\n",
    "    yield 1\n",
    "    yield 2 \n",
    "    yield 3"
   ]
  },
  {
   "cell_type": "code",
   "execution_count": 30,
   "id": "3835320f-f36c-4a28-86df-c605e5d90b8d",
   "metadata": {},
   "outputs": [
    {
     "data": {
      "text/plain": [
       "<generator object my_generator at 0x000001F8DBF96A30>"
      ]
     },
     "execution_count": 30,
     "metadata": {},
     "output_type": "execute_result"
    }
   ],
   "source": [
    "gen=my_generator()\n",
    "gen"
   ]
  },
  {
   "cell_type": "markdown",
   "id": "18d70d10-9249-4d3b-a671-cea834916ad7",
   "metadata": {},
   "source": [
    "### Pratical Example: Reading Large Files \n",
    "Generators are particularly useful for reading large files because they allow you to process one line at a time without loading the entire file into memory."
   ]
  },
  {
   "cell_type": "code",
   "execution_count": 37,
   "id": "83b25cb3-6d1e-4bf3-bb54-78ff78575bf6",
   "metadata": {},
   "outputs": [],
   "source": [
    "def read_large_file(file_path):\n",
    "    with open(file_path,'r') as file:\n",
    "        for line in file:\n",
    "            yield line\n",
    "            "
   ]
  },
  {
   "cell_type": "code",
   "execution_count": 41,
   "id": "cb0db8ee-9df1-4ba4-8984-d166954954a3",
   "metadata": {},
   "outputs": [
    {
     "name": "stdout",
     "output_type": "stream",
     "text": [
      "Master the theory, practice,and math behind Data Science,Machine Learning,Deep Learning,NLP with end to end projects\n",
      "Rating: 4.5 out of 54.5\n",
      "18,830 ratings\n",
      "107,604\n",
      "Students\n",
      "99 hours\n",
      "Total\n",
      "Last updated July 2025\n",
      "English\n",
      "English [CC], Arabic [Auto],\n",
      "information alert\n",
      "Schedule learning time\n",
      "Learning a little each day adds up. Research shows that students who make learning a habit are more likely to reach their goals. Set time aside to learn and get reminders using your learning scheduler.\n",
      "By the numbers\n",
      "Skill level: All Levels\n",
      "Students: 107604\n",
      "Languages: English\n",
      "Captions: Yes\n",
      "Lectures: 429\n",
      "Video: 99 total hours\n"
     ]
    }
   ],
   "source": [
    "file_path='large.txt'\n",
    "for line in read_large_file(file_path):\n",
    "    \n",
    "    print(line.strip())\n",
    "    "
   ]
  },
  {
   "cell_type": "markdown",
   "id": "4fb08ba3-7654-4813-834f-0f47b39fc7c8",
   "metadata": {},
   "source": [
    "## Decorators \n",
    "\n",
    "Decorators are a powerful and flexible feature in python that allows you to modify the behavior of a function or class method. THey are commonly used to add functionality to functions or methods without modifying their actual code. This lesson covers the basics of decorators, including how to create and use them."
   ]
  },
  {
   "cell_type": "code",
   "execution_count": 11,
   "id": "5aa97c3c-edca-4d59-a75e-5f16cdb15753",
   "metadata": {},
   "outputs": [
    {
     "data": {
      "text/plain": [
       "'Welcome to the advanced python couse'"
      ]
     },
     "execution_count": 11,
     "metadata": {},
     "output_type": "execute_result"
    }
   ],
   "source": [
    "## Function copy \n",
    "def welcome():\n",
    "    return \"Welcome to the advanced python couse\"\n",
    "\n",
    "welcome()"
   ]
  },
  {
   "cell_type": "code",
   "execution_count": 12,
   "id": "0308b2ba-437d-4ab7-82b0-24121525d5af",
   "metadata": {},
   "outputs": [],
   "source": [
    "wel=welcome\n",
    "wel()\n",
    "\n",
    "del welcome\n"
   ]
  },
  {
   "cell_type": "code",
   "execution_count": 13,
   "id": "641d3b07-0adf-40ee-b8f6-eb8164ba563b",
   "metadata": {},
   "outputs": [
    {
     "data": {
      "text/plain": [
       "'Welcome to the advanced python couse'"
      ]
     },
     "execution_count": 13,
     "metadata": {},
     "output_type": "execute_result"
    }
   ],
   "source": [
    "wel()"
   ]
  },
  {
   "cell_type": "code",
   "execution_count": 20,
   "id": "57165ced-81cb-44a6-af2e-7f80c9485f21",
   "metadata": {},
   "outputs": [],
   "source": [
    "## Closures functions :- Function inside the function  \n",
    "\n",
    "def main_welcome(msg):\n",
    "    # msg='welcome'\n",
    "    def sub_welcome():\n",
    "        print(\"Welcome to the advance python course \")\n",
    "        print(msg)\n",
    "        print(\"Please learn these comcepts properly\")\n",
    "    return sub_welcome()"
   ]
  },
  {
   "cell_type": "code",
   "execution_count": 21,
   "id": "15229d0e-f16a-4a55-baf3-17df55ad69e8",
   "metadata": {},
   "outputs": [
    {
     "name": "stdout",
     "output_type": "stream",
     "text": [
      "Welcome to the advance python course \n",
      "Hello Welcome\n",
      "Please learn these comcepts properly\n"
     ]
    }
   ],
   "source": [
    "main_welcome(\"Hello Welcome\")"
   ]
  },
  {
   "cell_type": "code",
   "execution_count": null,
   "id": "1d853b53-fc5f-4518-80d1-041e4a90ca35",
   "metadata": {},
   "outputs": [],
   "source": [
    "def main_welcome(msg):\n",
    "    # msg='welcome'\n",
    "    def sub_welcome():\n",
    "        print(\"Welcome to the advance python course \")\n",
    "        print(msg)\n",
    "        print(\"Please learn these comcepts properly\")\n",
    "    return sub_welcome()"
   ]
  }
 ],
 "metadata": {
  "kernelspec": {
   "display_name": "Python 3 (ipykernel)",
   "language": "python",
   "name": "python3"
  },
  "language_info": {
   "codemirror_mode": {
    "name": "ipython",
    "version": 3
   },
   "file_extension": ".py",
   "mimetype": "text/x-python",
   "name": "python",
   "nbconvert_exporter": "python",
   "pygments_lexer": "ipython3",
   "version": "3.13.7"
  },
  "widgets": {
   "application/vnd.jupyter.widget-state+json": {
    "state": {},
    "version_major": 2,
    "version_minor": 0
   }
  }
 },
 "nbformat": 4,
 "nbformat_minor": 5
}
