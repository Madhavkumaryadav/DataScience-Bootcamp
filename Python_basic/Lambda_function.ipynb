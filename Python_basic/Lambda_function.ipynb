{
 "cells": [
  {
   "cell_type": "markdown",
   "id": "ef602b91-5f44-4eb8-8e67-1639d7f0ea14",
   "metadata": {},
   "source": [
    "## Lambda FUnctions in Python\n",
    "Lambda functionare small anonymous function defined using the labda keyword. THey can have any number of arguments but only one expression. They are commonly used for short operations or as arguments to higher-order functions.\n"
   ]
  },
  {
   "cell_type": "code",
   "execution_count": 1,
   "id": "5951c207-9178-4840-bb35-1b7a09b87517",
   "metadata": {},
   "outputs": [],
   "source": [
    "# Syntax\n",
    "# lambda argument : expression"
   ]
  },
  {
   "cell_type": "code",
   "execution_count": 3,
   "id": "6b34a0d6-d387-4a9e-80a4-42442817c9fc",
   "metadata": {},
   "outputs": [],
   "source": [
    "def addition(a,b):\n",
    "    return a+b"
   ]
  },
  {
   "cell_type": "code",
   "execution_count": 4,
   "id": "f61fa394-4f92-4392-bf4e-e5adde62804c",
   "metadata": {},
   "outputs": [
    {
     "data": {
      "text/plain": [
       "17"
      ]
     },
     "execution_count": 4,
     "metadata": {},
     "output_type": "execute_result"
    }
   ],
   "source": [
    "addition(9,8)"
   ]
  },
  {
   "cell_type": "code",
   "execution_count": 5,
   "id": "60dab57b-3efc-4361-817d-79d5a4c161e6",
   "metadata": {},
   "outputs": [
    {
     "data": {
      "text/plain": [
       "127"
      ]
     },
     "execution_count": 5,
     "metadata": {},
     "output_type": "execute_result"
    }
   ],
   "source": [
    "addition=lambda a,b : a+b\n",
    "addition(38,89)"
   ]
  },
  {
   "cell_type": "code",
   "execution_count": 7,
   "id": "f08eda83-87f3-4c99-b41c-747e51be823c",
   "metadata": {},
   "outputs": [
    {
     "name": "stdout",
     "output_type": "stream",
     "text": [
      "<class 'function'>\n",
      "79\n"
     ]
    }
   ],
   "source": [
    "print(type(addition))\n",
    "print(addition(45,34))"
   ]
  },
  {
   "cell_type": "code",
   "execution_count": 10,
   "id": "d5cc1a76-4c72-4551-9439-dfbcc8215a23",
   "metadata": {},
   "outputs": [
    {
     "name": "stdout",
     "output_type": "stream",
     "text": [
      "True\n"
     ]
    }
   ],
   "source": [
    "def even(num):\n",
    "    if num % 2 == 0:\n",
    "        return True\n",
    "print(even(90))"
   ]
  },
  {
   "cell_type": "code",
   "execution_count": 11,
   "id": "7123fa4c-bc1f-475a-bbee-667491ba5123",
   "metadata": {},
   "outputs": [
    {
     "data": {
      "text/plain": [
       "True"
      ]
     },
     "execution_count": 11,
     "metadata": {},
     "output_type": "execute_result"
    }
   ],
   "source": [
    "even1=lambda num: num %2==0\n",
    "even1(20)"
   ]
  },
  {
   "cell_type": "code",
   "execution_count": 12,
   "id": "066c0eff-b2d6-44b7-a8bb-d2b48f96baad",
   "metadata": {},
   "outputs": [
    {
     "data": {
      "text/plain": [
       "72"
      ]
     },
     "execution_count": 12,
     "metadata": {},
     "output_type": "execute_result"
    }
   ],
   "source": [
    "def addition(x,y,z):\n",
    "    return x+y+z\n",
    "addition(3,4,65)"
   ]
  },
  {
   "cell_type": "code",
   "execution_count": 14,
   "id": "f89142b3-16ab-436b-bb18-e355265db40e",
   "metadata": {},
   "outputs": [
    {
     "data": {
      "text/plain": [
       "50"
      ]
     },
     "execution_count": 14,
     "metadata": {},
     "output_type": "execute_result"
    }
   ],
   "source": [
    "addition1=lambda x,y,z:x+y+z\n",
    "addition1(2,3,45)"
   ]
  },
  {
   "cell_type": "code",
   "execution_count": 17,
   "id": "05065b30-ff54-4ac3-b067-cef2daed4e1f",
   "metadata": {},
   "outputs": [
    {
     "data": {
      "text/plain": [
       "25"
      ]
     },
     "execution_count": 17,
     "metadata": {},
     "output_type": "execute_result"
    }
   ],
   "source": [
    "## map() ;- applies a function to all items in a list \n",
    "\n",
    "numbers=[1,2,3,4,5,6,7]\n",
    "def square(numbers):\n",
    "    return numbers * numbers\n",
    "square(5)"
   ]
  },
  {
   "cell_type": "code",
   "execution_count": 18,
   "id": "856d48b2-094d-4306-97f2-64aa29cb61d3",
   "metadata": {},
   "outputs": [
    {
     "data": {
      "text/plain": [
       "[1, 4, 9, 16, 25, 36, 49]"
      ]
     },
     "execution_count": 18,
     "metadata": {},
     "output_type": "execute_result"
    }
   ],
   "source": [
    "list(map(lambda x:x**2,numbers))"
   ]
  },
  {
   "cell_type": "markdown",
   "id": "32826950-251d-4d98-8841-cfd00af7148e",
   "metadata": {},
   "source": [
    "## The map() Function in Python \n",
    "The map() function applies a given function to all items in an input list (or any other iterable and returns and map object ( an iteratory). This is particularly useful for transforming data in a list comprehensively."
   ]
  },
  {
   "cell_type": "code",
   "execution_count": 19,
   "id": "66f9cbd1-2503-4878-8495-f6f8b606a117",
   "metadata": {},
   "outputs": [
    {
     "data": {
      "text/plain": [
       "10000"
      ]
     },
     "execution_count": 19,
     "metadata": {},
     "output_type": "execute_result"
    }
   ],
   "source": [
    "def square(x):\n",
    "    return x**2\n",
    "square(100)"
   ]
  },
  {
   "cell_type": "code",
   "execution_count": 21,
   "id": "0522df3e-d223-4474-9cae-1254cd837171",
   "metadata": {},
   "outputs": [
    {
     "data": {
      "text/plain": [
       "[4, 9, 16, 25, 36, 49, 64, 81]"
      ]
     },
     "execution_count": 21,
     "metadata": {},
     "output_type": "execute_result"
    }
   ],
   "source": [
    "numbers=[2,3,4,5,6,7,8,9]\n",
    "\n",
    "list(map(square,numbers))\n",
    "\n",
    "# list(map(lambda x : x**2,numbers))"
   ]
  },
  {
   "cell_type": "code",
   "execution_count": 23,
   "id": "522c8cd0-d43d-44a3-b755-4e0e2d9c8efd",
   "metadata": {},
   "outputs": [
    {
     "data": {
      "text/plain": [
       "[False, True, False, True, False, True, False, True, False]"
      ]
     },
     "execution_count": 23,
     "metadata": {},
     "output_type": "execute_result"
    }
   ],
   "source": [
    "## Lmbda function with map \n",
    "\n",
    "list(map(lambda x:x%2==0,list(range(1,10))))"
   ]
  },
  {
   "cell_type": "code",
   "execution_count": 2,
   "id": "795a7699-56be-48a3-a00e-7cc69c96b7b5",
   "metadata": {},
   "outputs": [
    {
     "data": {
      "text/plain": [
       "[1, 4, 9, 9, 16, 25]"
      ]
     },
     "execution_count": 2,
     "metadata": {},
     "output_type": "execute_result"
    }
   ],
   "source": [
    "number=[1,2,3,3,4,5]\n",
    "list(map(lambda x:x**2,number))"
   ]
  },
  {
   "cell_type": "code",
   "execution_count": 3,
   "id": "f7b6e769-6283-47e0-a06a-309ce53eb5d7",
   "metadata": {},
   "outputs": [
    {
     "data": {
      "text/plain": [
       "[5, 7, 9]"
      ]
     },
     "execution_count": 3,
     "metadata": {},
     "output_type": "execute_result"
    }
   ],
   "source": [
    "number1=[1,2,3]\n",
    "number2=[4,5,6]\n",
    "\n",
    "added_numbers=map(lambda x,y:x+y,number1,number2)\n",
    "list(added_numbers)"
   ]
  },
  {
   "cell_type": "code",
   "execution_count": 4,
   "id": "6fef8c2b-aaa9-4903-8618-ada44043aea7",
   "metadata": {},
   "outputs": [
    {
     "name": "stdout",
     "output_type": "stream",
     "text": [
      "[1, 2, 3, 4, 5]\n"
     ]
    }
   ],
   "source": [
    "## map to convert a list of string to integers \n",
    "## Use map to convert strings to integers \n",
    "\n",
    "str_numbers=['1','2','3','4','5']\n",
    "int_numbers=list(map(int,str_numbers))\n",
    "print(int_numbers)"
   ]
  },
  {
   "cell_type": "code",
   "execution_count": 5,
   "id": "b31d7411-f978-4f17-a13c-43deae1ca398",
   "metadata": {},
   "outputs": [
    {
     "name": "stdout",
     "output_type": "stream",
     "text": [
      "['APPLE', 'BANANA', 'CHERRY']\n"
     ]
    }
   ],
   "source": [
    "words=['apple','banana','cherry']\n",
    "upper_sord=list(map(str.upper,words))\n",
    "print(upper_sord)"
   ]
  },
  {
   "cell_type": "code",
   "execution_count": 7,
   "id": "ecf3c62f-0120-4b23-a381-5b6cce608551",
   "metadata": {},
   "outputs": [
    {
     "data": {
      "text/plain": [
       "['madhav', 'suraj']"
      ]
     },
     "execution_count": 7,
     "metadata": {},
     "output_type": "execute_result"
    }
   ],
   "source": [
    "def get_name(person):\n",
    "    return person['name']\n",
    "people=[\n",
    "    {'name':'madhav','age':14},\n",
    "    {'name':'suraj','age':34}\n",
    "]\n",
    "\n",
    "list(map(get_name,people))"
   ]
  },
  {
   "cell_type": "markdown",
   "id": "ffe5d88f-a76e-4541-9d90-0b2b18a65f32",
   "metadata": {},
   "source": [
    "### Conclusion\n",
    "The map() function is a powerful tool for applying transformations to iterable data structures. It can be used with regular functions, lambda functions, and even multiple iterables providing a versatile approach to data processing in python. By understanding and utilising map(),\n",
    "you can with more efficient and readable code."
   ]
  },
  {
   "cell_type": "markdown",
   "id": "2a82eb35-ca4a-479c-b2cf-20e213ab6b2b",
   "metadata": {},
   "source": [
    "## filter() Function in python \n",
    "The filter() function constructs an iterator from elements of an iterable for which a function returns true. is used to filter out times from a list (or any other iterable based on a condition."
   ]
  },
  {
   "cell_type": "code",
   "execution_count": 9,
   "id": "54501e15-c5cd-4136-bb68-58c8982096d7",
   "metadata": {},
   "outputs": [
    {
     "data": {
      "text/plain": [
       "True"
      ]
     },
     "execution_count": 9,
     "metadata": {},
     "output_type": "execute_result"
    }
   ],
   "source": [
    "def even(num):\n",
    "    if num % 2 ==0:\n",
    "        return True\n",
    "\n",
    "even(24)"
   ]
  },
  {
   "cell_type": "code",
   "execution_count": 10,
   "id": "78f89c25-17ea-452b-8028-58ef0e2bad3d",
   "metadata": {},
   "outputs": [
    {
     "data": {
      "text/plain": [
       "[2, 4, 6, 8, 76, 54, 34, 12]"
      ]
     },
     "execution_count": 10,
     "metadata": {},
     "output_type": "execute_result"
    }
   ],
   "source": [
    "lst=[1,2,3,4,6,7,8,76,54,34,23,21,12,15]\n",
    "\n",
    "list(filter(even,lst))"
   ]
  },
  {
   "cell_type": "code",
   "execution_count": 12,
   "id": "c222d409-455b-4b70-885c-9cc1e5a8b722",
   "metadata": {},
   "outputs": [
    {
     "data": {
      "text/plain": [
       "[6, 6, 7, 8, 8, 8, 9]"
      ]
     },
     "execution_count": 12,
     "metadata": {},
     "output_type": "execute_result"
    }
   ],
   "source": [
    "## filter with a lambda function \n",
    "numbers=[1,2,3,4,5,6,6,7,8,8,8,9]\n",
    "greater_than_five=list(filter(lambda x: x>5,numbers))\n",
    "greater_than_five"
   ]
  },
  {
   "cell_type": "code",
   "execution_count": 14,
   "id": "c1a204db-5352-4296-9a02-9e66d9d5d9c9",
   "metadata": {},
   "outputs": [
    {
     "data": {
      "text/plain": [
       "[6, 8]"
      ]
     },
     "execution_count": 14,
     "metadata": {},
     "output_type": "execute_result"
    }
   ],
   "source": [
    "## Filter with a lambda function and multiple conditions \n",
    "\n",
    "numbers=[1,2,3,4,5,6,7,8,9]\n",
    "even_and_greater_then_five=list(filter(lambda x:x>5 and x%2==0,numbers))\n",
    "even_and_greater_then_five"
   ]
  },
  {
   "cell_type": "code",
   "execution_count": 16,
   "id": "3717216f-00e4-41fa-8c0c-fe9d4d2e8025",
   "metadata": {},
   "outputs": [
    {
     "data": {
      "text/plain": [
       "[{'name': 'suraj', 'age': 34}, {'name': 'Rakesh', 'age': 28}]"
      ]
     },
     "execution_count": 16,
     "metadata": {},
     "output_type": "execute_result"
    }
   ],
   "source": [
    "## filter() to check if the age is greater then 25 in dictionaries \n",
    "\n",
    "people=[\n",
    "    {'name':'madhav','age':14},\n",
    "    {'name':'suraj','age':34},\n",
    "    {'name':'Rakesh','age':28}\n",
    "]\n",
    "\n",
    "def age_greater_then_25(person):\n",
    "    return person['age']>25\n",
    "\n",
    "list(filter(age_greater_then_25,people))"
   ]
  },
  {
   "cell_type": "markdown",
   "id": "a51b70da-d6c8-4363-9364-61990561345f",
   "metadata": {},
   "source": [
    "### Conclusion\n",
    "The filter() function is a powerful tool for creating iterators that filter items out of an iterable based on a function. It is commonly used for data cleaning, filtering objects and removing unwanted elements from lists. By mastering filter()you can write more concise and efficent code for processing and manipulating collections in Python "
   ]
  },
  {
   "cell_type": "code",
   "execution_count": null,
   "id": "734bc222-637e-4b35-8e03-f88fe8c8404f",
   "metadata": {},
   "outputs": [],
   "source": []
  }
 ],
 "metadata": {
  "kernelspec": {
   "display_name": "Python 3 (ipykernel)",
   "language": "python",
   "name": "python3"
  },
  "language_info": {
   "codemirror_mode": {
    "name": "ipython",
    "version": 3
   },
   "file_extension": ".py",
   "mimetype": "text/x-python",
   "name": "python",
   "nbconvert_exporter": "python",
   "pygments_lexer": "ipython3",
   "version": "3.13.7"
  },
  "widgets": {
   "application/vnd.jupyter.widget-state+json": {
    "state": {},
    "version_major": 2,
    "version_minor": 0
   }
  }
 },
 "nbformat": 4,
 "nbformat_minor": 5
}
