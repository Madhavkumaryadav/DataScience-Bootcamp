{
 "cells": [
  {
   "cell_type": "markdown",
   "id": "192fc8c4-8deb-486d-9739-fb8a613c4638",
   "metadata": {},
   "source": [
    "# Python Logging \n",
    "\n",
    "Logging is a crucial aspect of any application, providing a way to track events errors , and operational information. Python's built-in loggining module offers a flexible frambework for emitting log messages from python programs. In this lession we will cover this basic of loogining, including how to configure logging, log levels, and best practices for useing logging in python applications. "
   ]
  },
  {
   "cell_type": "code",
   "execution_count": null,
   "id": "ba945cb9-15f9-4a5d-a9e7-4ecbeb008acf",
   "metadata": {},
   "outputs": [],
   "source": []
  },
  {
   "cell_type": "code",
   "execution_count": 2,
   "id": "f4024336-4d9f-47e3-aa3f-1f51650b1910",
   "metadata": {},
   "outputs": [],
   "source": [
    "import logging"
   ]
  },
  {
   "cell_type": "code",
   "execution_count": 3,
   "id": "c3730681-b3aa-418d-9bb9-874ecf1bc7db",
   "metadata": {},
   "outputs": [],
   "source": [
    "## Configure the basic logging settings \n",
    "logging.basicConfig(level=logging.DEBUG)"
   ]
  },
  {
   "cell_type": "code",
   "execution_count": 4,
   "id": "c491416b-8b7e-41e8-bedc-e92af383c7c4",
   "metadata": {},
   "outputs": [
    {
     "name": "stderr",
     "output_type": "stream",
     "text": [
      "DEBUG:root:This is a debug message\n",
      "INFO:root:This is an info message\n",
      "WARNING:root:This is an warning message \n",
      "ERROR:root:this is an error message\n",
      "CRITICAL:root:This is a critical message\n"
     ]
    }
   ],
   "source": [
    "\n",
    "## Log messages \n",
    "\n",
    "logging.debug('This is a debug message')\n",
    "logging.info('This is an info message')\n",
    "logging.warning('This is an warning message ')\n",
    "logging.error('this is an error message')\n",
    "logging.critical('This is a critical message')\n"
   ]
  },
  {
   "cell_type": "markdown",
   "id": "4bc1d4e3-d8fa-4110-adba-190b8654c582",
   "metadata": {},
   "source": [
    "#### Log levels \n",
    "Python's logging module has severallog levels indicating the severity of events. The default levels are:\n",
    "\n",
    "1 :- DEBUG : Detailed information, typically of interest only when diagnosis problems\n",
    "\n",
    "2 :- INFO : confirmation that things are working as expected. \n",
    "\n",
    "3 :- WARNING :- An indication that something unexpected happened or indicative of some problem in the near future (e.g., disk space low). The software is still working as expected.\n",
    "\n",
    "4 :- ERROR : Due to a more serlous problem, the software has not been able to perform some function. \n",
    "\n",
    "5 :- CRITICAL :- A very serious error, indicating that the program itself may be unable to continue running "
   ]
  },
  {
   "cell_type": "code",
   "execution_count": 13,
   "id": "c292ce3e-89ab-47e1-b52a-160662a6d174",
   "metadata": {},
   "outputs": [
    {
     "name": "stderr",
     "output_type": "stream",
     "text": [
      "DEBUG:root:This is a debug message\n",
      "INFO:root:This is an info message\n",
      "WARNING:root:This is an warning message \n",
      "ERROR:root:this is an error message\n",
      "CRITICAL:root:This is a critical message\n"
     ]
    }
   ],
   "source": [
    "## Configuring logging\n",
    "\n",
    "logging.basicConfig(\n",
    "    filename='logging.log',\n",
    "    filemode='w',\n",
    "    level=logging.DEBUG,\n",
    "    format='%(asctime)s-%(name)s-%(levelname-%(message)s',\n",
    "    datefmt='%Y-%m-%d %H:%M:%S'\n",
    ")\n",
    "logging.debug('This is a debug message')\n",
    "logging.info('This is an info message')\n",
    "logging.warning('This is an warning message ')\n",
    "logging.error('this is an error message')\n",
    "logging.critical('This is a critical message')"
   ]
  },
  {
   "cell_type": "code",
   "execution_count": null,
   "id": "2a955539-4e90-46f3-bada-08f25e756ad4",
   "metadata": {},
   "outputs": [
    {
     "name": "stderr",
     "output_type": "stream",
     "text": [
      "DEBUG:root:This is a debug message\n"
     ]
    }
   ],
   "source": [
    "## Configuring logging\n",
    "\n",
    "logging.basicConfig(\n",
    "    filename='app.log',\n",
    "    filemode='w',\n",
    "    level=logging.DEBUG,\n",
    "    format='%(asctime)s-%(name)s-%(levelname-%(message)s',\n",
    "    datefmt='%Y-%m-%d %H:%M:%S'\n",
    ")\n",
    "logging.debug('This is a debug message')\n",
    "logging.info('This is an info message')\n",
    "logging.warning('This is an warning message ')\n",
    "logging.error('this is an error message')\n",
    "logging.critical('This is a critical message')"
   ]
  },
  {
   "cell_type": "code",
   "execution_count": null,
   "id": "35b8fb4d-fad3-4a69-96c7-0f591968cd16",
   "metadata": {},
   "outputs": [],
   "source": []
  },
  {
   "cell_type": "code",
   "execution_count": null,
   "id": "82fd96c5-6d12-4068-b7eb-fb297cb1fb02",
   "metadata": {},
   "outputs": [],
   "source": []
  },
  {
   "cell_type": "code",
   "execution_count": null,
   "id": "e4f786e9-411a-45e5-ad14-932512c2db78",
   "metadata": {},
   "outputs": [],
   "source": []
  },
  {
   "cell_type": "code",
   "execution_count": null,
   "id": "d1abd8cc-1a7c-457a-91b7-d604ee0e8f22",
   "metadata": {},
   "outputs": [],
   "source": []
  },
  {
   "cell_type": "code",
   "execution_count": null,
   "id": "d958bcdc-28f8-4d08-bd47-8939a5f40806",
   "metadata": {},
   "outputs": [],
   "source": []
  }
 ],
 "metadata": {
  "kernelspec": {
   "display_name": "venv",
   "language": "python",
   "name": "python3"
  },
  "language_info": {
   "codemirror_mode": {
    "name": "ipython",
    "version": 3
   },
   "file_extension": ".py",
   "mimetype": "text/x-python",
   "name": "python",
   "nbconvert_exporter": "python",
   "pygments_lexer": "ipython3",
   "version": "3.13.7"
  },
  "widgets": {
   "application/vnd.jupyter.widget-state+json": {
    "state": {},
    "version_major": 2,
    "version_minor": 0
   }
  }
 },
 "nbformat": 4,
 "nbformat_minor": 5
}
