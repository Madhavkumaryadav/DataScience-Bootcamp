{
 "cells": [
  {
   "cell_type": "markdown",
   "id": "bf1830c5-8d62-4264-9417-7a07aac3b8b6",
   "metadata": {},
   "source": [
    "## Magic Methods \n",
    "\n",
    "Magic methods in Python, also known as dunder methods (double underscore methods), are special methods that start and end with double underscores. These meghods enable you to define the behavior of objects for built-in operations, such as arithmetic operations, comparisons, and more.\n",
    "\n",
    "\n",
    "### Magic Methods\n",
    "\n",
    "Magic methods are predefined methods in Python that you can override to change the behavior of your objects. Some common magic methods include.\n",
    "    \n",
    "    1. init: initializes a new instance of a class.\n",
    "    \n",
    "    2 str: return a string representation of an object \n",
    "    \n",
    "    3. repr: Return an officialstring representation "
   ]
  },
  {
   "cell_type": "code",
   "execution_count": 1,
   "id": "d43431ca-b9ea-41ac-a03b-4f2466e1bc4a",
   "metadata": {},
   "outputs": [
    {
     "data": {
      "text/plain": [
       "'\\n__init__ : initializes a new instance of a class. \\n__str__: Returns a string Representation of an objects.\\n__repr__: Return an official string representation an object.\\n\\n'"
      ]
     },
     "execution_count": 1,
     "metadata": {},
     "output_type": "execute_result"
    }
   ],
   "source": [
    "'''\n",
    "__init__ : initializes a new instance of a class. \n",
    "__str__: Returns a string Representation of an objects.\n",
    "__repr__: Return an official string representation an object.\n",
    "\n",
    "'''"
   ]
  },
  {
   "cell_type": "code",
   "execution_count": 5,
   "id": "3c50a129-61df-4f9a-8282-dd9d1ef4316d",
   "metadata": {},
   "outputs": [
    {
     "data": {
      "text/plain": [
       "['__class__',\n",
       " '__delattr__',\n",
       " '__dict__',\n",
       " '__dir__',\n",
       " '__doc__',\n",
       " '__eq__',\n",
       " '__firstlineno__',\n",
       " '__format__',\n",
       " '__ge__',\n",
       " '__getattribute__',\n",
       " '__getstate__',\n",
       " '__gt__',\n",
       " '__hash__',\n",
       " '__init__',\n",
       " '__init_subclass__',\n",
       " '__le__',\n",
       " '__lt__',\n",
       " '__module__',\n",
       " '__ne__',\n",
       " '__new__',\n",
       " '__reduce__',\n",
       " '__reduce_ex__',\n",
       " '__repr__',\n",
       " '__setattr__',\n",
       " '__sizeof__',\n",
       " '__static_attributes__',\n",
       " '__str__',\n",
       " '__subclasshook__',\n",
       " '__weakref__']"
      ]
     },
     "execution_count": 5,
     "metadata": {},
     "output_type": "execute_result"
    }
   ],
   "source": [
    "class Person:\n",
    "    pass\n",
    "\n",
    "p=Person()\n",
    "dir(p)"
   ]
  },
  {
   "cell_type": "code",
   "execution_count": 8,
   "id": "f2740820-f45e-4ec3-a5b4-68e5d6eb7f6f",
   "metadata": {},
   "outputs": [
    {
     "name": "stdout",
     "output_type": "stream",
     "text": [
      "<__main__.Person object at 0x00000168D4BE2A50>\n"
     ]
    }
   ],
   "source": [
    "## Basic Methods\n",
    "class Person:\n",
    "    def __init__(self,name,age):\n",
    "        self.name=name\n",
    "        self.age=age\n",
    "\n",
    "\n",
    "p2=Person('Madhav',23)\n",
    "print(p2)\n"
   ]
  },
  {
   "cell_type": "code",
   "execution_count": 13,
   "id": "6f9ae269-1c1c-4ccf-b5e0-5ee3a605b776",
   "metadata": {},
   "outputs": [
    {
     "name": "stdout",
     "output_type": "stream",
     "text": [
      "Madhav , 23 Year old \n",
      "Person ( name = Madhav, age = 23)\n"
     ]
    }
   ],
   "source": [
    "class Person:\n",
    "    def __init__(self,name,age):\n",
    "        self.name=name\n",
    "        self.age=age\n",
    "\n",
    "    def __str__(self):\n",
    "        return f'{self.name} , {self.age} Year old '\n",
    "\n",
    "    def __repr__(self):\n",
    "        return f'Person ( name = {self.name}, age = {self.age})'\n",
    "\n",
    "\n",
    "p2=Person('Madhav',23)\n",
    "print(p2)\n",
    "print(repr(p2))"
   ]
  },
  {
   "cell_type": "markdown",
   "id": "e70bfa42-e649-4c4e-b184-6a23e76fc631",
   "metadata": {},
   "source": [
    "## Operator Overloading \n",
    "\n",
    "Operator overloading allows you to define the behavior of operators(+,-,*,etc.) for custom Objects. You achieve this by overriding specific magic methods in your class."
   ]
  },
  {
   "cell_type": "code",
   "execution_count": 14,
   "id": "50a35e41-a80e-4c14-86e0-ed9b00256061",
   "metadata": {},
   "outputs": [
    {
     "data": {
      "text/plain": [
       "'\\n__add__(self,other): adds two objects using the + operator ,\\n__sub__(self,other): Subtracts two objects using the - operator,\\n__mul__(self,other): Multiplies two objects using the * operator,\\n__ truediv__(self,other ): Divides two objects using the / operator. \\n__eq__(self,other): Checks if two objects are euqal using the == operator \\n__ lt__(self,other): Checks if one object is less then another using < opeartor \\n\\n'"
      ]
     },
     "execution_count": 14,
     "metadata": {},
     "output_type": "execute_result"
    }
   ],
   "source": [
    "### Common Operator overloading Magic Methods \n",
    "\n",
    "'''\n",
    "__add__(self,other): adds two objects using the + operator ,\n",
    "__sub__(self,other): Subtracts two objects using the - operator,\n",
    "__mul__(self,other): Multiplies two objects using the * operator,\n",
    "__ truediv__(self,other ): Divides two objects using the / operator. \n",
    "__eq__(self,other): Checks if two objects are euqal using the == operator \n",
    "__ lt__(self,other): Checks if one object is less then another using < opeartor \n",
    "__gt__() for the greater then \n",
    "\n",
    "'''"
   ]
  },
  {
   "cell_type": "code",
   "execution_count": 24,
   "id": "dc623968-3b9d-4fe0-9ac7-5ac759928e82",
   "metadata": {},
   "outputs": [
    {
     "name": "stdout",
     "output_type": "stream",
     "text": [
      "Vector(6, 8)\n",
      "Vector(-2, -2)\n",
      "Vector(8, 15)\n"
     ]
    }
   ],
   "source": [
    "## Mathematical Operation in Function \n",
    "\n",
    "class Vector:\n",
    "    def __init__(self,x,y):\n",
    "        self.x=x\n",
    "        self.y=y\n",
    "    def __add__(self, other ):\n",
    "        return Vector(self.x + other.x,self.y+other.y)\n",
    "\n",
    "    def __sub__(self, other ):\n",
    "        return Vector(self.x - other.x,self.y-other.y)\n",
    "\n",
    "    def __mul__(self, other ):\n",
    "        return Vector(self.x * other.x,self.y*other.y)\n",
    "\n",
    "    def __eq__(self, other ):\n",
    "        \n",
    "        return Vector(self.x == other.x and self.y==other.y)\n",
    "\n",
    "    def __repr__(self):\n",
    "        return f'Vector({self.x}, {self.y})'\n",
    "\n",
    "\n",
    "# Createing an object of the vector class\n",
    "v1=Vector(2,3)\n",
    "v2=Vector(4,5)\n",
    "\n",
    "print(v1+v2)\n",
    "print(v1-v2)\n",
    "print(v1*v2)\n",
    "# print(v1+v2)\n",
    "# print(v1+v2)\n",
    "\n"
   ]
  },
  {
   "cell_type": "markdown",
   "id": "df15dbb3-a9fa-4bde-abed-b4649be236bf",
   "metadata": {},
   "source": [
    "## Custom Exception (Raize and Throw an exception)"
   ]
  },
  {
   "cell_type": "code",
   "execution_count": 26,
   "id": "4112b537-bdf4-496c-8212-55dba1b3e659",
   "metadata": {},
   "outputs": [
    {
     "name": "stdout",
     "output_type": "stream",
     "text": [
      "\n"
     ]
    }
   ],
   "source": [
    "class Error(Exception):\n",
    "    pass\n",
    "\n",
    "class dobException(Error):\n",
    "    pass\n",
    "\n",
    "e1=Error()\n",
    "\n",
    "print(e1)"
   ]
  },
  {
   "cell_type": "code",
   "execution_count": 27,
   "id": "7e1eeeb6-0ac9-4247-be7b-107a2f078ca4",
   "metadata": {},
   "outputs": [
    {
     "name": "stdin",
     "output_type": "stream",
     "text": [
      "Enter the dob 2004\n"
     ]
    },
    {
     "name": "stdout",
     "output_type": "stream",
     "text": [
      "Sorry your age should be grater than 20 and less than 30\n"
     ]
    }
   ],
   "source": [
    "\n",
    "year=int(input(\"Enter the dob\"))\n",
    "age=2025-year\n",
    "try:\n",
    "    if age <= 10 and age >= 20 :\n",
    "        print(\"The age is valid so you can apply for the exam\")\n",
    "    else:\n",
    "        raise dobException\n",
    "except dobException:\n",
    "    print(\"Sorry your age should be grater than 20 and less than 30\")\n",
    "    "
   ]
  },
  {
   "cell_type": "code",
   "execution_count": null,
   "id": "57fdc53f-d112-4d65-aee5-5b01a1d46b1a",
   "metadata": {},
   "outputs": [],
   "source": []
  }
 ],
 "metadata": {
  "kernelspec": {
   "display_name": "Python 3 (ipykernel)",
   "language": "python",
   "name": "python3"
  },
  "language_info": {
   "codemirror_mode": {
    "name": "ipython",
    "version": 3
   },
   "file_extension": ".py",
   "mimetype": "text/x-python",
   "name": "python",
   "nbconvert_exporter": "python",
   "pygments_lexer": "ipython3",
   "version": "3.13.7"
  },
  "widgets": {
   "application/vnd.jupyter.widget-state+json": {
    "state": {},
    "version_major": 2,
    "version_minor": 0
   }
  }
 },
 "nbformat": 4,
 "nbformat_minor": 5
}
