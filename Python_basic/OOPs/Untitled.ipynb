{
 "cells": [
  {
   "cell_type": "markdown",
   "id": "2f0cb9f9-1ec3-45bf-9d87-3e25ae4a7cfd",
   "metadata": {},
   "source": [
    "## Classes and Objects \n",
    "\n",
    "Object-Oriented Programming (OOPs) is a programming paradigm that uses \"objects\" to design applications and computer programs OOP allows for modeling real_world scenarios using classes and objects. This lesson covers the basics of creating classes and objects"
   ]
  },
  {
   "cell_type": "code",
   "execution_count": 2,
   "id": "e83452cb-5d12-4c12-8d4f-fda67042d26c",
   "metadata": {},
   "outputs": [
    {
     "name": "stdout",
     "output_type": "stream",
     "text": [
      "<class '__main__.Car'>\n"
     ]
    }
   ],
   "source": [
    "## A class is a blue print for createing objects. Attributes , methods \n",
    "\n",
    "class Car:\n",
    "    pass\n",
    "adui=Car()\n",
    "bmw=Car()\n",
    "print(type(adui))"
   ]
  },
  {
   "cell_type": "code",
   "execution_count": 3,
   "id": "7c6ca04d-01e1-42e7-9c0d-810d684ee2ca",
   "metadata": {},
   "outputs": [
    {
     "name": "stdout",
     "output_type": "stream",
     "text": [
      "<__main__.Car object at 0x00000204AC36D400>\n",
      "<__main__.Car object at 0x00000204AC8FC550>\n"
     ]
    }
   ],
   "source": [
    "print(adui)\n",
    "print(bmw)"
   ]
  },
  {
   "cell_type": "code",
   "execution_count": 4,
   "id": "5a51e726-cee6-4f1a-a09d-6499104fbb8e",
   "metadata": {},
   "outputs": [
    {
     "name": "stdout",
     "output_type": "stream",
     "text": [
      "4\n"
     ]
    }
   ],
   "source": [
    "adui.windows=4\n",
    "print(adui.windows)"
   ]
  },
  {
   "cell_type": "code",
   "execution_count": 6,
   "id": "69e5c520-f124-4f13-b13f-078f0e4b3399",
   "metadata": {},
   "outputs": [
    {
     "name": "stdout",
     "output_type": "stream",
     "text": [
      "4\n"
     ]
    }
   ],
   "source": [
    "tata=Car()\n",
    "tata.doors=4\n",
    "print(tata.doors)"
   ]
  },
  {
   "cell_type": "code",
   "execution_count": 7,
   "id": "70903a90-f871-47f8-9a6a-0cfebc4c1ab0",
   "metadata": {},
   "outputs": [
    {
     "data": {
      "text/plain": [
       "['__class__',\n",
       " '__delattr__',\n",
       " '__dict__',\n",
       " '__dir__',\n",
       " '__doc__',\n",
       " '__eq__',\n",
       " '__firstlineno__',\n",
       " '__format__',\n",
       " '__ge__',\n",
       " '__getattribute__',\n",
       " '__getstate__',\n",
       " '__gt__',\n",
       " '__hash__',\n",
       " '__init__',\n",
       " '__init_subclass__',\n",
       " '__le__',\n",
       " '__lt__',\n",
       " '__module__',\n",
       " '__ne__',\n",
       " '__new__',\n",
       " '__reduce__',\n",
       " '__reduce_ex__',\n",
       " '__repr__',\n",
       " '__setattr__',\n",
       " '__sizeof__',\n",
       " '__static_attributes__',\n",
       " '__str__',\n",
       " '__subclasshook__',\n",
       " '__weakref__',\n",
       " 'doors']"
      ]
     },
     "execution_count": 7,
     "metadata": {},
     "output_type": "execute_result"
    }
   ],
   "source": [
    "dir(tata)"
   ]
  },
  {
   "cell_type": "code",
   "execution_count": null,
   "id": "9715c7db-de13-4ea7-8ea5-6a26d5b5c2e4",
   "metadata": {},
   "outputs": [],
   "source": [
    "## Instance Variable and methods \n",
    "\n",
    "class Dog:\n",
    "    ## constructor\n",
    "    def __init__(self,name,age):\n",
    "        name"
   ]
  }
 ],
 "metadata": {
  "kernelspec": {
   "display_name": "Python 3 (ipykernel)",
   "language": "python",
   "name": "python3"
  },
  "language_info": {
   "codemirror_mode": {
    "name": "ipython",
    "version": 3
   },
   "file_extension": ".py",
   "mimetype": "text/x-python",
   "name": "python",
   "nbconvert_exporter": "python",
   "pygments_lexer": "ipython3",
   "version": "3.13.7"
  },
  "widgets": {
   "application/vnd.jupyter.widget-state+json": {
    "state": {},
    "version_major": 2,
    "version_minor": 0
   }
  }
 },
 "nbformat": 4,
 "nbformat_minor": 5
}
