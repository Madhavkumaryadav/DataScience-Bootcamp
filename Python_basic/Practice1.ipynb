{
 "cells": [
  {
   "cell_type": "markdown",
   "id": "b0999195-0a41-433c-8a7d-9af2109f39cd",
   "metadata": {},
   "source": [
    "## Real-World Examples Using Lists in Python\n",
    "\n",
    "\n",
    "Lists are one of the most commonly used data structures in python, thanks to their versatility and ease of use. Here  are several practical examples that illustrate their use in real-world scenarios "
   ]
  },
  {
   "cell_type": "markdown",
   "id": "4ed0edc5-df7a-4d11-a9a4-3de2b33a3732",
   "metadata": {},
   "source": [
    "### Example 1 : Manage A To Do List \n",
    "\n",
    "Create a To Do List to Keep Track OF tasks \n"
   ]
  },
  {
   "cell_type": "code",
   "execution_count": 9,
   "id": "63f0febb-b417-4391-9d02-3aef92380d34",
   "metadata": {},
   "outputs": [
    {
     "name": "stdout",
     "output_type": "stream",
     "text": [
      "['buy_groceries', 'clean the house ', 'pay bills']\n",
      "['buy_groceries', 'clean the house ', 'pay bills', 'schedule meeting', 'Go For a Run']\n",
      "['clean the house ', 'pay bills', 'schedule meeting', 'Go For a Run']\n",
      "don't forgrt to pay the utility bills \n",
      "To Do List remaining\n",
      "clean the house \n",
      "pay bills\n",
      "schedule meeting\n",
      "Go For a Run\n"
     ]
    }
   ],
   "source": [
    "to_do_list=['buy_groceries','clean the house ','pay bills']\n",
    "\n",
    "print(to_do_list)\n",
    "## adding to task \n",
    "to_do_list.append('schedule meeting')\n",
    "to_do_list.append('Go For a Run')\n",
    "print(to_do_list)\n",
    "\n",
    "\n",
    "## Removing a completed task\n",
    "\n",
    "to_do_list.remove('buy_groceries')\n",
    "print(to_do_list)\n",
    "\n",
    "\n",
    "## Checking if a task is in the list \n",
    "\n",
    "if 'pay bills' in to_do_list:\n",
    "    print(\"don't forgrt to pay the utility bills \")\n",
    "\n",
    "print('To Do List remaining')\n",
    "for task in to_do_list:\n",
    "    print(task)\n",
    "    "
   ]
  },
  {
   "cell_type": "markdown",
   "id": "6e243797-81d8-4e26-b64a-588445006635",
   "metadata": {},
   "source": [
    "### Example 2 : Organizing Student Grades \n",
    "\n",
    "create a list to store and calculate average grades for students"
   ]
  },
  {
   "cell_type": "code",
   "execution_count": 11,
   "id": "90d0fdf1-c0d9-48b8-baa4-a2344a2db861",
   "metadata": {},
   "outputs": [
    {
     "name": "stdout",
     "output_type": "stream",
     "text": [
      "Average Grade  75.57142857142857\n",
      "highest grade :  90\n",
      "lowest_grade :  56\n"
     ]
    }
   ],
   "source": [
    "## Organizing student grades \n",
    "grade=[67,86,56,88,76,66]\n",
    "\n",
    "# Adding a new grade \n",
    "grade.append(90)\n",
    "\n",
    "# calculating the averate \n",
    "average_grade=sum(grade)/len(grade)\n",
    "print('Average Grade ', average_grade)\n",
    "\n",
    "# Finding the highest and lowest grades \n",
    "highest_grade=max(grade)\n",
    "lowest_grade=min(grade)\n",
    "print('highest grade : ' , highest_grade)\n",
    "print('lowest_grade : ',lowest_grade)\n",
    "\n"
   ]
  },
  {
   "cell_type": "markdown",
   "id": "d121b224-fa6a-4a17-b4d5-f79835f9caa7",
   "metadata": {},
   "source": [
    "### Example 3: Managing An Inventory \n",
    "Use a list to manage inventory items in a store "
   ]
  },
  {
   "cell_type": "code",
   "execution_count": 14,
   "id": "41a45794-7f63-4244-8fed-076cf1b57ebf",
   "metadata": {},
   "outputs": [
    {
     "name": "stdout",
     "output_type": "stream",
     "text": [
      "orange are out of tock \n",
      "Inventory List : \n",
      "apple\n",
      "oranges\n",
      "grapes\n",
      "strawberries\n"
     ]
    }
   ],
   "source": [
    "## Managing an inventory \n",
    "inventory=['apple','banana','oranges','grapes']\n",
    "\n",
    "## Adding a new item\n",
    "inventory.append('strawberries')\n",
    "\n",
    "## Removing an item that is out of stock\n",
    "inventory.remove('banana')\n",
    "\n",
    "## checking if an item is in stock \n",
    "\n",
    "item = 'orange'\n",
    "if item in inventory:\n",
    "    print(f'{item} are in stock .')\n",
    "else:\n",
    "    print(f'{item} are out of tock ')\n",
    "\n",
    "## Printing the inventory \n",
    "print('Inventory List : ')\n",
    "for item in inventory:\n",
    "    print(item)"
   ]
  },
  {
   "cell_type": "markdown",
   "id": "684095ba-1554-442b-b2f8-dc3227f7f300",
   "metadata": {},
   "source": [
    "### Example 4: Collecting User Feedback \n",
    "\n",
    "use a list to collect and analyze user feedback."
   ]
  },
  {
   "cell_type": "code",
   "execution_count": 16,
   "id": "58e733e5-3076-4666-accf-ac9fe631a91d",
   "metadata": {},
   "outputs": [
    {
     "name": "stdout",
     "output_type": "stream",
     "text": [
      "Positive feedback count :  2\n",
      "User feedback \n",
      "great service!\n",
      "very satisfied\n",
      "could be better\n",
      "excellent experience\n",
      "Not Happy with the service \n"
     ]
    }
   ],
   "source": [
    "## Collecting user feedback \n",
    "feedback=['great service!','very satisfied','could be better','excellent experience']\n",
    "\n",
    "## Adding new feedback\n",
    "feedback.append('Not Happy with the service ')\n",
    "\n",
    "# Counting speckfic feedback \n",
    "positive_feedback_count=sum(1 for comment in feedback if 'great' in comment.lower() or 'excellent' in comment.lower())\n",
    "print('Positive feedback count : ',positive_feedback_count)\n",
    "\n",
    "# Pringing all feedback \n",
    "print('User feedback ')\n",
    "for comment in feedback:\n",
    "    print(f'{comment}')"
   ]
  },
  {
   "cell_type": "code",
   "execution_count": null,
   "id": "9d2cdb32-f76e-4233-bda1-94d7446457bd",
   "metadata": {},
   "outputs": [],
   "source": []
  },
  {
   "cell_type": "code",
   "execution_count": null,
   "id": "b34932b4-b2f5-4b66-b785-ff4502d92f34",
   "metadata": {},
   "outputs": [],
   "source": []
  },
  {
   "cell_type": "code",
   "execution_count": null,
   "id": "61117ce9-cff5-489d-9823-19e7c6ae09e6",
   "metadata": {},
   "outputs": [],
   "source": []
  },
  {
   "cell_type": "code",
   "execution_count": null,
   "id": "97aa68cd-9a19-4cf3-9cb7-c5b3809d5ba7",
   "metadata": {},
   "outputs": [],
   "source": []
  },
  {
   "cell_type": "code",
   "execution_count": null,
   "id": "10c36feb-f066-415b-be8d-9ab9d16e939e",
   "metadata": {},
   "outputs": [],
   "source": []
  }
 ],
 "metadata": {
  "kernelspec": {
   "display_name": "Python 3 (ipykernel)",
   "language": "python",
   "name": "python3"
  },
  "language_info": {
   "codemirror_mode": {
    "name": "ipython",
    "version": 3
   },
   "file_extension": ".py",
   "mimetype": "text/x-python",
   "name": "python",
   "nbconvert_exporter": "python",
   "pygments_lexer": "ipython3",
   "version": "3.13.7"
  },
  "widgets": {
   "application/vnd.jupyter.widget-state+json": {
    "state": {},
    "version_major": 2,
    "version_minor": 0
   }
  }
 },
 "nbformat": 4,
 "nbformat_minor": 5
}
