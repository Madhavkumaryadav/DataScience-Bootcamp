{
 "cells": [
  {
   "cell_type": "markdown",
   "id": "cf07b073-5125-4f35-9946-9fbc771a9dcd",
   "metadata": {},
   "source": [
    "## Set \n",
    "\n",
    "Sets are a built-in data type in python used to store collections of unique items. They are unordered, meaning that the elements do not follow a specific order, and they do not allow duplicate elements. Sets are useful for membership tests , eliminating duplicate entries , and performing mathematical set operations like union, intersection difference, and symmetric difference "
   ]
  },
  {
   "cell_type": "code",
   "execution_count": 2,
   "id": "504993cc-83b9-44b6-9746-a9528068137e",
   "metadata": {},
   "outputs": [
    {
     "name": "stdout",
     "output_type": "stream",
     "text": [
      "{1, 2, 3, 4, 5}\n",
      "<class 'set'>\n"
     ]
    }
   ],
   "source": [
    "## Create a set \n",
    "my_set={1,2,3,4,5}\n",
    "print(my_set)\n",
    "print(type(my_set))"
   ]
  },
  {
   "cell_type": "code",
   "execution_count": 3,
   "id": "e9e23b0b-9092-4ccb-81c8-1d1ed9cdfa24",
   "metadata": {},
   "outputs": [
    {
     "name": "stdout",
     "output_type": "stream",
     "text": [
      "set()\n"
     ]
    }
   ],
   "source": [
    "my_empty_set=set()\n",
    "print(my_empty_set)\n"
   ]
  },
  {
   "cell_type": "code",
   "execution_count": 4,
   "id": "bc4f9807-d8d6-4dec-8068-e6345e3bfef9",
   "metadata": {},
   "outputs": [
    {
     "name": "stdout",
     "output_type": "stream",
     "text": [
      "{1, 2, 3, 4, 5, 6}\n",
      "<class 'set'>\n"
     ]
    }
   ],
   "source": [
    "set1=set([1,2,3,4,5,6])\n",
    "print(set1)\n",
    "print(type(set1))"
   ]
  },
  {
   "cell_type": "code",
   "execution_count": 6,
   "id": "202be10d-8f4a-4e19-b59b-190c57d999b0",
   "metadata": {},
   "outputs": [
    {
     "name": "stdout",
     "output_type": "stream",
     "text": [
      "{1, 2, 3, 4, 33, 5, 6}\n"
     ]
    }
   ],
   "source": [
    "set1=set([1,2,1,2,3,4,2,1,2,33,4,5,6])\n",
    "print(set1)\n"
   ]
  },
  {
   "cell_type": "code",
   "execution_count": 13,
   "id": "bfbf3c6b-4f99-498a-ad5b-bba04b4a61ff",
   "metadata": {},
   "outputs": [
    {
     "name": "stdout",
     "output_type": "stream",
     "text": [
      "{1, 2, 3, 4, 5, 199}\n",
      "{1, 2, 3, 4, 5, 100, 199}\n"
     ]
    }
   ],
   "source": [
    "## Basics Sets Operation\n",
    "## Adding and removing Elements \n",
    "print(my_set)\n",
    "my_set.add(199)\n",
    "my_set.add(100)\n",
    "print(my_set)"
   ]
  },
  {
   "cell_type": "code",
   "execution_count": 14,
   "id": "3aa4c4e4-9333-4720-837a-415fdbede4cb",
   "metadata": {},
   "outputs": [],
   "source": [
    "## Remove the element \n",
    "my_set.remove(3)"
   ]
  },
  {
   "cell_type": "code",
   "execution_count": 15,
   "id": "fd6acb72-ded7-4fb7-a39b-1d1c28e07b9d",
   "metadata": {},
   "outputs": [
    {
     "name": "stdout",
     "output_type": "stream",
     "text": [
      "{1, 2, 4, 5, 100, 199}\n"
     ]
    }
   ],
   "source": [
    "print(my_set)"
   ]
  },
  {
   "cell_type": "code",
   "execution_count": 16,
   "id": "c93b1880-6bc2-451b-8c45-4d6aab74585a",
   "metadata": {},
   "outputs": [],
   "source": [
    "my_set.discard(100)"
   ]
  },
  {
   "cell_type": "code",
   "execution_count": 18,
   "id": "f101c5e4-6e87-4521-92bd-4f73125277fb",
   "metadata": {},
   "outputs": [
    {
     "data": {
      "text/plain": [
       "{1, 2, 4, 5, 199}"
      ]
     },
     "execution_count": 18,
     "metadata": {},
     "output_type": "execute_result"
    }
   ],
   "source": [
    "my_set"
   ]
  },
  {
   "cell_type": "code",
   "execution_count": 19,
   "id": "99725917-98ea-4ff2-9643-bf04e01890ad",
   "metadata": {},
   "outputs": [
    {
     "name": "stdout",
     "output_type": "stream",
     "text": [
      "1\n",
      "{2, 4, 5, 199}\n"
     ]
    }
   ],
   "source": [
    "## pop method \n",
    "removed_element=my_set.pop()\n",
    "print(removed_element)\n",
    "print(my_set)"
   ]
  },
  {
   "cell_type": "code",
   "execution_count": 22,
   "id": "32484dda-b6eb-4637-bd8c-98a18c9d89bf",
   "metadata": {},
   "outputs": [
    {
     "name": "stdout",
     "output_type": "stream",
     "text": [
      "set()\n"
     ]
    }
   ],
   "source": [
    "## Clear all the elements \n",
    "\n",
    "my_set.clear()\n",
    "print(my_set)"
   ]
  },
  {
   "cell_type": "code",
   "execution_count": 23,
   "id": "3b98b100-8ac7-48a0-88da-ff3f6ee02f7a",
   "metadata": {},
   "outputs": [
    {
     "name": "stdout",
     "output_type": "stream",
     "text": [
      "True\n",
      "False\n"
     ]
    }
   ],
   "source": [
    "## Set Membership test \n",
    "my_set={1,2,3,4,5,6}\n",
    "print(3 in my_set)\n",
    "print(10 in my_set)"
   ]
  },
  {
   "cell_type": "code",
   "execution_count": 29,
   "id": "030a480d-3f3a-4c46-93e5-b870b9cd38e4",
   "metadata": {},
   "outputs": [
    {
     "name": "stdout",
     "output_type": "stream",
     "text": [
      "{1, 2, 3, 4, 5, 6, 7, 8, 9}\n",
      "{5, 6}\n",
      "{5, 6}\n",
      "None\n"
     ]
    }
   ],
   "source": [
    "## Mathematical Operation \n",
    "set1={1,2,3,4,5,6}\n",
    "set2={5,6,7,8,9}\n",
    "\n",
    "## Union \n",
    "union_set=set1.union(set2)\n",
    "print(union_set)\n",
    "\n",
    "## Intersection \n",
    "\n",
    "intersection=set1.intersection(set2)\n",
    "print(intersection)\n",
    "\n",
    "\n",
    "update=set1.intersection_update(set2)\n",
    "print(set1) # Accure the intersection element in the set1 for entire intersection element \n",
    "\n",
    "print(update) \n"
   ]
  },
  {
   "cell_type": "code",
   "execution_count": 31,
   "id": "9886f39c-1c3a-41d6-8339-19f587ab0f42",
   "metadata": {},
   "outputs": [
    {
     "name": "stdout",
     "output_type": "stream",
     "text": [
      "{1, 2, 3}\n"
     ]
    }
   ],
   "source": [
    "set1={1,2,3,4,5,6}\n",
    "set2={4,5,6,7,8,9}\n",
    "\n",
    "## Difference \n",
    "print(set1.difference(set2))\n"
   ]
  },
  {
   "cell_type": "code",
   "execution_count": 32,
   "id": "5788625d-bf46-4981-b235-f06531b80a51",
   "metadata": {},
   "outputs": [
    {
     "name": "stdout",
     "output_type": "stream",
     "text": [
      "{8, 9, 7}\n"
     ]
    }
   ],
   "source": [
    "print(set2.difference(set1))"
   ]
  },
  {
   "cell_type": "code",
   "execution_count": 34,
   "id": "7b36fa57-3782-4168-b2ae-9b8d897be3d7",
   "metadata": {},
   "outputs": [
    {
     "data": {
      "text/plain": [
       "{1, 2, 3, 7, 8, 9}"
      ]
     },
     "execution_count": 34,
     "metadata": {},
     "output_type": "execute_result"
    }
   ],
   "source": [
    "## Symmetric Difference\n",
    "set1.symmetric_difference(set2) # Common element are removed "
   ]
  },
  {
   "cell_type": "code",
   "execution_count": 38,
   "id": "bd4b1c07-e7be-4f1b-9c9e-c24ec8194c09",
   "metadata": {},
   "outputs": [
    {
     "name": "stdout",
     "output_type": "stream",
     "text": [
      "False\n",
      "True\n"
     ]
    }
   ],
   "source": [
    "## Sets Methods \n",
    "set1={1,2,3,4,5,6,7,8}\n",
    "set2={4,5,6,7}\n",
    "\n",
    "## is subset\n",
    "print(set1.issubset(set2))\n",
    "\n",
    "print(set1.issuperset(set2)) # Set1 contaning the all element of set2 then true otherwise false \n",
    "\n"
   ]
  },
  {
   "cell_type": "code",
   "execution_count": 39,
   "id": "fdddbc62-ccd6-4f49-bb60-65a9cc5b1eda",
   "metadata": {},
   "outputs": [
    {
     "data": {
      "text/plain": [
       "{1, 2, 3, 4, 5}"
      ]
     },
     "execution_count": 39,
     "metadata": {},
     "output_type": "execute_result"
    }
   ],
   "source": [
    "lt=[1,2,2,3,4,4,5]\n",
    "set(lt)"
   ]
  },
  {
   "cell_type": "code",
   "execution_count": 42,
   "id": "2962c6bf-fa08-4ef7-9207-e98c93ea1bf7",
   "metadata": {},
   "outputs": [
    {
     "name": "stdout",
     "output_type": "stream",
     "text": [
      "{'we', 'sets', 'about', 'tutorial', 'discussing', 'In', 'are', 'this'}\n",
      "8\n"
     ]
    }
   ],
   "source": [
    "### Counting Unique words in text \n",
    "text='In this tutorial we are discussing about sets'\n",
    "words=text.split()\n",
    "\n",
    "\n",
    "## convert list of words to set to get unique words \n",
    "\n",
    "unique_word=set(words)\n",
    "print(unique_word)\n",
    "print(len(unique_word))"
   ]
  },
  {
   "cell_type": "code",
   "execution_count": null,
   "id": "e3669d42-43f9-4cbd-8273-f8439346fed0",
   "metadata": {},
   "outputs": [],
   "source": []
  }
 ],
 "metadata": {
  "kernelspec": {
   "display_name": "Python 3 (ipykernel)",
   "language": "python",
   "name": "python3"
  },
  "language_info": {
   "codemirror_mode": {
    "name": "ipython",
    "version": 3
   },
   "file_extension": ".py",
   "mimetype": "text/x-python",
   "name": "python",
   "nbconvert_exporter": "python",
   "pygments_lexer": "ipython3",
   "version": "3.13.7"
  },
  "widgets": {
   "application/vnd.jupyter.widget-state+json": {
    "state": {},
    "version_major": 2,
    "version_minor": 0
   }
  }
 },
 "nbformat": 4,
 "nbformat_minor": 5
}
