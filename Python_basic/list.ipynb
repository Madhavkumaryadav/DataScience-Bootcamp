{
 "cells": [
  {
   "cell_type": "code",
   "execution_count": 1,
   "id": "7c47ff1f-c156-4b1d-b224-40aaf4dd9cee",
   "metadata": {},
   "outputs": [
    {
     "name": "stdout",
     "output_type": "stream",
     "text": [
      "<class 'list'>\n"
     ]
    }
   ],
   "source": [
    "ls=[]\n",
    "print(type(ls))"
   ]
  },
  {
   "cell_type": "code",
   "execution_count": 2,
   "id": "3e2360b1-862b-4760-b2fc-41de80ecde85",
   "metadata": {},
   "outputs": [
    {
     "name": "stdout",
     "output_type": "stream",
     "text": [
      "['madhav', 'kumar', 'yadav', 5, 3, 2, 5]\n"
     ]
    }
   ],
   "source": [
    "name=['madhav','kumar','yadav',5,3,2,5]\n",
    "print(name)"
   ]
  },
  {
   "cell_type": "code",
   "execution_count": 4,
   "id": "70858431-fe32-499f-9d24-549454a6deab",
   "metadata": {},
   "outputs": [
    {
     "data": {
      "text/plain": [
       "[1, 'hello', 3.43, True]"
      ]
     },
     "execution_count": 4,
     "metadata": {},
     "output_type": "execute_result"
    }
   ],
   "source": [
    "maxed_list=[1,'hello',3.43,True]\n",
    "maxed_list"
   ]
  },
  {
   "cell_type": "code",
   "execution_count": 5,
   "id": "11f0612c-d24d-4717-96c3-f4983b8b856b",
   "metadata": {},
   "outputs": [],
   "source": [
    "### Accessing List Elements\n",
    "fruits=['apple','banana','cherry','kiwi']\n"
   ]
  },
  {
   "cell_type": "code",
   "execution_count": 7,
   "id": "51401944-e5a1-4ac1-b55b-505dece02469",
   "metadata": {},
   "outputs": [
    {
     "name": "stdout",
     "output_type": "stream",
     "text": [
      "apple\n",
      "cherry\n",
      "kiwi\n",
      "kiwi\n"
     ]
    }
   ],
   "source": [
    "print(fruits[0])\n",
    "print(fruits[2])\n",
    "print(fruits[3])\n",
    "print(fruits[-1])"
   ]
  },
  {
   "cell_type": "code",
   "execution_count": 14,
   "id": "0ca1e930-9ec9-459c-ab2c-9e6a8f698b27",
   "metadata": {},
   "outputs": [
    {
     "name": "stdout",
     "output_type": "stream",
     "text": [
      "['banana', 'cherry', 'kiwi']\n",
      "['banana', 'cherry']\n",
      "['kiwi']\n",
      "[]\n"
     ]
    }
   ],
   "source": [
    "print(fruits[1:])\n",
    "print(fruits[1:3])\n",
    "\n",
    "print(fruits[-1:])\n",
    "print(fruits[-1:-3])"
   ]
  },
  {
   "cell_type": "code",
   "execution_count": 15,
   "id": "320c3503-32f7-4f9a-a32c-892d2ff8312c",
   "metadata": {},
   "outputs": [],
   "source": [
    "## Modifying the List elements \n",
    "\n",
    "fruits[1]='watermelon'"
   ]
  },
  {
   "cell_type": "code",
   "execution_count": 16,
   "id": "cb4be42f-79c7-4a6e-b309-c2a019d2870a",
   "metadata": {},
   "outputs": [
    {
     "data": {
      "text/plain": [
       "'watermelon'"
      ]
     },
     "execution_count": 16,
     "metadata": {},
     "output_type": "execute_result"
    }
   ],
   "source": [
    "fruits[1]"
   ]
  },
  {
   "cell_type": "code",
   "execution_count": 17,
   "id": "8d3d6462-279a-4aec-bf10-69b6a1f324ce",
   "metadata": {},
   "outputs": [
    {
     "data": {
      "text/plain": [
       "['apple', 'watermelon', 'cherry', 'kiwi']"
      ]
     },
     "execution_count": 17,
     "metadata": {},
     "output_type": "execute_result"
    }
   ],
   "source": [
    "fruits"
   ]
  },
  {
   "cell_type": "code",
   "execution_count": 18,
   "id": "c6514a15-5805-4338-9949-075b8ae3dceb",
   "metadata": {},
   "outputs": [
    {
     "data": {
      "text/plain": [
       "['apple', 'w', 'a', 't', 'e', 'r', 'm', 'e', 'l', 'o', 'n']"
      ]
     },
     "execution_count": 18,
     "metadata": {},
     "output_type": "execute_result"
    }
   ],
   "source": [
    "fruits[1:]='watermelon'\n",
    "fruits"
   ]
  },
  {
   "cell_type": "code",
   "execution_count": 19,
   "id": "1d575900-7fe0-443d-bc6d-340128ef4e05",
   "metadata": {},
   "outputs": [
    {
     "name": "stdout",
     "output_type": "stream",
     "text": [
      "['apple', 'w', 'a', 't', 'e', 'r', 'm', 'e', 'l', 'o', 'n', 'Orange']\n"
     ]
    }
   ],
   "source": [
    "## List method\n",
    "\n",
    "fruits.append('Orange') ## Add on the item to the end \n",
    "print(fruits)"
   ]
  },
  {
   "cell_type": "code",
   "execution_count": 22,
   "id": "ccc021a1-7dee-4a85-a308-abef0ec69d16",
   "metadata": {},
   "outputs": [
    {
     "name": "stdout",
     "output_type": "stream",
     "text": [
      "['apple', 'banana', 'banana', 'banana', 'w', 'a', 't', 'e', 'r', 'm', 'e', 'l', 'o', 'n', 'Orange']\n"
     ]
    }
   ],
   "source": [
    "fruits.insert(1,'banana')\n",
    "print(fruits)"
   ]
  },
  {
   "cell_type": "code",
   "execution_count": 23,
   "id": "e37758fb-9886-4f0e-b08c-a4306f9a4bd3",
   "metadata": {},
   "outputs": [],
   "source": [
    "fruits.remove('banana')"
   ]
  },
  {
   "cell_type": "code",
   "execution_count": 24,
   "id": "b03e90d1-ce38-4611-984f-d8f7935fef55",
   "metadata": {},
   "outputs": [
    {
     "data": {
      "text/plain": [
       "['apple',\n",
       " 'banana',\n",
       " 'banana',\n",
       " 'w',\n",
       " 'a',\n",
       " 't',\n",
       " 'e',\n",
       " 'r',\n",
       " 'm',\n",
       " 'e',\n",
       " 'l',\n",
       " 'o',\n",
       " 'n',\n",
       " 'Orange']"
      ]
     },
     "execution_count": 24,
     "metadata": {},
     "output_type": "execute_result"
    }
   ],
   "source": [
    "fruits"
   ]
  },
  {
   "cell_type": "code",
   "execution_count": 26,
   "id": "d61238e1-9f8a-443a-a7e0-b5fb8c6c65e4",
   "metadata": {},
   "outputs": [
    {
     "name": "stdout",
     "output_type": "stream",
     "text": [
      "n\n",
      "['apple', 'banana', 'banana', 'w', 'a', 't', 'e', 'r', 'm', 'e', 'l', 'o']\n"
     ]
    }
   ],
   "source": [
    "## Remove and return the last\n",
    "popped_fruit=fruits.pop()  ## remove the last element \n",
    "print(popped_fruit)\n",
    "print(fruits)"
   ]
  },
  {
   "cell_type": "code",
   "execution_count": 27,
   "id": "b95a2079-a64f-4f96-b7b0-a2f37f64a069",
   "metadata": {},
   "outputs": [
    {
     "name": "stdout",
     "output_type": "stream",
     "text": [
      "1\n"
     ]
    }
   ],
   "source": [
    "index=fruits.index('banana')\n",
    "print(index)"
   ]
  },
  {
   "cell_type": "code",
   "execution_count": 28,
   "id": "09df7ddc-bd53-4cdc-abc4-b065b7ba6f60",
   "metadata": {},
   "outputs": [
    {
     "name": "stdout",
     "output_type": "stream",
     "text": [
      "2\n"
     ]
    }
   ],
   "source": [
    "fruits.insert(2,'guava')\n",
    "print(fruits.count('banana'))\n"
   ]
  },
  {
   "cell_type": "code",
   "execution_count": 29,
   "id": "2d6898dd-c7d9-456b-961f-e74f974e961d",
   "metadata": {},
   "outputs": [
    {
     "data": {
      "text/plain": [
       "['apple',\n",
       " 'banana',\n",
       " 'guava',\n",
       " 'banana',\n",
       " 'w',\n",
       " 'a',\n",
       " 't',\n",
       " 'e',\n",
       " 'r',\n",
       " 'm',\n",
       " 'e',\n",
       " 'l',\n",
       " 'o']"
      ]
     },
     "execution_count": 29,
     "metadata": {},
     "output_type": "execute_result"
    }
   ],
   "source": [
    "fruits"
   ]
  },
  {
   "cell_type": "code",
   "execution_count": 40,
   "id": "55f7fd15-ae69-49f3-abdb-d467b1fcb7f1",
   "metadata": {},
   "outputs": [
    {
     "data": {
      "text/plain": [
       "['a', 'apple', 'banana', 'banana', 'e', 'e', 'l', 'm', 'o', 'r', 't', 'w']"
      ]
     },
     "execution_count": 40,
     "metadata": {},
     "output_type": "execute_result"
    }
   ],
   "source": [
    "fruits=['apple', 'banana', 'banana', 'w', 'a', 't', 'e', 'r', 'm', 'e', 'l', 'o']\n",
    "\n",
    "fruits.sort() # THis will sort the list \n",
    "fruits"
   ]
  },
  {
   "cell_type": "code",
   "execution_count": 41,
   "id": "8b467b8e-a0b1-419d-b98b-f37d028ea1f7",
   "metadata": {},
   "outputs": [
    {
     "name": "stdout",
     "output_type": "stream",
     "text": [
      "['w', 't', 'r', 'o', 'm', 'l', 'e', 'e', 'banana', 'banana', 'apple', 'a']\n"
     ]
    }
   ],
   "source": [
    "fruits.reverse() ## Reverse the list \n",
    "print(fruits)"
   ]
  },
  {
   "cell_type": "code",
   "execution_count": 42,
   "id": "5fee9165-c400-4437-b06e-0e1fca881f07",
   "metadata": {},
   "outputs": [],
   "source": [
    "fruits.clear() # Remove all items from the list "
   ]
  },
  {
   "cell_type": "code",
   "execution_count": 43,
   "id": "47f51c69-5b38-4619-924b-bcfba69b16d7",
   "metadata": {},
   "outputs": [
    {
     "data": {
      "text/plain": [
       "[]"
      ]
     },
     "execution_count": 43,
     "metadata": {},
     "output_type": "execute_result"
    }
   ],
   "source": [
    "fruits"
   ]
  },
  {
   "cell_type": "code",
   "execution_count": 45,
   "id": "a5fc85d9-1332-40bf-9205-b881938985a6",
   "metadata": {},
   "outputs": [
    {
     "name": "stdout",
     "output_type": "stream",
     "text": [
      "[3, 4, 5]\n",
      "[1, 2, 3, 4, 5]\n",
      "[6, 7, 8, 9]\n",
      "[1, 3, 5, 7, 9]\n",
      "[9, 8, 7, 6, 5, 4, 3, 2, 1]\n"
     ]
    }
   ],
   "source": [
    "## Slicing List \n",
    "numbers=[i for i in range(1,10)]\n",
    "print(numbers[2:5])\n",
    "print(numbers[:5])\n",
    "print(numbers[5:])\n",
    "print(numbers[::2]) ## step \n",
    "print(numbers[::-1])"
   ]
  },
  {
   "cell_type": "code",
   "execution_count": 46,
   "id": "6866a835-71e4-4e60-ba23-4c1a0366a230",
   "metadata": {},
   "outputs": [
    {
     "name": "stdout",
     "output_type": "stream",
     "text": [
      "1\n",
      "2\n",
      "3\n",
      "4\n",
      "5\n",
      "6\n",
      "7\n",
      "8\n",
      "9\n"
     ]
    }
   ],
   "source": [
    "## Iterating the List\n",
    "\n",
    "for i in numbers:\n",
    "    print(i)"
   ]
  },
  {
   "cell_type": "code",
   "execution_count": 47,
   "id": "36fb61f2-c948-4d31-bf4a-a919c1732bf8",
   "metadata": {},
   "outputs": [
    {
     "name": "stdout",
     "output_type": "stream",
     "text": [
      "0   1\n",
      "1   2\n",
      "2   3\n",
      "3   4\n",
      "4   5\n",
      "5   6\n",
      "6   7\n",
      "7   8\n",
      "8   9\n"
     ]
    }
   ],
   "source": [
    "## Iterating with index\n",
    "for index,number in enumerate(numbers):\n",
    "    print(index,\" \" , number)"
   ]
  },
  {
   "cell_type": "code",
   "execution_count": 48,
   "id": "74a4f43e-1279-4e7a-a90d-cd2cff478f9f",
   "metadata": {},
   "outputs": [
    {
     "name": "stdout",
     "output_type": "stream",
     "text": [
      "[0, 1, 4, 9, 16, 25, 36, 49, 64, 81]\n"
     ]
    }
   ],
   "source": [
    "## List Compherehension \n",
    "lst=[]\n",
    "for x in range(10):\n",
    "    lst.append(x**2) # Without compherension \n",
    "print(lst)"
   ]
  },
  {
   "cell_type": "code",
   "execution_count": 50,
   "id": "34ee0f19-05d4-4a7a-b4d4-70f5034f9753",
   "metadata": {},
   "outputs": [
    {
     "data": {
      "text/plain": [
       "[0, 1, 4, 9, 16, 25, 36, 49, 64, 81]"
      ]
     },
     "execution_count": 50,
     "metadata": {},
     "output_type": "execute_result"
    }
   ],
   "source": [
    "[x**2 for x in range(10)] # With the compherension \n"
   ]
  },
  {
   "cell_type": "markdown",
   "id": "fb1a859f-d96d-4680-a353-7dc551a2c73c",
   "metadata": {},
   "source": [
    "#### List Compherehension \n",
    "Basic syntax [expression for item in iterable ]\n",
    "\n",
    "With conditional logic [expression for item in iterable if condition]"
   ]
  },
  {
   "cell_type": "code",
   "execution_count": 52,
   "id": "58a60ea6-ea9a-45da-8a0f-88ce26061fab",
   "metadata": {},
   "outputs": [
    {
     "data": {
      "text/plain": [
       "[0, 1, 4, 9, 16, 25, 36, 49, 64, 81]"
      ]
     },
     "execution_count": 52,
     "metadata": {},
     "output_type": "execute_result"
    }
   ],
   "source": [
    "## Basic list comprehension \n",
    "square=[num**2 for num in range(10)]\n",
    "square\n"
   ]
  },
  {
   "cell_type": "code",
   "execution_count": 53,
   "id": "235d2b7b-8903-4ab5-a730-f3fc3309adef",
   "metadata": {},
   "outputs": [
    {
     "data": {
      "text/plain": [
       "[0, 2, 4, 6, 8]"
      ]
     },
     "execution_count": 53,
     "metadata": {},
     "output_type": "execute_result"
    }
   ],
   "source": [
    "## List comprehension with the condition\n",
    "lst=[]\n",
    "for i in range(10):\n",
    "    if i%2==0:\n",
    "        lst.append(i)\n",
    "\n",
    "lst\n",
    "    "
   ]
  },
  {
   "cell_type": "code",
   "execution_count": 54,
   "id": "32a2c566-4404-44b0-9003-b040e82b698f",
   "metadata": {},
   "outputs": [
    {
     "data": {
      "text/plain": [
       "[0, 2, 4, 6, 8]"
      ]
     },
     "execution_count": 54,
     "metadata": {},
     "output_type": "execute_result"
    }
   ],
   "source": [
    "even_num=[num for num in range(10) if num%2==0]\n",
    "even_num"
   ]
  },
  {
   "cell_type": "code",
   "execution_count": 55,
   "id": "90185a5e-2570-4b51-b007-cd3d4d72a2b4",
   "metadata": {},
   "outputs": [],
   "source": [
    "## Nested list Cimpherension [expression for item1 in iterable1"
   ]
  },
  {
   "cell_type": "code",
   "execution_count": 56,
   "id": "292057c0-80e4-4187-8665-29131df9c16c",
   "metadata": {},
   "outputs": [
    {
     "name": "stdout",
     "output_type": "stream",
     "text": [
      "[(1, 'a'), (1, 'b'), (1, 'c'), (1, 'd'), (2, 'a'), (2, 'b'), (2, 'c'), (2, 'd'), (3, 'a'), (3, 'b'), (3, 'c'), (3, 'd'), (4, 'a'), (4, 'b'), (4, 'c'), (4, 'd')]\n"
     ]
    }
   ],
   "source": [
    "# Nested list comperehension \n",
    "\n",
    "lst1=[1,2,3,4]\n",
    "lst2=['a','b','c','d']\n",
    "\n",
    "pair=[(i,j) for i in lst1 for j in lst2]\n",
    "print(pair)"
   ]
  },
  {
   "cell_type": "code",
   "execution_count": 57,
   "id": "72c265eb-4ab2-49ec-8f66-66e08de0c5bd",
   "metadata": {},
   "outputs": [
    {
     "name": "stdout",
     "output_type": "stream",
     "text": [
      "[4, 4, 4, 4]\n"
     ]
    }
   ],
   "source": [
    "## List Comprehension with function calls\n",
    "words=['hello','world','python','list']\n",
    "length=[len(words) for word in words]\n",
    "print(length)"
   ]
  },
  {
   "cell_type": "markdown",
   "id": "8d33f553-e8dd-4224-99be-b1996c0434ba",
   "metadata": {},
   "source": [
    "#### conclusion \n",
    "\n",
    "List Comprehensions are a powerful and concise way to create list in Python. They are syntacially compact and can replace more verbose looping constructs. Understanding the syntax oflist comprehension will help you write clear and more efficient Python code."
   ]
  },
  {
   "cell_type": "code",
   "execution_count": null,
   "id": "76004042-5a2b-451c-b8cc-0fef3e627d13",
   "metadata": {},
   "outputs": [],
   "source": []
  }
 ],
 "metadata": {
  "kernelspec": {
   "display_name": "Python 3 (ipykernel)",
   "language": "python",
   "name": "python3"
  },
  "language_info": {
   "codemirror_mode": {
    "name": "ipython",
    "version": 3
   },
   "file_extension": ".py",
   "mimetype": "text/x-python",
   "name": "python",
   "nbconvert_exporter": "python",
   "pygments_lexer": "ipython3",
   "version": "3.13.7"
  },
  "widgets": {
   "application/vnd.jupyter.widget-state+json": {
    "state": {},
    "version_major": 2,
    "version_minor": 0
   }
  }
 },
 "nbformat": 4,
 "nbformat_minor": 5
}
