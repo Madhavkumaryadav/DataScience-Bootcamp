{
 "cells": [
  {
   "cell_type": "code",
   "execution_count": 5,
   "id": "3b1af46a",
   "metadata": {},
   "outputs": [
    {
     "name": "stdout",
     "output_type": "stream",
     "text": [
      "numbrer 0\n",
      "numbrer 1\n",
      "numbrer 2\n",
      "numbrer 3\n",
      "numbrer 4\n",
      "letter a\n",
      "letter b\n",
      "letter c\n",
      "letter d\n",
      "18.012343168258667\n"
     ]
    }
   ],
   "source": [
    "# Multithreading \n",
    "# when to use multi Threading \n",
    "## I/O-bound tasks :- Tasks that spend more time waiting for I/O operations (e.g file operation , netword request)\n",
    "\n",
    "## Concurrent execution: When you want to imporve the throughput of your application by performing multiple operations concurrently.\n",
    "\n",
    "import threading\n",
    "import time\n",
    "\n",
    "def print_num():\n",
    "    for i in range(5):\n",
    "        time.sleep(2)\n",
    "        print(f'numbrer {i}')\n",
    "        \n",
    "def print_letter():\n",
    "    \n",
    "    for letter in 'abcd':\n",
    "        time.sleep(2)\n",
    "        print(f'letter {letter}')\n",
    "        \n",
    "t=time.time()\n",
    "print_num()\n",
    "print_letter()\n",
    "finished_time=time.time()-t\n",
    "print(finished_time)"
   ]
  },
  {
   "cell_type": "code",
   "execution_count": 6,
   "id": "769d2fdc",
   "metadata": {},
   "outputs": [
    {
     "name": "stdout",
     "output_type": "stream",
     "text": [
      "numbrer 0\n",
      "letter a\n",
      "numbrer 1letter b\n",
      "\n",
      "letter c\n",
      "numbrer 2\n",
      "letter dnumbrer 3\n",
      "\n",
      "numbrer 4\n",
      "10.016193151473999\n"
     ]
    }
   ],
   "source": [
    "## create 2 threads\n",
    "\n",
    "t1=threading.Thread(target=print_num)\n",
    "t2=threading.Thread(target=print_letter)\n",
    "\n",
    "t=time.time()\n",
    "\n",
    "## Start the thread\n",
    "t1.start()\n",
    "t2.start()\n",
    "\n",
    "## Wait for the threads to complete \n",
    "t1.join()\n",
    "t2.join()\n",
    "\n",
    "end_time=time.time() - t\n",
    "print(end_time)\n",
    " "
   ]
  },
  {
   "cell_type": "markdown",
   "id": "a7c38c4e",
   "metadata": {},
   "source": [
    "## Multi Processing :- Processes that run in parallel \n",
    "### CPU bound Tasks \n",
    "### Parallel execution - Multiple cores of the CUP\n"
   ]
  },
  {
   "cell_type": "code",
   "execution_count": 10,
   "id": "a7ae5382",
   "metadata": {},
   "outputs": [
    {
     "name": "stdout",
     "output_type": "stream",
     "text": [
      "0.41090893745422363\n"
     ]
    }
   ],
   "source": [
    "import multiprocessing\n",
    "\n",
    "def square():\n",
    "    for i in range(5):\n",
    "        time.sleep(2)\n",
    "        print(f\"square : {i*i}\")\n",
    "        \n",
    "def cube():\n",
    "    for i in range(5):\n",
    "        time.sleep(2)\n",
    "        print(f\"Cube {i * i* i}\")\n",
    "        \n",
    " \n",
    "## Create 3 Processes \n",
    "\n",
    "p1=multiprocessing.Process(target=square)\n",
    "p2=multiprocessing.Process(target=cube)    \n",
    "\n",
    "\n",
    "t=time.time()\n",
    "## Start the process \n",
    "p1.start()\n",
    "p2.start()\n",
    "\n",
    "\n",
    "p1.join()\n",
    "p2.join()   \n",
    "\n",
    "f_time=time.time()-t\n",
    "print(f_time)"
   ]
  },
  {
   "cell_type": "code",
   "execution_count": 12,
   "id": "21cb7592",
   "metadata": {},
   "outputs": [
    {
     "name": "stdout",
     "output_type": "stream",
     "text": [
      "0.276935338973999\n"
     ]
    }
   ],
   "source": [
    "if __name__=='__main__':\n",
    "    p1=multiprocessing.Process(target=square)\n",
    "    p2=multiprocessing.Process(target=cube)    \n",
    "\n",
    "\n",
    "    t=time.time()\n",
    "    ## Start the process \n",
    "    p1.start()\n",
    "    p2.start()\n",
    "\n",
    "\n",
    "    p1.join()\n",
    "    p2.join()   \n",
    "\n",
    "    f_time=time.time()-t\n",
    "    print(f_time)"
   ]
  },
  {
   "cell_type": "markdown",
   "id": "1b1fcd54",
   "metadata": {},
   "source": [
    "### Multithreading with thread pool executor"
   ]
  },
  {
   "cell_type": "code",
   "execution_count": 13,
   "id": "0c1bbe28",
   "metadata": {},
   "outputs": [],
   "source": [
    "from concurrent.futures import ThreadPoolExecutor\n",
    "import time\n",
    "\n",
    "def print_num(number):\n",
    "    time.sleep(1)\n",
    "    return f\"Number {number}\"\n",
    "\n",
    "number=[1,2,3,4,5]\n",
    "with ThreadPoolExecutor (max_workers=3) as executor:\n",
    "    results=executor.map(print_num)\n",
    "\n",
    "for result in results:\n",
    "    print(result)"
   ]
  },
  {
   "cell_type": "code",
   "execution_count": null,
   "id": "cedc4745",
   "metadata": {},
   "outputs": [],
   "source": []
  }
 ],
 "metadata": {
  "kernelspec": {
   "display_name": "myenv",
   "language": "python",
   "name": "python3"
  },
  "language_info": {
   "codemirror_mode": {
    "name": "ipython",
    "version": 3
   },
   "file_extension": ".py",
   "mimetype": "text/x-python",
   "name": "python",
   "nbconvert_exporter": "python",
   "pygments_lexer": "ipython3",
   "version": "3.13.7"
  }
 },
 "nbformat": 4,
 "nbformat_minor": 5
}
