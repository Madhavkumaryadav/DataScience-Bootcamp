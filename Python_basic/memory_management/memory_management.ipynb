{
 "cells": [
  {
   "cell_type": "markdown",
   "id": "88245872",
   "metadata": {},
   "source": [
    "## Python Memory Management \n",
    "\n",
    "Memory management inpython involves a combination of automatic garbage collection, reference counting, and various internal optimizations to effeciently manage memory allocation and deallocation . Understanding these mechanisms can help developers write more efficient and robust applications.\n",
    "\n",
    "1. Kye concepts in python Memory Management \n",
    "2. Memory Allocation and Deallocation \n",
    "3. Reference Counting \n",
    "4. Garbage Collection \n",
    "5. The gc Module \n",
    "6. Memory Management Best Practices"
   ]
  },
  {
   "cell_type": "markdown",
   "id": "58dee7a6",
   "metadata": {},
   "source": [
    "### Reference Counting\n",
    "\n",
    "Reference counting is the primary method Python uses to manage memory. Each object in Pyhton maintains a count of references pointing to it. When the reference count drips to zero, the memory occupied by the object is deallocated."
   ]
  },
  {
   "cell_type": "code",
   "execution_count": 1,
   "id": "18f6b858",
   "metadata": {},
   "outputs": [
    {
     "name": "stdout",
     "output_type": "stream",
     "text": [
      "2\n"
     ]
    }
   ],
   "source": [
    "import sys\n",
    "a=[]\n",
    "# 2(one reference from 'a' and one from getrefcount)\n",
    "\n",
    "print(sys.getrefcount(a))\n"
   ]
  },
  {
   "cell_type": "code",
   "execution_count": 4,
   "id": "4237d6f3",
   "metadata": {},
   "outputs": [
    {
     "name": "stdout",
     "output_type": "stream",
     "text": [
      "3\n"
     ]
    }
   ],
   "source": [
    "b=a\n",
    "print(sys.getrefcount(b))"
   ]
  },
  {
   "cell_type": "code",
   "execution_count": 6,
   "id": "9e371ac7",
   "metadata": {},
   "outputs": [
    {
     "name": "stdout",
     "output_type": "stream",
     "text": [
      "2\n"
     ]
    }
   ],
   "source": [
    "del b\n",
    "print(sys.getrefcount(a))"
   ]
  },
  {
   "cell_type": "markdown",
   "id": "50e96425",
   "metadata": {},
   "source": [
    "### Garbage Collection \n",
    "\n",
    "Pyhton include a cycle garbage collector to handle reference cycles. Reference cycless occur occur when objects reference each other, Preventing their reference counts from reaching zero. "
   ]
  },
  {
   "cell_type": "code",
   "execution_count": 14,
   "id": "18d9be77",
   "metadata": {},
   "outputs": [],
   "source": [
    "import gc\n",
    "## Enable garbage  collection\n",
    "gc.enable()"
   ]
  },
  {
   "cell_type": "code",
   "execution_count": 8,
   "id": "8a1c5f96",
   "metadata": {},
   "outputs": [],
   "source": [
    "gc.disable()"
   ]
  },
  {
   "cell_type": "code",
   "execution_count": 15,
   "id": "0de02e34",
   "metadata": {},
   "outputs": [
    {
     "data": {
      "text/plain": [
       "0"
      ]
     },
     "execution_count": 15,
     "metadata": {},
     "output_type": "execute_result"
    }
   ],
   "source": [
    "gc.collect()"
   ]
  },
  {
   "cell_type": "code",
   "execution_count": 16,
   "id": "2541c754",
   "metadata": {},
   "outputs": [
    {
     "name": "stdout",
     "output_type": "stream",
     "text": [
      "[{'collections': 75, 'collected': 2140, 'uncollectable': 0}, {'collections': 6, 'collected': 392, 'uncollectable': 0}, {'collections': 6, 'collected': 775, 'uncollectable': 0}]\n"
     ]
    }
   ],
   "source": [
    "## Get garbage collection stats\n",
    "\n",
    "print(gc.get_stats())"
   ]
  },
  {
   "cell_type": "code",
   "execution_count": 19,
   "id": "1ba0adb8",
   "metadata": {},
   "outputs": [
    {
     "name": "stdout",
     "output_type": "stream",
     "text": [
      "[]\n"
     ]
    }
   ],
   "source": [
    "## get unreachable objects\n",
    "print(gc.garbage)"
   ]
  },
  {
   "cell_type": "markdown",
   "id": "abd64503",
   "metadata": {},
   "source": [
    "### Memory Management Best Practices\n",
    "\n",
    "1. Use Local Variables: Local variables have a shorter lifespan and are freed sooner than global varibles.\n",
    "2. Avoid Circular References: Circular references can lead to memory leaks if not properly managed .\n",
    "3. Use Generators: Generators produce items one at a time and only keep one item in memory at a time, makeing them memory efficient .\n",
    "4. Explicity Delete Objects :- Use the del statement to delete variables and objects explicitly.\n",
    "5. Profile Memory Usage : Use memory profiling tools like tracemalloc and memory_profiler to identify memory leaks and optimize memory useage."
   ]
  },
  {
   "cell_type": "markdown",
   "id": "f6ec49ca",
   "metadata": {},
   "source": []
  },
  {
   "cell_type": "code",
   "execution_count": 2,
   "id": "6691d12c",
   "metadata": {},
   "outputs": [
    {
     "name": "stdout",
     "output_type": "stream",
     "text": [
      "obj1 created\n",
      "obj2 created\n",
      "obj1 destroyed\n",
      "obj2 destroyed\n",
      "obj1 destroyed\n",
      "obj2 destroyed\n"
     ]
    },
    {
     "data": {
      "text/plain": [
       "27"
      ]
     },
     "execution_count": 2,
     "metadata": {},
     "output_type": "execute_result"
    }
   ],
   "source": [
    "import gc\n",
    "\n",
    "class Myobject:\n",
    "    def __init__(self,name):\n",
    "        self.name=name\n",
    "        print(f\"{self.name} created\")\n",
    "    \n",
    "    def __del__(self):\n",
    "        print(f\"{self.name} destroyed\")\n",
    "    \n",
    "## create circular reference\n",
    "\n",
    "obj1=Myobject(\"obj1\")\n",
    "obj2=Myobject(\"obj2\")\n",
    "\n",
    "obj1.ref=obj2\n",
    "obj2.ref=obj1\n",
    "\n",
    "del obj1\n",
    "del obj2\n",
    "\n",
    "## Manually trigger garbage collection\n",
    "\n",
    "gc.collect()"
   ]
  },
  {
   "cell_type": "code",
   "execution_count": 5,
   "id": "d8bd4b73",
   "metadata": {},
   "outputs": [
    {
     "name": "stdout",
     "output_type": "stream",
     "text": [
      "0\n",
      "1\n",
      "2\n",
      "3\n",
      "4\n",
      "5\n",
      "6\n",
      "7\n",
      "8\n",
      "9\n",
      "10\n",
      "11\n"
     ]
    }
   ],
   "source": [
    "## Generators for memery efficiency \n",
    "# Generators allow you to produce items one at a time, using memroy efficiency by only keeping one item \n",
    "\n",
    "def generate_number(n):\n",
    "    for i in range(n):\n",
    "        yield i\n",
    "        \n",
    "# using the generator \n",
    "for num in generate_number(100000):\n",
    "    print(num)\n",
    "    if num>10:\n",
    "        break"
   ]
  },
  {
   "cell_type": "code",
   "execution_count": 10,
   "id": "a977b56f",
   "metadata": {},
   "outputs": [],
   "source": [
    "## Profiling Memory usage with tracemalloc\n",
    "\n",
    "import tracemalloc\n",
    "\n",
    "\n",
    "def create_list():\n",
    "    return [i for i in range(10000)]\n",
    "\n",
    "def main():\n",
    "    tracemalloc.start()\n",
    "    create_list()\n",
    "    snapshot=tracemalloc.take_snapshot()\n",
    "    top_stats=snapshot.statistics('lineno')\n",
    "    \n",
    "    print('[top 10]')\n",
    "    for stat in top_stats[::]:\n",
    "        print(stat)"
   ]
  },
  {
   "cell_type": "code",
   "execution_count": 11,
   "id": "0900f81b",
   "metadata": {},
   "outputs": [
    {
     "name": "stdout",
     "output_type": "stream",
     "text": [
      "[top 10]\n",
      "c:\\Users\\Madhav Yadav\\myenv\\Lib\\site-packages\\IPython\\core\\compilerop.py:174: size=15.0 KiB, count=161, average=96 B\n",
      "C:\\Program Files\\WindowsApps\\PythonSoftwareFoundation.Python.3.13_3.13.2032.0_x64__qbz5n2kfra8p0\\Lib\\json\\decoder.py:361: size=7085 B, count=113, average=63 B\n",
      "C:\\Program Files\\WindowsApps\\PythonSoftwareFoundation.Python.3.13_3.13.2032.0_x64__qbz5n2kfra8p0\\Lib\\codeop.py:118: size=3596 B, count=47, average=77 B\n",
      "c:\\Users\\Madhav Yadav\\myenv\\Lib\\site-packages\\jupyter_client\\jsonutil.py:111: size=3450 B, count=69, average=50 B\n",
      "c:\\Users\\Madhav Yadav\\myenv\\Lib\\site-packages\\traitlets\\traitlets.py:731: size=3078 B, count=48, average=64 B\n",
      "c:\\Users\\Madhav Yadav\\myenv\\Lib\\site-packages\\zmq\\sugar\\attrsettr.py:45: size=2726 B, count=58, average=47 B\n",
      "c:\\Users\\Madhav Yadav\\myenv\\Lib\\site-packages\\IPython\\core\\compilerop.py:86: size=2561 B, count=39, average=66 B\n",
      "c:\\Users\\Madhav Yadav\\myenv\\Lib\\site-packages\\traitlets\\traitlets.py:1543: size=1978 B, count=32, average=62 B\n",
      "c:\\Users\\Madhav Yadav\\myenv\\Lib\\site-packages\\jupyter_client\\jsonutil.py:75: size=1872 B, count=9, average=208 B\n",
      "c:\\Users\\Madhav Yadav\\myenv\\Lib\\site-packages\\jupyter_client\\session.py:1057: size=1529 B, count=13, average=118 B\n",
      "C:\\Program Files\\WindowsApps\\PythonSoftwareFoundation.Python.3.13_3.13.2032.0_x64__qbz5n2kfra8p0\\Lib\\contextlib.py:109: size=1376 B, count=13, average=106 B\n",
      "c:\\Users\\Madhav Yadav\\myenv\\Lib\\site-packages\\traitlets\\traitlets.py:1514: size=1080 B, count=9, average=120 B\n",
      "c:\\Users\\Madhav Yadav\\myenv\\Lib\\site-packages\\zmq\\sugar\\socket.py:802: size=1056 B, count=6, average=176 B\n",
      "C:\\Program Files\\WindowsApps\\PythonSoftwareFoundation.Python.3.13_3.13.2032.0_x64__qbz5n2kfra8p0\\Lib\\_weakrefset.py:88: size=1024 B, count=1, average=1024 B\n",
      "c:\\Users\\Madhav Yadav\\myenv\\Lib\\site-packages\\ipykernel\\compiler.py:91: size=994 B, count=9, average=110 B\n",
      "C:\\Program Files\\WindowsApps\\PythonSoftwareFoundation.Python.3.13_3.13.2032.0_x64__qbz5n2kfra8p0\\Lib\\threading.py:297: size=760 B, count=2, average=380 B\n",
      "c:\\Users\\Madhav Yadav\\myenv\\Lib\\site-packages\\ipykernel\\iostream.py:287: size=720 B, count=6, average=120 B\n",
      "c:\\Users\\Madhav Yadav\\myenv\\Lib\\site-packages\\ipykernel\\iostream.py:346: size=600 B, count=5, average=120 B\n",
      "c:\\Users\\Madhav Yadav\\myenv\\Lib\\site-packages\\IPython\\core\\interactiveshell.py:3145: size=536 B, count=4, average=134 B\n",
      "C:\\Program Files\\WindowsApps\\PythonSoftwareFoundation.Python.3.13_3.13.2032.0_x64__qbz5n2kfra8p0\\Lib\\asyncio\\events.py:89: size=448 B, count=5, average=90 B\n",
      "c:\\Users\\Madhav Yadav\\myenv\\Lib\\site-packages\\dateutil\\parser\\isoparser.py:146: size=432 B, count=9, average=48 B\n",
      "c:\\Users\\Madhav Yadav\\myenv\\Lib\\site-packages\\ipykernel\\kernelbase.py:775: size=432 B, count=2, average=216 B\n",
      "c:\\Users\\Madhav Yadav\\myenv\\Lib\\site-packages\\IPython\\core\\history.py:958: size=422 B, count=2, average=211 B\n",
      "c:\\Users\\Madhav Yadav\\myenv\\Lib\\site-packages\\IPython\\core\\history.py:1011: size=416 B, count=6, average=69 B\n",
      "c:\\Users\\Madhav Yadav\\myenv\\Lib\\site-packages\\ipykernel\\zmqshell.py:76: size=416 B, count=2, average=208 B\n",
      "c:\\Users\\Madhav Yadav\\myenv\\Lib\\site-packages\\IPython\\core\\interactiveshell.py:3068: size=376 B, count=3, average=125 B\n",
      "c:\\Users\\Madhav Yadav\\myenv\\Lib\\site-packages\\IPython\\core\\interactiveshell.py:3502: size=376 B, count=1, average=376 B\n",
      "c:\\Users\\Madhav Yadav\\myenv\\Lib\\site-packages\\IPython\\core\\interactiveshell.py:3394: size=376 B, count=1, average=376 B\n",
      "c:\\Users\\Madhav Yadav\\myenv\\Lib\\site-packages\\ipykernel\\ipkernel.py:362: size=368 B, count=1, average=368 B\n",
      "C:\\Program Files\\WindowsApps\\PythonSoftwareFoundation.Python.3.13_3.13.2032.0_x64__qbz5n2kfra8p0\\Lib\\contextlib.py:305: size=336 B, count=3, average=112 B\n",
      "c:\\Users\\Madhav Yadav\\myenv\\Lib\\site-packages\\IPython\\core\\interactiveshell.py:3043: size=320 B, count=2, average=160 B\n",
      "C:\\Program Files\\WindowsApps\\PythonSoftwareFoundation.Python.3.13_3.13.2032.0_x64__qbz5n2kfra8p0\\Lib\\asyncio\\base_events.py:853: size=312 B, count=3, average=104 B\n",
      "c:\\Users\\Madhav Yadav\\myenv\\Lib\\site-packages\\IPython\\core\\interactiveshell.py:3639: size=296 B, count=1, average=296 B\n",
      "c:\\Users\\Madhav Yadav\\myenv\\Lib\\site-packages\\ipykernel\\iostream.py:142: size=288 B, count=1, average=288 B\n",
      "C:\\Program Files\\WindowsApps\\PythonSoftwareFoundation.Python.3.13_3.13.2032.0_x64__qbz5n2kfra8p0\\Lib\\threading.py:294: size=280 B, count=2, average=140 B\n",
      "c:\\Users\\Madhav Yadav\\myenv\\Lib\\site-packages\\tornado\\platform\\asyncio.py:241: size=272 B, count=4, average=68 B\n",
      "c:\\Users\\Madhav Yadav\\myenv\\Lib\\site-packages\\ipykernel\\iostream.py:527: size=272 B, count=4, average=68 B\n",
      "c:\\Users\\Madhav Yadav\\myenv\\Lib\\site-packages\\tornado\\queues.py:248: size=272 B, count=2, average=136 B\n",
      "C:\\Program Files\\WindowsApps\\PythonSoftwareFoundation.Python.3.13_3.13.2032.0_x64__qbz5n2kfra8p0\\Lib\\asyncio\\base_events.py:459: size=272 B, count=2, average=136 B\n",
      "c:\\Users\\Madhav Yadav\\myenv\\Lib\\site-packages\\ipykernel\\kernelbase.py:534: size=272 B, count=1, average=272 B\n",
      "c:\\Users\\Madhav Yadav\\myenv\\Lib\\site-packages\\IPython\\core\\interactiveshell.py:3065: size=272 B, count=1, average=272 B\n",
      "C:\\Program Files\\WindowsApps\\PythonSoftwareFoundation.Python.3.13_3.13.2032.0_x64__qbz5n2kfra8p0\\Lib\\logging\\__init__.py:1603: size=264 B, count=1, average=264 B\n",
      "c:\\Users\\Madhav Yadav\\myenv\\Lib\\site-packages\\jupyter_client\\jsonutil.py:73: size=256 B, count=4, average=64 B\n",
      "c:\\Users\\Madhav Yadav\\myenv\\Lib\\site-packages\\ipykernel\\kernelbase.py:435: size=248 B, count=1, average=248 B\n",
      "c:\\Users\\Madhav Yadav\\myenv\\Lib\\site-packages\\ipykernel\\iostream.py:121: size=248 B, count=1, average=248 B\n",
      "c:\\Users\\Madhav Yadav\\myenv\\Lib\\site-packages\\IPython\\core\\interactiveshell.py:3271: size=240 B, count=2, average=120 B\n",
      "c:\\Users\\Madhav Yadav\\myenv\\Lib\\site-packages\\ipykernel\\kernelbase.py:545: size=232 B, count=1, average=232 B\n",
      "c:\\Users\\Madhav Yadav\\myenv\\Lib\\site-packages\\IPython\\core\\compilerop.py:172: size=224 B, count=8, average=28 B\n",
      "c:\\Users\\Madhav Yadav\\myenv\\Lib\\site-packages\\ipykernel\\zmqshell.py:549: size=224 B, count=3, average=75 B\n",
      "c:\\Users\\Madhav Yadav\\myenv\\Lib\\site-packages\\jupyter_client\\session.py:1085: size=208 B, count=1, average=208 B\n",
      "c:\\Users\\Madhav Yadav\\myenv\\Lib\\site-packages\\ipykernel\\kernelbase.py:770: size=208 B, count=1, average=208 B\n",
      "C:\\Program Files\\WindowsApps\\PythonSoftwareFoundation.Python.3.13_3.13.2032.0_x64__qbz5n2kfra8p0\\Lib\\asyncio\\futures.py:415: size=200 B, count=5, average=40 B\n",
      "C:\\Program Files\\WindowsApps\\PythonSoftwareFoundation.Python.3.13_3.13.2032.0_x64__qbz5n2kfra8p0\\Lib\\threading.py:1021: size=196 B, count=7, average=28 B\n",
      "c:\\Users\\Madhav Yadav\\myenv\\Lib\\site-packages\\IPython\\core\\interactiveshell.py:3279: size=192 B, count=2, average=96 B\n",
      "c:\\Users\\Madhav Yadav\\myenv\\Lib\\site-packages\\zmq\\sugar\\socket.py:799: size=176 B, count=1, average=176 B\n",
      "c:\\Users\\Madhav Yadav\\myenv\\Lib\\site-packages\\ipykernel\\kernelbase.py:570: size=160 B, count=1, average=160 B\n",
      "c:\\Users\\Madhav Yadav\\myenv\\Lib\\site-packages\\IPython\\core\\interactiveshell.py:3699: size=160 B, count=1, average=160 B\n",
      "c:\\Users\\Madhav Yadav\\myenv\\Lib\\site-packages\\IPython\\core\\interactiveshell.py:3615: size=160 B, count=1, average=160 B\n",
      "c:\\Users\\Madhav Yadav\\myenv\\Lib\\site-packages\\IPython\\core\\interactiveshell.py:3292: size=160 B, count=1, average=160 B\n",
      "C:\\Users\\Madhav Yadav\\AppData\\Local\\Temp\\ipykernel_12132\\855564448.py:9: size=160 B, count=1, average=160 B\n",
      "C:\\Users\\Madhav Yadav\\AppData\\Local\\Temp\\ipykernel_12132\\855564448.py:6: size=160 B, count=1, average=160 B\n",
      "C:\\Program Files\\WindowsApps\\PythonSoftwareFoundation.Python.3.13_3.13.2032.0_x64__qbz5n2kfra8p0\\Lib\\threading.py:972: size=160 B, count=1, average=160 B\n",
      "C:\\Program Files\\WindowsApps\\PythonSoftwareFoundation.Python.3.13_3.13.2032.0_x64__qbz5n2kfra8p0\\Lib\\asyncio\\futures.py:391: size=160 B, count=1, average=160 B\n",
      "C:\\Program Files\\WindowsApps\\PythonSoftwareFoundation.Python.3.13_3.13.2032.0_x64__qbz5n2kfra8p0\\Lib\\asyncio\\futures.py:384: size=160 B, count=1, average=160 B\n",
      "C:\\Program Files\\WindowsApps\\PythonSoftwareFoundation.Python.3.13_3.13.2032.0_x64__qbz5n2kfra8p0\\Lib\\asyncio\\futures.py:378: size=160 B, count=1, average=160 B\n",
      "c:\\Users\\Madhav Yadav\\myenv\\Lib\\site-packages\\ipykernel\\iostream.py:722: size=144 B, count=2, average=72 B\n",
      "c:\\Users\\Madhav Yadav\\myenv\\Lib\\site-packages\\IPython\\core\\interactiveshell.py:3114: size=128 B, count=2, average=64 B\n",
      "c:\\Users\\Madhav Yadav\\myenv\\Lib\\site-packages\\IPython\\core\\interactiveshell.py:3631: size=120 B, count=3, average=40 B\n",
      "c:\\Users\\Madhav Yadav\\myenv\\Lib\\site-packages\\traitlets\\traitlets.py:1540: size=120 B, count=2, average=60 B\n",
      "c:\\Users\\Madhav Yadav\\myenv\\Lib\\site-packages\\jupyter_client\\session.py:672: size=120 B, count=1, average=120 B\n",
      "c:\\Users\\Madhav Yadav\\myenv\\Lib\\site-packages\\ipykernel\\kernelbase.py:318: size=120 B, count=1, average=120 B\n",
      "C:\\Program Files\\WindowsApps\\PythonSoftwareFoundation.Python.3.13_3.13.2032.0_x64__qbz5n2kfra8p0\\Lib\\inspect.py:266: size=120 B, count=1, average=120 B\n",
      "C:\\Program Files\\WindowsApps\\PythonSoftwareFoundation.Python.3.13_3.13.2032.0_x64__qbz5n2kfra8p0\\Lib\\asyncio\\base_events.py:816: size=120 B, count=1, average=120 B\n",
      "c:\\Users\\Madhav Yadav\\myenv\\Lib\\site-packages\\traitlets\\traitlets.py:1534: size=112 B, count=2, average=56 B\n",
      "C:\\Program Files\\WindowsApps\\PythonSoftwareFoundation.Python.3.13_3.13.2032.0_x64__qbz5n2kfra8p0\\Lib\\selectors.py:305: size=112 B, count=2, average=56 B\n",
      "c:\\Users\\Madhav Yadav\\myenv\\Lib\\site-packages\\jupyter_client\\session.py:989: size=111 B, count=2, average=56 B\n",
      "C:\\Program Files\\WindowsApps\\PythonSoftwareFoundation.Python.3.13_3.13.2032.0_x64__qbz5n2kfra8p0\\Lib\\concurrent\\futures\\_base.py:330: size=104 B, count=1, average=104 B\n",
      "c:\\Users\\Madhav Yadav\\myenv\\Lib\\site-packages\\IPython\\core\\interactiveshell.py:3497: size=96 B, count=2, average=48 B\n",
      "C:\\Program Files\\WindowsApps\\PythonSoftwareFoundation.Python.3.13_3.13.2032.0_x64__qbz5n2kfra8p0\\Lib\\warnings.py:196: size=96 B, count=1, average=96 B\n",
      "c:\\Users\\Madhav Yadav\\myenv\\Lib\\site-packages\\zmq\\sugar\\attrsettr.py:29: size=94 B, count=2, average=47 B\n",
      "c:\\Users\\Madhav Yadav\\myenv\\Lib\\site-packages\\IPython\\core\\history.py:982: size=90 B, count=2, average=45 B\n",
      "c:\\Users\\Madhav Yadav\\myenv\\Lib\\site-packages\\jupyter_client\\session.py:996: size=88 B, count=2, average=44 B\n",
      "C:\\Program Files\\WindowsApps\\PythonSoftwareFoundation.Python.3.13_3.13.2032.0_x64__qbz5n2kfra8p0\\Lib\\threading.py:139: size=88 B, count=2, average=44 B\n",
      "c:\\Users\\Madhav Yadav\\myenv\\Lib\\site-packages\\IPython\\core\\history.py:1030: size=72 B, count=1, average=72 B\n",
      "c:\\Users\\Madhav Yadav\\myenv\\Lib\\site-packages\\IPython\\core\\history.py:1009: size=72 B, count=1, average=72 B\n",
      "C:\\Program Files\\WindowsApps\\PythonSoftwareFoundation.Python.3.13_3.13.2032.0_x64__qbz5n2kfra8p0\\Lib\\threading.py:296: size=72 B, count=1, average=72 B\n",
      "C:\\Program Files\\WindowsApps\\PythonSoftwareFoundation.Python.3.13_3.13.2032.0_x64__qbz5n2kfra8p0\\Lib\\threading.py:292: size=72 B, count=1, average=72 B\n",
      "C:\\Program Files\\WindowsApps\\PythonSoftwareFoundation.Python.3.13_3.13.2032.0_x64__qbz5n2kfra8p0\\Lib\\threading.py:287: size=72 B, count=1, average=72 B\n",
      "C:\\Program Files\\WindowsApps\\PythonSoftwareFoundation.Python.3.13_3.13.2032.0_x64__qbz5n2kfra8p0\\Lib\\threading.py:286: size=72 B, count=1, average=72 B\n",
      "c:\\Users\\Madhav Yadav\\myenv\\Lib\\site-packages\\IPython\\core\\interactiveshell.py:3607: size=64 B, count=2, average=32 B\n",
      "c:\\Users\\Madhav Yadav\\myenv\\Lib\\site-packages\\zmq\\sugar\\socket.py:803: size=64 B, count=1, average=64 B\n",
      "c:\\Users\\Madhav Yadav\\myenv\\Lib\\site-packages\\zmq\\eventloop\\zmqstream.py:629: size=64 B, count=1, average=64 B\n",
      "c:\\Users\\Madhav Yadav\\myenv\\Lib\\site-packages\\jupyter_client\\session.py:1053: size=64 B, count=1, average=64 B\n",
      "c:\\Users\\Madhav Yadav\\myenv\\Lib\\site-packages\\ipykernel\\kernelbase.py:721: size=64 B, count=1, average=64 B\n",
      "c:\\Users\\Madhav Yadav\\myenv\\Lib\\site-packages\\ipykernel\\ipkernel.py:449: size=64 B, count=1, average=64 B\n",
      "c:\\Users\\Madhav Yadav\\myenv\\Lib\\site-packages\\ipykernel\\ipkernel.py:384: size=64 B, count=1, average=64 B\n",
      "c:\\Users\\Madhav Yadav\\myenv\\Lib\\site-packages\\ipykernel\\ipkernel.py:383: size=64 B, count=1, average=64 B\n",
      "c:\\Users\\Madhav Yadav\\myenv\\Lib\\site-packages\\ipykernel\\ipkernel.py:294: size=64 B, count=1, average=64 B\n",
      "c:\\Users\\Madhav Yadav\\myenv\\Lib\\site-packages\\ipykernel\\ipkernel.py:291: size=64 B, count=1, average=64 B\n",
      "c:\\Users\\Madhav Yadav\\myenv\\Lib\\site-packages\\decorator.py:235: size=64 B, count=1, average=64 B\n",
      "c:\\Users\\Madhav Yadav\\myenv\\Lib\\site-packages\\IPython\\core\\interactiveshell.py:3688: size=64 B, count=1, average=64 B\n",
      "c:\\Users\\Madhav Yadav\\myenv\\Lib\\site-packages\\IPython\\core\\interactiveshell.py:3637: size=64 B, count=1, average=64 B\n",
      "c:\\Users\\Madhav Yadav\\myenv\\Lib\\site-packages\\IPython\\core\\interactiveshell.py:3363: size=64 B, count=1, average=64 B\n",
      "c:\\Users\\Madhav Yadav\\myenv\\Lib\\site-packages\\IPython\\core\\interactiveshell.py:3360: size=64 B, count=1, average=64 B\n",
      "c:\\Users\\Madhav Yadav\\myenv\\Lib\\site-packages\\IPython\\core\\history.py:1111: size=64 B, count=1, average=64 B\n",
      "C:\\Program Files\\WindowsApps\\PythonSoftwareFoundation.Python.3.13_3.13.2032.0_x64__qbz5n2kfra8p0\\Lib\\inspect.py:2934: size=64 B, count=1, average=64 B\n",
      "c:\\Users\\Madhav Yadav\\myenv\\Lib\\site-packages\\IPython\\core\\interactiveshell.py:3620: size=56 B, count=1, average=56 B\n",
      "c:\\Users\\Madhav Yadav\\myenv\\Lib\\site-packages\\IPython\\core\\interactiveshell.py:3605: size=56 B, count=1, average=56 B\n",
      "c:\\Users\\Madhav Yadav\\myenv\\Lib\\site-packages\\IPython\\core\\completer.py:3387: size=56 B, count=1, average=56 B\n",
      "c:\\Users\\Madhav Yadav\\myenv\\Lib\\site-packages\\IPython\\core\\completer.py:1139: size=56 B, count=1, average=56 B\n",
      "C:\\Program Files\\WindowsApps\\PythonSoftwareFoundation.Python.3.13_3.13.2032.0_x64__qbz5n2kfra8p0\\Lib\\warnings.py:493: size=56 B, count=1, average=56 B\n",
      "C:\\Program Files\\WindowsApps\\PythonSoftwareFoundation.Python.3.13_3.13.2032.0_x64__qbz5n2kfra8p0\\Lib\\selectors.py:314: size=56 B, count=1, average=56 B\n",
      "C:\\Program Files\\WindowsApps\\PythonSoftwareFoundation.Python.3.13_3.13.2032.0_x64__qbz5n2kfra8p0\\Lib\\selectors.py:312: size=56 B, count=1, average=56 B\n",
      "c:\\Users\\Madhav Yadav\\myenv\\Lib\\site-packages\\IPython\\core\\interactiveshell.py:3070: size=50 B, count=1, average=50 B\n",
      "c:\\Users\\Madhav Yadav\\myenv\\Lib\\site-packages\\jupyter_client\\session.py:200: size=48 B, count=1, average=48 B\n",
      "c:\\Users\\Madhav Yadav\\myenv\\Lib\\site-packages\\IPython\\core\\interactiveshell.py:3627: size=48 B, count=1, average=48 B\n",
      "c:\\Users\\Madhav Yadav\\myenv\\Lib\\site-packages\\IPython\\core\\history.py:1010: size=48 B, count=1, average=48 B\n",
      "c:\\Users\\Madhav Yadav\\myenv\\Lib\\site-packages\\IPython\\core\\prefilter.py:317: size=47 B, count=1, average=47 B\n",
      "c:\\Users\\Madhav Yadav\\myenv\\Lib\\site-packages\\jupyter_client\\session.py:603: size=32 B, count=1, average=32 B\n",
      "c:\\Users\\Madhav Yadav\\myenv\\Lib\\site-packages\\ipykernel\\iostream.py:637: size=32 B, count=1, average=32 B\n",
      "c:\\Users\\Madhav Yadav\\myenv\\Lib\\site-packages\\IPython\\core\\interactiveshell.py:3625: size=32 B, count=1, average=32 B\n",
      "c:\\Users\\Madhav Yadav\\myenv\\Lib\\site-packages\\IPython\\core\\history.py:969: size=32 B, count=1, average=32 B\n",
      "c:\\Users\\Madhav Yadav\\myenv\\Lib\\site-packages\\IPython\\core\\completer.py:3136: size=32 B, count=1, average=32 B\n",
      "c:\\Users\\Madhav Yadav\\myenv\\Lib\\site-packages\\IPython\\core\\completer.py:869: size=32 B, count=1, average=32 B\n",
      "c:\\Users\\Madhav Yadav\\myenv\\Lib\\site-packages\\IPython\\core\\compilerop.py:192: size=32 B, count=1, average=32 B\n",
      "C:\\Program Files\\WindowsApps\\PythonSoftwareFoundation.Python.3.13_3.13.2032.0_x64__qbz5n2kfra8p0\\Lib\\concurrent\\futures\\_base.py:421: size=32 B, count=1, average=32 B\n",
      "C:\\Program Files\\WindowsApps\\PythonSoftwareFoundation.Python.3.13_3.13.2032.0_x64__qbz5n2kfra8p0\\Lib\\asyncio\\base_events.py:2034: size=32 B, count=1, average=32 B\n",
      "C:\\Program Files\\WindowsApps\\PythonSoftwareFoundation.Python.3.13_3.13.2032.0_x64__qbz5n2kfra8p0\\Lib\\asyncio\\base_events.py:819: size=32 B, count=1, average=32 B\n"
     ]
    }
   ],
   "source": [
    "main()"
   ]
  },
  {
   "cell_type": "code",
   "execution_count": null,
   "id": "1e8cdb56",
   "metadata": {},
   "outputs": [],
   "source": []
  }
 ],
 "metadata": {
  "kernelspec": {
   "display_name": "myenv",
   "language": "python",
   "name": "python3"
  },
  "language_info": {
   "codemirror_mode": {
    "name": "ipython",
    "version": 3
   },
   "file_extension": ".py",
   "mimetype": "text/x-python",
   "name": "python",
   "nbconvert_exporter": "python",
   "pygments_lexer": "ipython3",
   "version": "3.13.7"
  }
 },
 "nbformat": 4,
 "nbformat_minor": 5
}
