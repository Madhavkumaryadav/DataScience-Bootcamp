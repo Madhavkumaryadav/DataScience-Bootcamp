{
 "cells": [
  {
   "cell_type": "code",
   "execution_count": 1,
   "id": "91eca248",
   "metadata": {},
   "outputs": [
    {
     "name": "stdout",
     "output_type": "stream",
     "text": [
      "hellw world \n"
     ]
    }
   ],
   "source": [
    "print(\"hellw world \")"
   ]
  },
  {
   "cell_type": "code",
   "execution_count": 2,
   "id": "39aa82ab",
   "metadata": {},
   "outputs": [],
   "source": [
    "import math"
   ]
  },
  {
   "cell_type": "code",
   "execution_count": 3,
   "id": "7991bd5c",
   "metadata": {},
   "outputs": [
    {
     "data": {
      "text/plain": [
       "2432902008176640000"
      ]
     },
     "execution_count": 3,
     "metadata": {},
     "output_type": "execute_result"
    }
   ],
   "source": [
    "math.factorial(20)"
   ]
  },
  {
   "cell_type": "markdown",
   "id": "a471258b-b101-4d5f-9309-1f06cd94ae05",
   "metadata": {},
   "source": [
    "### Syntax referss to the set of rules that defines the combinations of symbols that are considered to be correctly structured programs in a language. In simpler terms syntax is about the correct arrangement of words and symboles in a code. \n"
   ]
  },
  {
   "cell_type": "markdown",
   "id": "d278bff2-a98d-4bd6-9733-f50e4ab49257",
   "metadata": {},
   "source": [
    "### Semantics refers to the meaning or the interpretation of the symbols characters and commands in a language. it is about what the code is supposed to do when it runs."
   ]
  },
  {
   "cell_type": "code",
   "execution_count": 4,
   "id": "48e2b6bd-990e-42ff-abb4-e5c665f6aecb",
   "metadata": {},
   "outputs": [
    {
     "name": "stdout",
     "output_type": "stream",
     "text": [
      "Madhav\n",
      "Kumar\n"
     ]
    }
   ],
   "source": [
    "## Basic syntas Rules in python \n",
    "## Case sensitivity :- Python is case sensitivity\n",
    "\n",
    "name='Madhav'\n",
    "Name='Kumar'\n",
    "\n",
    "print(name)\n",
    "print(Name)\n",
    "# Both are the different thats the example of case sensitivity \n"
   ]
  },
  {
   "cell_type": "code",
   "execution_count": 5,
   "id": "173c690f-b0e3-4423-bea5-36ef5cf325ed",
   "metadata": {},
   "outputs": [
    {
     "name": "stdout",
     "output_type": "stream",
     "text": [
      "32\n",
      "32\n"
     ]
    }
   ],
   "source": [
    "## Indentation \n",
    "## Python used identation to define blocks of code. Consistent use of space (commolny 4) or a tab is required\n",
    "\n",
    "age=32\n",
    "if age >30:\n",
    "    print(age)\n",
    "print(age)\n",
    "    "
   ]
  },
  {
   "cell_type": "code",
   "execution_count": 6,
   "id": "23733874-c2a0-4f77-815c-6f8363a582d1",
   "metadata": {},
   "outputs": [
    {
     "name": "stdout",
     "output_type": "stream",
     "text": [
      "Hello world \n"
     ]
    }
   ],
   "source": [
    "## This is the single line command \n",
    "print('Hello world ')"
   ]
  },
  {
   "cell_type": "code",
   "execution_count": 8,
   "id": "ce213385-1d77-469a-8cac-f6e81cb1e0b6",
   "metadata": {},
   "outputs": [
    {
     "name": "stdout",
     "output_type": "stream",
     "text": [
      "73\n"
     ]
    }
   ],
   "source": [
    "## Line continuation \n",
    "## Use a backslash(\\) to continue a statement to the next line\n",
    "\n",
    "total=1+2 +3+4+5+6+7+ \\\n",
    "9+4+32\n",
    "print(total)"
   ]
  },
  {
   "cell_type": "code",
   "execution_count": 9,
   "id": "7be3d943-0f2c-4be7-8deb-1e82068644a4",
   "metadata": {},
   "outputs": [
    {
     "name": "stdout",
     "output_type": "stream",
     "text": [
      "15\n"
     ]
    }
   ],
   "source": [
    "## Multiple Statements on a single line\n",
    "\n",
    "x=5;y=10;z=x+y\n",
    "print(z)"
   ]
  },
  {
   "cell_type": "code",
   "execution_count": 10,
   "id": "22ffdbb3-eba6-4ea4-88d9-793a5107eb3f",
   "metadata": {},
   "outputs": [],
   "source": [
    "## Understand Semnatics In python\n",
    "# Variable Assingement\n",
    "\n",
    "age=32  ## age is an integer\n",
    "name='Madhav' ## name is a string "
   ]
  },
  {
   "cell_type": "code",
   "execution_count": 12,
   "id": "0adb20bd-de49-4b16-a1b6-43a55dcc55e4",
   "metadata": {},
   "outputs": [
    {
     "name": "stdout",
     "output_type": "stream",
     "text": [
      "<class 'int'>\n",
      "<class 'str'>\n"
     ]
    }
   ],
   "source": [
    "print(type(age))\n",
    "print(type(name))"
   ]
  },
  {
   "cell_type": "code",
   "execution_count": 16,
   "id": "17836fa8-8007-43b1-9fc0-57b9e8f0e2c0",
   "metadata": {},
   "outputs": [
    {
     "name": "stdout",
     "output_type": "stream",
     "text": [
      "<class 'int'>\n",
      "<class 'str'>\n"
     ]
    }
   ],
   "source": [
    "## Type Interfence \n",
    "\n",
    "variable=10\n",
    "print(type(variable))\n",
    "variable='madhav'\n",
    "\n",
    "print(type(variable))"
   ]
  },
  {
   "cell_type": "code",
   "execution_count": 17,
   "id": "a5ddb3d2-5774-4e41-89a2-233bae4aee01",
   "metadata": {},
   "outputs": [
    {
     "name": "stdout",
     "output_type": "stream",
     "text": [
      "Correct Indentation\n",
      "This will print\n",
      "Outside the if Block \n"
     ]
    }
   ],
   "source": [
    "## Code examples of indentation \n",
    "if True:\n",
    "    print(\"Correct Indentation\")\n",
    "    if False:\n",
    "        print(\"This ont print\")\n",
    "    print(\"This will print\")\n",
    "print(\"Outside the if Block \")"
   ]
  },
  {
   "cell_type": "markdown",
   "id": "ab590686-a239-4649-9a47-795efb881bbd",
   "metadata": {},
   "source": [
    "# Variables"
   ]
  },
  {
   "cell_type": "markdown",
   "id": "abcb2894-45d8-4920-abca-ce19559661b6",
   "metadata": {},
   "source": [
    "### Variables are fundamental elements in programming used to store data that can be referenced and manipulated in a program. In python, variables are created when you assign a value to them and they do not need explict declaration to reserve memory space . The declaration happens automatically when you assign a value to a variable."
   ]
  },
  {
   "cell_type": "code",
   "execution_count": 18,
   "id": "a0e739a4-f970-49ad-84cf-ab092156670a",
   "metadata": {},
   "outputs": [],
   "source": [
    "a=100\n",
    "# a is to variable \n"
   ]
  },
  {
   "cell_type": "code",
   "execution_count": 19,
   "id": "0c0f36b3-3091-4c74-ae75-ecd9614c2fee",
   "metadata": {},
   "outputs": [
    {
     "name": "stdout",
     "output_type": "stream",
     "text": [
      "age : 32\n",
      "Height :  6.1\n",
      "name :  madhav\n",
      "is_student :  True\n"
     ]
    }
   ],
   "source": [
    "## Declaring and Assinging Variables\n",
    "age=32 \n",
    "height=6.1\n",
    "name='madhav'\n",
    "is_student=True\n",
    "\n",
    "print('age :',age)\n",
    "print('Height : ' , height)\n",
    "print('name : ', name)\n",
    "print('is_student : ',is_student)"
   ]
  },
  {
   "cell_type": "code",
   "execution_count": 20,
   "id": "f082f76b-2ec1-465d-b313-40e305b4e0cb",
   "metadata": {},
   "outputs": [],
   "source": [
    "## Naming Conventions\n",
    "## Variable names should be descriptive \n",
    "## They must start with a letter or an '_' and contain letter, number and underscores\n",
    "## Variables name case sensitive\n",
    "\n",
    "## Valid Variable names\n",
    "first_name='madhav'\n",
    "last_name='kumar'\n"
   ]
  },
  {
   "cell_type": "code",
   "execution_count": 21,
   "id": "19bd3b71-9522-4c3e-a1a1-2b0062185233",
   "metadata": {},
   "outputs": [],
   "source": [
    "## Invalid variable names \n",
    "# 2age=90\n",
    "# first-name='madhav'\n",
    "## @name='madhav'\n"
   ]
  },
  {
   "cell_type": "code",
   "execution_count": 22,
   "id": "56de3d94-35c4-42be-bb07-44c92e44885c",
   "metadata": {},
   "outputs": [
    {
     "data": {
      "text/plain": [
       "False"
      ]
     },
     "execution_count": 22,
     "metadata": {},
     "output_type": "execute_result"
    }
   ],
   "source": [
    "name='madhave'\n",
    "Name='madhav'\n",
    "\n",
    "name==Name"
   ]
  },
  {
   "cell_type": "code",
   "execution_count": 23,
   "id": "2acebef4-4b3f-4bab-9ee4-26dbd54fd4ce",
   "metadata": {},
   "outputs": [
    {
     "name": "stdout",
     "output_type": "stream",
     "text": [
      "<class 'str'>\n",
      "<class 'float'>\n",
      "<class 'bool'>\n"
     ]
    }
   ],
   "source": [
    "## Understndaing Variable types \n",
    "## python id dynamically typed type of a variable is determined at runtime\n",
    "age=25 # int\n",
    "height=5.1 # float\n",
    "is_student=True #boolean\n",
    "\n",
    "print(type(name))\n",
    "print(type(height))\n",
    "print(type(is_student))\n"
   ]
  },
  {
   "cell_type": "code",
   "execution_count": 26,
   "id": "63c81e13-49db-46ff-99a9-bff27db95e03",
   "metadata": {},
   "outputs": [
    {
     "name": "stdout",
     "output_type": "stream",
     "text": [
      "<class 'int'>\n",
      "<class 'str'>\n"
     ]
    }
   ],
   "source": [
    "## Type checking and conversion \n",
    "type(height)\n",
    "age=35\n",
    "age_str=str(age)\n",
    "print(type(age))\n",
    "print(type(age_str))\n"
   ]
  },
  {
   "cell_type": "code",
   "execution_count": 27,
   "id": "2173f8ee-5515-4ea9-a5d5-6bf684b97ee0",
   "metadata": {},
   "outputs": [
    {
     "name": "stdout",
     "output_type": "stream",
     "text": [
      "<class 'float'>\n",
      "<class 'int'>\n"
     ]
    }
   ],
   "source": [
    "height=8.99\n",
    "print(type(height))\n",
    "height=int(height)\n",
    "print(type(height))"
   ]
  },
  {
   "cell_type": "code",
   "execution_count": 30,
   "id": "d5edbc7d-875a-4885-924b-f7966960d6c5",
   "metadata": {},
   "outputs": [
    {
     "name": "stdout",
     "output_type": "stream",
     "text": [
      "10 <class 'int'>\n",
      "hello <class 'str'>\n",
      "89.544 <class 'float'>\n"
     ]
    }
   ],
   "source": [
    "## Dynamic Typing \n",
    "## Python allows the type of a variable to change as the program eecutes\n",
    "\n",
    "\n",
    "var=10\n",
    "print(var,type(var))\n",
    "\n",
    "var = 'hello'\n",
    "print(var,type(var))\n",
    "\n",
    "var=89.544\n",
    "print(var,type(var))"
   ]
  },
  {
   "cell_type": "code",
   "execution_count": 32,
   "id": "4ee47af5-24d5-4e69-a1f4-30f7f015b8f6",
   "metadata": {},
   "outputs": [
    {
     "name": "stdin",
     "output_type": "stream",
     "text": [
      "WHat is the Age  23\n"
     ]
    },
    {
     "name": "stdout",
     "output_type": "stream",
     "text": [
      "23 <class 'str'>\n"
     ]
    },
    {
     "name": "stdin",
     "output_type": "stream",
     "text": [
      "WHat is the age :  32\n"
     ]
    },
    {
     "name": "stdout",
     "output_type": "stream",
     "text": [
      "32 <class 'int'>\n"
     ]
    }
   ],
   "source": [
    "## input\n",
    "age=input('WHat is the Age ' )\n",
    "print(age,type(age))\n",
    "\n",
    "age = int(input(\"WHat is the age : \"))\n",
    "print(age,type(age))"
   ]
  },
  {
   "cell_type": "code",
   "execution_count": 33,
   "id": "073e6b70-8d25-482d-a133-5aa0abbc99fb",
   "metadata": {},
   "outputs": [
    {
     "name": "stdin",
     "output_type": "stream",
     "text": [
      "Enter first number :  89\n",
      "Enter Second Number :  90\n"
     ]
    },
    {
     "name": "stdout",
     "output_type": "stream",
     "text": [
      "Sum :  179.0\n",
      "Divverence :  -1.0\n",
      "product :  8010.0\n",
      "quotient :  0.9888888888888889\n"
     ]
    }
   ],
   "source": [
    "## Simple Calculator \n",
    "num1=float(input(\"Enter first number : \"))\n",
    "num2=float(input(\"Enter Second Number : \"))\n",
    "\n",
    "sum = num1+num2\n",
    "difference=num1-num2\n",
    "product=num1 * num2\n",
    "quotient= num1 / num2\n",
    "\n",
    "print(\"Sum : \" , sum)\n",
    "print(\"Divverence : \" , difference)\n",
    "print('product : ', product)\n",
    "print('quotient : ', quotient)"
   ]
  },
  {
   "cell_type": "markdown",
   "id": "7630cda1-062c-4697-84f7-5ac0720fe309",
   "metadata": {},
   "source": [
    "# DataTypes"
   ]
  },
  {
   "cell_type": "markdown",
   "id": "ee78fe60-89d6-4e06-9583-2dad2ede9437",
   "metadata": {},
   "source": [
    "### 1. Definition:\n",
    "###   -> Datatypes are a classification of data which tell the compiler or interpreter how the programmer intends to use to data.\n",
    "\n",
    "### -> They determine the type of operations that can be performed on the data, the values that the data can take and the amount of memory need to store the data.\n",
    "\n"
   ]
  },
  {
   "cell_type": "markdown",
   "id": "4d1fc53b-75f2-4d68-b40a-5c4483e89acb",
   "metadata": {},
   "source": [
    "### Importance of Data Types in Programming \n",
    "### Explanation:\n",
    "### -> Datatypes ensure that is stored in a efficient way\n",
    "### -> Proper use of data types can prevent errors and bugs in the program. "
   ]
  },
  {
   "cell_type": "code",
   "execution_count": 34,
   "id": "6e496f95-944c-4a41-b44b-85084144c5ab",
   "metadata": {},
   "outputs": [
    {
     "name": "stdout",
     "output_type": "stream",
     "text": [
      "<class 'int'>\n"
     ]
    }
   ],
   "source": [
    "## Integers \n",
    "age=34\n",
    "print(type(age))"
   ]
  },
  {
   "cell_type": "code",
   "execution_count": 36,
   "id": "6d743689-ecd4-4d26-8a77-129a4ee257d5",
   "metadata": {},
   "outputs": [
    {
     "name": "stdout",
     "output_type": "stream",
     "text": [
      "5.11\n",
      "<class 'float'>\n"
     ]
    }
   ],
   "source": [
    "## Floating point datatype\n",
    "height=5.11\n",
    "print(height)\n",
    "print(type(height))"
   ]
  },
  {
   "cell_type": "code",
   "execution_count": 37,
   "id": "bf7af203-084a-4fd2-9a95-d1abf8df99bc",
   "metadata": {},
   "outputs": [
    {
     "name": "stdout",
     "output_type": "stream",
     "text": [
      "madhav\n",
      "<class 'str'>\n"
     ]
    }
   ],
   "source": [
    "## String Datatype example \n",
    "name='madhav'\n",
    "print(name)\n",
    "print(type(name))"
   ]
  },
  {
   "cell_type": "code",
   "execution_count": 38,
   "id": "0236b444-4332-40a4-b87a-75d08ec9139e",
   "metadata": {},
   "outputs": [
    {
     "name": "stdout",
     "output_type": "stream",
     "text": [
      "<class 'bool'>\n"
     ]
    }
   ],
   "source": [
    "## Boolean datatype\n",
    "True\n",
    "print(type(True))"
   ]
  },
  {
   "cell_type": "code",
   "execution_count": 39,
   "id": "61d35722-8ab2-438b-a69a-be50de95d91f",
   "metadata": {},
   "outputs": [
    {
     "name": "stdout",
     "output_type": "stream",
     "text": [
      "<class 'bool'>\n"
     ]
    }
   ],
   "source": [
    "is_true=bool()\n",
    "print(type(is_true))"
   ]
  },
  {
   "cell_type": "code",
   "execution_count": 41,
   "id": "8dc83b6a-8dce-4500-95cc-d7826af6218e",
   "metadata": {},
   "outputs": [
    {
     "name": "stdout",
     "output_type": "stream",
     "text": [
      "<class 'bool'>\n"
     ]
    }
   ],
   "source": [
    "a=10\n",
    "b=10\n",
    "print(type(a==b))"
   ]
  },
  {
   "cell_type": "code",
   "execution_count": 44,
   "id": "f156482d-58e6-4b91-b9b7-94839275157f",
   "metadata": {},
   "outputs": [
    {
     "name": "stdout",
     "output_type": "stream",
     "text": [
      "Hello5\n",
      "<class 'str'>\n"
     ]
    }
   ],
   "source": [
    "## Common Errors \n",
    "result='Hello' + str(5)\n",
    "print(result)\n",
    "print(type(result))"
   ]
  },
  {
   "cell_type": "markdown",
   "id": "a7ec8d8a-742d-4443-afdf-76b2943b53a6",
   "metadata": {},
   "source": [
    "# Operators"
   ]
  },
  {
   "cell_type": "code",
   "execution_count": 46,
   "id": "f657f46d-c741-45be-ab8e-5ed40278fb4c",
   "metadata": {},
   "outputs": [
    {
     "name": "stdout",
     "output_type": "stream",
     "text": [
      "25\n",
      "-5\n",
      "150\n",
      "0.6666666666666666\n",
      "0\n",
      "10\n",
      "1000000000000000\n"
     ]
    }
   ],
   "source": [
    "## Arithmetic Operation \n",
    "\n",
    "a=10\n",
    "b=15\n",
    "add=a+b  # Addition\n",
    "sub=a-b # Substraction \n",
    "mul=a*b # Multiplication \n",
    "div=a/b # Division\n",
    "floor_div_res=a//b # floor Division\n",
    "Modulus_res=a%b  # Modulus operation \n",
    "\n",
    "exponent_res=a**b # Exponentiation\n",
    "\n",
    "\n",
    "print(add)\n",
    "print(sub)\n",
    "print(mul)\n",
    "print(div)\n",
    "print(floor_div_res)\n",
    "print(Modulus_res)\n",
    "print(exponent_res)"
   ]
  },
  {
   "cell_type": "markdown",
   "id": "3737510b-8ffa-4ecc-85fc-9233b1700f12",
   "metadata": {},
   "source": [
    "## Comparison Operators"
   ]
  },
  {
   "cell_type": "markdown",
   "id": "006cdd87-9b77-4ab9-a3ef-a9e5ceb5babb",
   "metadata": {},
   "source": [
    "\n",
    "## == :- Equal to \n",
    "\n",
    "a=10 \n",
    "b=10\n",
    "\n",
    "a==b"
   ]
  },
  {
   "cell_type": "code",
   "execution_count": 48,
   "id": "cb329ccd-cac6-4328-aab7-4aa31b8f6df2",
   "metadata": {},
   "outputs": [
    {
     "data": {
      "text/plain": [
       "False"
      ]
     },
     "execution_count": 48,
     "metadata": {},
     "output_type": "execute_result"
    }
   ],
   "source": [
    "str1='madhav'\n",
    "str2='kumar'\n",
    "str1==str2"
   ]
  },
  {
   "cell_type": "code",
   "execution_count": 49,
   "id": "a3468ce3-6a11-46f9-bbda-6adba33c3dab",
   "metadata": {},
   "outputs": [
    {
     "data": {
      "text/plain": [
       "False"
      ]
     },
     "execution_count": 49,
     "metadata": {},
     "output_type": "execute_result"
    }
   ],
   "source": [
    "# Not equal to  !=\n",
    "a=10\n",
    "b=10\n",
    "a != b"
   ]
  },
  {
   "cell_type": "code",
   "execution_count": 50,
   "id": "d8ecb77b-ef10-421d-8e8a-044c51503ca3",
   "metadata": {},
   "outputs": [
    {
     "data": {
      "text/plain": [
       "False"
      ]
     },
     "execution_count": 50,
     "metadata": {},
     "output_type": "execute_result"
    }
   ],
   "source": [
    "# Greather then  (>)\n",
    "a=25\n",
    "b=34\n",
    "\n",
    "a>b"
   ]
  },
  {
   "cell_type": "code",
   "execution_count": 51,
   "id": "658ebebe-18b9-48ad-94bd-9f0346584079",
   "metadata": {},
   "outputs": [
    {
     "data": {
      "text/plain": [
       "True"
      ]
     },
     "execution_count": 51,
     "metadata": {},
     "output_type": "execute_result"
    }
   ],
   "source": [
    "# Less Then (<)\n",
    "a<b"
   ]
  },
  {
   "cell_type": "code",
   "execution_count": 54,
   "id": "d36dc737-d891-4727-b576-45d6782cd0a4",
   "metadata": {},
   "outputs": [
    {
     "data": {
      "text/plain": [
       "True"
      ]
     },
     "execution_count": 54,
     "metadata": {},
     "output_type": "execute_result"
    }
   ],
   "source": [
    "# Greater than or equal to (>=)\n",
    "n1=45\n",
    "n2=45\n",
    "n1>=n2"
   ]
  },
  {
   "cell_type": "code",
   "execution_count": 55,
   "id": "60b49ca5-4b88-4ff0-a087-67b555759f52",
   "metadata": {},
   "outputs": [
    {
     "data": {
      "text/plain": [
       "True"
      ]
     },
     "execution_count": 55,
     "metadata": {},
     "output_type": "execute_result"
    }
   ],
   "source": [
    "# Less than or equal to (<=)\n",
    "n1=34\n",
    "n2=45\n",
    "n1<=n2"
   ]
  },
  {
   "cell_type": "markdown",
   "id": "566eaa10-e653-478a-a1c2-70e4cad7d819",
   "metadata": {},
   "source": [
    "## Logical Operators "
   ]
  },
  {
   "cell_type": "code",
   "execution_count": 57,
   "id": "50e09e3e-8873-4b5e-982e-8afeb1ca452c",
   "metadata": {},
   "outputs": [
    {
     "name": "stdout",
     "output_type": "stream",
     "text": [
      "True\n"
     ]
    }
   ],
   "source": [
    "## AND \n",
    "\n",
    "x=True\n",
    "y=True\n",
    "result= x and y\n",
    "print(result)"
   ]
  },
  {
   "cell_type": "code",
   "execution_count": 59,
   "id": "b85af83b-2719-4888-ae25-c653d56f272f",
   "metadata": {},
   "outputs": [
    {
     "name": "stdout",
     "output_type": "stream",
     "text": [
      "False\n"
     ]
    }
   ],
   "source": [
    "x=True\n",
    "y=False\n",
    "result= x and y\n",
    "print(result)"
   ]
  },
  {
   "cell_type": "code",
   "execution_count": 58,
   "id": "fe99d752-0b74-4b50-a171-6f948b70161a",
   "metadata": {},
   "outputs": [
    {
     "name": "stdout",
     "output_type": "stream",
     "text": [
      "True\n"
     ]
    }
   ],
   "source": [
    "## OR\n",
    "x=True\n",
    "y=True\n",
    "result= x or y\n",
    "print(result)"
   ]
  },
  {
   "cell_type": "code",
   "execution_count": 60,
   "id": "e7862984-5a0d-4923-bcd4-c0a6420f989b",
   "metadata": {},
   "outputs": [
    {
     "name": "stdout",
     "output_type": "stream",
     "text": [
      "True\n"
     ]
    }
   ],
   "source": [
    "x=True\n",
    "y=False\n",
    "result= x or y\n",
    "print(result)"
   ]
  },
  {
   "cell_type": "code",
   "execution_count": 61,
   "id": "784b863b-c3f9-466c-9884-a4da2ad90261",
   "metadata": {},
   "outputs": [
    {
     "data": {
      "text/plain": [
       "True"
      ]
     },
     "execution_count": 61,
     "metadata": {},
     "output_type": "execute_result"
    }
   ],
   "source": [
    "## NOT\n",
    "x=False # Reverse of this \n",
    "not x"
   ]
  },
  {
   "cell_type": "code",
   "execution_count": 62,
   "id": "cd3374fa-3897-42a2-a49d-d328ce0e2fe3",
   "metadata": {},
   "outputs": [
    {
     "data": {
      "text/plain": [
       "False"
      ]
     },
     "execution_count": 62,
     "metadata": {},
     "output_type": "execute_result"
    }
   ],
   "source": [
    "x=True\n",
    "not x"
   ]
  },
  {
   "cell_type": "code",
   "execution_count": null,
   "id": "12baa827-0c5a-45a5-8b11-05b1334530ad",
   "metadata": {},
   "outputs": [],
   "source": []
  }
 ],
 "metadata": {
  "kernelspec": {
   "display_name": "Python 3 (ipykernel)",
   "language": "python",
   "name": "python3"
  },
  "language_info": {
   "codemirror_mode": {
    "name": "ipython",
    "version": 3
   },
   "file_extension": ".py",
   "mimetype": "text/x-python",
   "name": "python",
   "nbconvert_exporter": "python",
   "pygments_lexer": "ipython3",
   "version": "3.13.7"
  },
  "widgets": {
   "application/vnd.jupyter.widget-state+json": {
    "state": {},
    "version_major": 2,
    "version_minor": 0
   }
  }
 },
 "nbformat": 4,
 "nbformat_minor": 5
}
