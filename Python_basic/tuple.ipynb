{
 "cells": [
  {
   "cell_type": "markdown",
   "id": "4fea3dd9-4106-425d-8733-96d690b8611f",
   "metadata": {},
   "source": [
    "## Introduction to Tuples\n",
    "\n",
    "Explanation:\n",
    "    Tuples are ordered collections of items that are immutable. They are similar to lists, but their immutability makes them different."
   ]
  },
  {
   "cell_type": "code",
   "execution_count": 2,
   "id": "18576a9e-da3b-4038-9289-131359256df3",
   "metadata": {},
   "outputs": [
    {
     "name": "stdout",
     "output_type": "stream",
     "text": [
      "()\n",
      "<class 'tuple'>\n"
     ]
    }
   ],
   "source": [
    "## Createing a tuple \n",
    "\n",
    "empty_tuple=()\n",
    "print(empty_tuple)\n",
    "print(type(empty_tuple))"
   ]
  },
  {
   "cell_type": "code",
   "execution_count": 3,
   "id": "441ef61a-7d02-4162-8f34-6d1ef77b6275",
   "metadata": {},
   "outputs": [
    {
     "name": "stdout",
     "output_type": "stream",
     "text": [
      "<class 'tuple'> ()\n",
      "<class 'list'> []\n"
     ]
    }
   ],
   "source": [
    "lst=list()\n",
    "tup=tuple()\n",
    "print(type(tup),tup)\n",
    "print(type(lst),lst)"
   ]
  },
  {
   "cell_type": "code",
   "execution_count": 4,
   "id": "220cf78e-6260-4e18-8648-c9de01fca016",
   "metadata": {},
   "outputs": [
    {
     "data": {
      "text/plain": [
       "(1, 2, 3, 4, 5)"
      ]
     },
     "execution_count": 4,
     "metadata": {},
     "output_type": "execute_result"
    }
   ],
   "source": [
    "numbers=tuple([1,2,3,4,5])\n",
    "numbers"
   ]
  },
  {
   "cell_type": "code",
   "execution_count": 5,
   "id": "cd69f771-c2a6-4471-b836-5eab0f07686b",
   "metadata": {},
   "outputs": [
    {
     "data": {
      "text/plain": [
       "[1, 2, 3, 4, 5]"
      ]
     },
     "execution_count": 5,
     "metadata": {},
     "output_type": "execute_result"
    }
   ],
   "source": [
    "list((1,2,3,4,5))"
   ]
  },
  {
   "cell_type": "code",
   "execution_count": 6,
   "id": "4fc5c41d-ad66-4ba2-8956-1003d3cf3536",
   "metadata": {},
   "outputs": [
    {
     "name": "stdout",
     "output_type": "stream",
     "text": [
      "('hello', 23.533, 938)\n"
     ]
    }
   ],
   "source": [
    "mixed_tuple=('hello',23.533,938)\n",
    "print(mixed_tuple)"
   ]
  },
  {
   "cell_type": "code",
   "execution_count": 7,
   "id": "0e5a8ca2-686d-4875-91f4-b7610b4603fa",
   "metadata": {},
   "outputs": [
    {
     "data": {
      "text/plain": [
       "(1, 2, 3, 4, 5)"
      ]
     },
     "execution_count": 7,
     "metadata": {},
     "output_type": "execute_result"
    }
   ],
   "source": [
    "## Accessing Tuple Elements \n",
    "numbers"
   ]
  },
  {
   "cell_type": "code",
   "execution_count": 8,
   "id": "9b18b061-83b7-489c-8892-61eac37dc848",
   "metadata": {},
   "outputs": [
    {
     "data": {
      "text/plain": [
       "1"
      ]
     },
     "execution_count": 8,
     "metadata": {},
     "output_type": "execute_result"
    }
   ],
   "source": [
    "numbers[0]"
   ]
  },
  {
   "cell_type": "code",
   "execution_count": 9,
   "id": "bd5057b8-e3d9-4da9-a0da-5e1f67e2a17d",
   "metadata": {},
   "outputs": [
    {
     "data": {
      "text/plain": [
       "3"
      ]
     },
     "execution_count": 9,
     "metadata": {},
     "output_type": "execute_result"
    }
   ],
   "source": [
    "numbers[2]"
   ]
  },
  {
   "cell_type": "code",
   "execution_count": 10,
   "id": "64487182-e99e-4cf4-86bb-fafe8742a56f",
   "metadata": {},
   "outputs": [
    {
     "name": "stdout",
     "output_type": "stream",
     "text": [
      "2\n",
      "5\n"
     ]
    }
   ],
   "source": [
    "print(numbers[1])\n",
    "print(numbers[-1])"
   ]
  },
  {
   "cell_type": "code",
   "execution_count": 11,
   "id": "1005191f-34cd-4283-8786-e02f1242dfc4",
   "metadata": {},
   "outputs": [
    {
     "data": {
      "text/plain": [
       "(1, 2, 3, 4)"
      ]
     },
     "execution_count": 11,
     "metadata": {},
     "output_type": "execute_result"
    }
   ],
   "source": [
    "numbers[0:4]"
   ]
  },
  {
   "cell_type": "code",
   "execution_count": 12,
   "id": "b2c95117-8126-472d-8994-0ac68b15a1bd",
   "metadata": {},
   "outputs": [
    {
     "data": {
      "text/plain": [
       "(5, 4, 3, 2, 1)"
      ]
     },
     "execution_count": 12,
     "metadata": {},
     "output_type": "execute_result"
    }
   ],
   "source": [
    "numbers[::-1]"
   ]
  },
  {
   "cell_type": "code",
   "execution_count": 13,
   "id": "18ebd15f-1e95-4a5d-ae72-bab82b660ac8",
   "metadata": {},
   "outputs": [
    {
     "name": "stdout",
     "output_type": "stream",
     "text": [
      "(1, 2, 3, 4, 5, 'hello', 23.533, 938)\n",
      "<class 'tuple'>\n"
     ]
    }
   ],
   "source": [
    "## Tuple Operations \n",
    "\n",
    "concatenation_tup= numbers + mixed_tuple\n",
    "print(concatenation_tup)\n",
    "print(type(concatenation_tup))"
   ]
  },
  {
   "cell_type": "code",
   "execution_count": 14,
   "id": "55b24794-59ed-4a15-b9e2-2648081ad541",
   "metadata": {},
   "outputs": [
    {
     "data": {
      "text/plain": [
       "('hello', 23.533, 938, 'hello', 23.533, 938, 'hello', 23.533, 938)"
      ]
     },
     "execution_count": 14,
     "metadata": {},
     "output_type": "execute_result"
    }
   ],
   "source": [
    "mixed_tuple *3"
   ]
  },
  {
   "cell_type": "code",
   "execution_count": 15,
   "id": "a496e9e4-d94f-4cf0-9531-4264d5862ed1",
   "metadata": {},
   "outputs": [
    {
     "data": {
      "text/plain": [
       "(1, 2, 3, 4, 5, 1, 2, 3, 4, 5, 1, 2, 3, 4, 5, 1, 2, 3, 4, 5, 1, 2, 3, 4, 5)"
      ]
     },
     "execution_count": 15,
     "metadata": {},
     "output_type": "execute_result"
    }
   ],
   "source": [
    "numbers *5"
   ]
  },
  {
   "cell_type": "code",
   "execution_count": 19,
   "id": "08502820-5e14-4c18-aa1b-72d292143e64",
   "metadata": {},
   "outputs": [
    {
     "name": "stdout",
     "output_type": "stream",
     "text": [
      "[1, 2, 3, 4, 5]\n",
      "[1, 'Madhav', 3, 4, 5]\n"
     ]
    }
   ],
   "source": [
    "## Immutable Nature Of Tuples\n",
    "\n",
    "## Tuples are immutables meaning their elements cannot be change once assigned.\n",
    "\n",
    "\n",
    "lst=[1,2,3,4,5]\n",
    "print(lst)\n",
    "\n",
    "lst[1]='Madhav'\n",
    "print(lst)"
   ]
  },
  {
   "cell_type": "code",
   "execution_count": 21,
   "id": "def6f957-ed69-4d21-9fe5-48d17aefc548",
   "metadata": {},
   "outputs": [
    {
     "ename": "TypeError",
     "evalue": "'tuple' object does not support item assignment",
     "output_type": "error",
     "traceback": [
      "\u001b[31m---------------------------------------------------------------------------\u001b[39m",
      "\u001b[31mTypeError\u001b[39m                                 Traceback (most recent call last)",
      "\u001b[36mCell\u001b[39m\u001b[36m \u001b[39m\u001b[32mIn[21]\u001b[39m\u001b[32m, line 1\u001b[39m\n\u001b[32m----> \u001b[39m\u001b[32m1\u001b[39m \u001b[43mnumbers\u001b[49m\u001b[43m[\u001b[49m\u001b[32;43m1\u001b[39;49m\u001b[43m]\u001b[49m=\u001b[33m'\u001b[39m\u001b[33mmadhav\u001b[39m\u001b[33m'\u001b[39m\n",
      "\u001b[31mTypeError\u001b[39m: 'tuple' object does not support item assignment"
     ]
    }
   ],
   "source": [
    "numbers[1]='madhav'"
   ]
  },
  {
   "cell_type": "code",
   "execution_count": 23,
   "id": "03934536-2ded-4d88-aa41-02784b7795a7",
   "metadata": {},
   "outputs": [
    {
     "name": "stdout",
     "output_type": "stream",
     "text": [
      "(1, 2, 3, 4, 5)\n",
      "1\n"
     ]
    }
   ],
   "source": [
    "# Tuple Methods \n",
    "print(numbers)\n",
    "print(numbers.count(1))"
   ]
  },
  {
   "cell_type": "code",
   "execution_count": 24,
   "id": "9f2ee8ff-dcb9-4d19-b2ba-ecbf33d78a60",
   "metadata": {},
   "outputs": [
    {
     "name": "stdout",
     "output_type": "stream",
     "text": [
      "2\n",
      "(1, 2, 3, 4, 5)\n"
     ]
    }
   ],
   "source": [
    "# Tuple method\n",
    "print(numbers.index(3))\n",
    "print(numbers)"
   ]
  },
  {
   "cell_type": "code",
   "execution_count": 25,
   "id": "693136f6-accb-48aa-994a-474aeca2a2f6",
   "metadata": {},
   "outputs": [
    {
     "name": "stdout",
     "output_type": "stream",
     "text": [
      "('Hello', 1, 64.243)\n"
     ]
    }
   ],
   "source": [
    "## Packing and Unpacking tuple \n",
    "# Packing\n",
    "packed_tuple='Hello',1,64.243\n",
    "print(packed_tuple)"
   ]
  },
  {
   "cell_type": "code",
   "execution_count": 26,
   "id": "2dbe9be2-a936-46ec-aab5-3d614cb3017e",
   "metadata": {},
   "outputs": [
    {
     "name": "stdout",
     "output_type": "stream",
     "text": [
      "Hello\n",
      "1\n",
      "64.243\n"
     ]
    }
   ],
   "source": [
    "## Unpacking a tuple \n",
    "\n",
    "a,b ,c =packed_tuple\n",
    "\n",
    "print(a)\n",
    "print(b)\n",
    "print(c)"
   ]
  },
  {
   "cell_type": "code",
   "execution_count": 29,
   "id": "9033838c-1dcd-4d86-9bb4-b9f44606fc30",
   "metadata": {},
   "outputs": [
    {
     "name": "stdout",
     "output_type": "stream",
     "text": [
      "1\n",
      "[2, 3, 4]\n",
      "5\n"
     ]
    }
   ],
   "source": [
    "## Unpacking with * \n",
    "numpers=(1,2,3,4,5,6)\n",
    "first,*middle,last=numbers\n",
    "print(first) # Take the first element \n",
    "print(middle) # without include the first and last . ALl are include \n",
    "print(last) # Take the Last Element \n"
   ]
  },
  {
   "cell_type": "code",
   "execution_count": 1,
   "id": "8e82a951-eaa4-4038-a4b0-49b6df5a5ea4",
   "metadata": {},
   "outputs": [
    {
     "name": "stdout",
     "output_type": "stream",
     "text": [
      "[[1, 2, 3, 4], ['madhav', 'kumar'], [90.34], ['m']]\n",
      "<class 'list'>\n",
      "[1, 2, 3]\n",
      "((1, 2, 3), ('ma', 'dh', 'av'), (9.9, 8.34, 83.53))\n",
      "<class 'tuple'>\n",
      "(1, 2)\n"
     ]
    }
   ],
   "source": [
    "## Nested tuple\n",
    "# Nested List \n",
    "lst=[[1,2,3,4],['madhav','kumar'],[90.34],['m']]\n",
    "\n",
    "print(lst)\n",
    "print(type(lst))\n",
    "print(lst[0][0:3])\n",
    "\n"
   ]
  },
  {
   "cell_type": "code",
   "execution_count": 3,
   "id": "5455ff33-e53d-4eed-b080-2544eb3dc6fb",
   "metadata": {},
   "outputs": [
    {
     "name": "stdout",
     "output_type": "stream",
     "text": [
      "((1, 2, 3), ('ma', 'dh', 'av'), (9.9, 8.34, 83.53))\n",
      "<class 'tuple'>\n",
      "(9.9, 8.34)\n"
     ]
    }
   ],
   "source": [
    "# nested Tuple \n",
    "tup1=((1,2,3),('ma','dh','av'),(9.90,8.34,83.53))\n",
    "\n",
    "print(tup1)\n",
    "\n",
    "print(type(tup1))\n",
    "print(tup1[2][0:2])"
   ]
  },
  {
   "cell_type": "code",
   "execution_count": 4,
   "id": "6aa510ea-ce7a-4871-83f1-3a2f08446160",
   "metadata": {},
   "outputs": [
    {
     "name": "stdout",
     "output_type": "stream",
     "text": [
      "1 2 3 \n",
      "ma dh av \n",
      "9.9 8.34 83.53 \n"
     ]
    }
   ],
   "source": [
    "## iterating over nested tuples\n",
    "\n",
    "for sub_tuple in tup1:\n",
    "    for item in sub_tuple:\n",
    "        print(item,end=\" \")\n",
    "    print()"
   ]
  },
  {
   "cell_type": "markdown",
   "id": "5a52176f-fa4d-4ad0-ad95-5699eed80e2f",
   "metadata": {},
   "source": [
    "### Conclusion \n",
    "Tuples are versatile and useful in many real-world scenarios where an immutable and ordered collection of item is required . They ar3e commonly used in data structures, function arguments and return value and as dictonary keys. Understanding how to leverage tuples effectively  can imporve the efficiency and readability of your python code"
   ]
  },
  {
   "cell_type": "code",
   "execution_count": null,
   "id": "7fe71d63-d2ac-4526-b16c-a6d2416a0598",
   "metadata": {},
   "outputs": [],
   "source": []
  }
 ],
 "metadata": {
  "kernelspec": {
   "display_name": "Python 3 (ipykernel)",
   "language": "python",
   "name": "python3"
  },
  "language_info": {
   "codemirror_mode": {
    "name": "ipython",
    "version": 3
   },
   "file_extension": ".py",
   "mimetype": "text/x-python",
   "name": "python",
   "nbconvert_exporter": "python",
   "pygments_lexer": "ipython3",
   "version": "3.13.7"
  },
  "widgets": {
   "application/vnd.jupyter.widget-state+json": {
    "state": {},
    "version_major": 2,
    "version_minor": 0
   }
  }
 },
 "nbformat": 4,
 "nbformat_minor": 5
}
