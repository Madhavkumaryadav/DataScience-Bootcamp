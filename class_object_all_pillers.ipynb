{
 "cells": [
  {
   "cell_type": "markdown",
   "id": "2f0cb9f9-1ec3-45bf-9d87-3e25ae4a7cfd",
   "metadata": {},
   "source": [
    "## Classes and Objects \n",
    "\n",
    "Object-Oriented Programming (OOPs) is a programming paradigm that uses \"objects\" to design applications and computer programs OOP allows for modeling real_world scenarios using classes and objects. This lesson covers the basics of creating classes and objects"
   ]
  },
  {
   "cell_type": "code",
   "execution_count": 2,
   "id": "e83452cb-5d12-4c12-8d4f-fda67042d26c",
   "metadata": {},
   "outputs": [
    {
     "name": "stdout",
     "output_type": "stream",
     "text": [
      "<class '__main__.Car'>\n"
     ]
    }
   ],
   "source": [
    "## A class is a blue print for createing objects. Attributes , methods \n",
    "\n",
    "class Car:\n",
    "    pass\n",
    "adui=Car()\n",
    "bmw=Car()\n",
    "print(type(adui))"
   ]
  },
  {
   "cell_type": "code",
   "execution_count": 3,
   "id": "7c6ca04d-01e1-42e7-9c0d-810d684ee2ca",
   "metadata": {},
   "outputs": [
    {
     "name": "stdout",
     "output_type": "stream",
     "text": [
      "<__main__.Car object at 0x00000204AC36D400>\n",
      "<__main__.Car object at 0x00000204AC8FC550>\n"
     ]
    }
   ],
   "source": [
    "print(adui)\n",
    "print(bmw)"
   ]
  },
  {
   "cell_type": "code",
   "execution_count": 4,
   "id": "5a51e726-cee6-4f1a-a09d-6499104fbb8e",
   "metadata": {},
   "outputs": [
    {
     "name": "stdout",
     "output_type": "stream",
     "text": [
      "4\n"
     ]
    }
   ],
   "source": [
    "adui.windows=4\n",
    "print(adui.windows)"
   ]
  },
  {
   "cell_type": "code",
   "execution_count": 6,
   "id": "69e5c520-f124-4f13-b13f-078f0e4b3399",
   "metadata": {},
   "outputs": [
    {
     "name": "stdout",
     "output_type": "stream",
     "text": [
      "4\n"
     ]
    }
   ],
   "source": [
    "tata=Car()\n",
    "tata.doors=4\n",
    "print(tata.doors)"
   ]
  },
  {
   "cell_type": "code",
   "execution_count": 7,
   "id": "70903a90-f871-47f8-9a6a-0cfebc4c1ab0",
   "metadata": {},
   "outputs": [
    {
     "data": {
      "text/plain": [
       "['__class__',\n",
       " '__delattr__',\n",
       " '__dict__',\n",
       " '__dir__',\n",
       " '__doc__',\n",
       " '__eq__',\n",
       " '__firstlineno__',\n",
       " '__format__',\n",
       " '__ge__',\n",
       " '__getattribute__',\n",
       " '__getstate__',\n",
       " '__gt__',\n",
       " '__hash__',\n",
       " '__init__',\n",
       " '__init_subclass__',\n",
       " '__le__',\n",
       " '__lt__',\n",
       " '__module__',\n",
       " '__ne__',\n",
       " '__new__',\n",
       " '__reduce__',\n",
       " '__reduce_ex__',\n",
       " '__repr__',\n",
       " '__setattr__',\n",
       " '__sizeof__',\n",
       " '__static_attributes__',\n",
       " '__str__',\n",
       " '__subclasshook__',\n",
       " '__weakref__',\n",
       " 'doors']"
      ]
     },
     "execution_count": 7,
     "metadata": {},
     "output_type": "execute_result"
    }
   ],
   "source": [
    "dir(tata)"
   ]
  },
  {
   "cell_type": "code",
   "execution_count": 6,
   "id": "9715c7db-de13-4ea7-8ea5-6a26d5b5c2e4",
   "metadata": {},
   "outputs": [
    {
     "name": "stdout",
     "output_type": "stream",
     "text": [
      "<__main__.Dog object at 0x0000023F7ABD57F0>\n",
      "Buddy\n",
      "3\n"
     ]
    }
   ],
   "source": [
    "## Instance Variable and methods\n",
    "class Dog:\n",
    "    ## Constructor\n",
    "    def __init__(self,name,age):\n",
    "        self.name=name\n",
    "        self.age=age\n",
    "    \n",
    "## Create Objects\n",
    "dog1=Dog('Buddy',3)\n",
    "print(dog1)\n",
    "print(dog1.name)\n",
    "print(dog1.age)\n",
    "        "
   ]
  },
  {
   "cell_type": "code",
   "execution_count": 7,
   "id": "ed5c4f04",
   "metadata": {},
   "outputs": [
    {
     "name": "stdout",
     "output_type": "stream",
     "text": [
      "lucy\n",
      "4\n"
     ]
    }
   ],
   "source": [
    "dog2=Dog('lucy',4)\n",
    "print(dog2.name)\n",
    "print(dog2.age)"
   ]
  },
  {
   "cell_type": "code",
   "execution_count": 9,
   "id": "234c38da",
   "metadata": {},
   "outputs": [
    {
     "name": "stdout",
     "output_type": "stream",
     "text": [
      "buddy, says woof\n",
      "lucy, says woof\n"
     ]
    }
   ],
   "source": [
    "## Define a class with instance methods \n",
    "\n",
    "class Dog:\n",
    "    def __init__(self,name,age):\n",
    "        self.name=name\n",
    "        self.age=age\n",
    "    \n",
    "    def brak(self):\n",
    "        print(f'{self.name}, says woof')\n",
    "    \n",
    "dog1=Dog('buddy',3)\n",
    "dog1.brak()\n",
    "\n",
    "dog2 = Dog('lucy',4)\n",
    "dog2.brak()"
   ]
  },
  {
   "cell_type": "code",
   "execution_count": 11,
   "id": "0ef32119",
   "metadata": {},
   "outputs": [
    {
     "name": "stdout",
     "output_type": "stream",
     "text": [
      "5000\n"
     ]
    }
   ],
   "source": [
    "## Modeling a Bank Account \n",
    "\n",
    "## Define a class for bank account \n",
    "\n",
    "class BankAccount:\n",
    "    def __init__(self,owner,balance=0):\n",
    "        self.owner=owner\n",
    "        self.balance=balance\n",
    "    def deposite(self,amount):\n",
    "        self.balance += amount\n",
    "        print(f'{amount} is deposited . new balance is {self.balance}')\n",
    "    \n",
    "    def withdraw(self,amount):\n",
    "        if amount > self.balance:\n",
    "            print('Insufficient funds!')\n",
    "        else:\n",
    "            self.balance -= amount\n",
    "            print(f'{amount} is withdrawn . New balance is {self.balance}')\n",
    "            \n",
    "    \n",
    "## Create an account \n",
    "account=BankAccount('madhav',5000)\n",
    "print(account.balance)\n",
    "        "
   ]
  },
  {
   "cell_type": "code",
   "execution_count": 16,
   "id": "a21f8fcd",
   "metadata": {},
   "outputs": [
    {
     "name": "stdout",
     "output_type": "stream",
     "text": [
      "39009 is deposited . new balance is 43955\n"
     ]
    }
   ],
   "source": [
    "## Call Instance Methods\n",
    "account.deposite(39009)\n"
   ]
  },
  {
   "cell_type": "code",
   "execution_count": 17,
   "id": "784265a7",
   "metadata": {},
   "outputs": [
    {
     "name": "stdout",
     "output_type": "stream",
     "text": [
      "453 is withdrawn . New balance is 43502\n"
     ]
    }
   ],
   "source": [
    "account.withdraw(453)"
   ]
  },
  {
   "cell_type": "code",
   "execution_count": 18,
   "id": "55260b89",
   "metadata": {},
   "outputs": [
    {
     "name": "stdout",
     "output_type": "stream",
     "text": [
      "9000 is withdrawn . New balance is 34502\n"
     ]
    }
   ],
   "source": [
    "account.withdraw(9000)"
   ]
  },
  {
   "cell_type": "markdown",
   "id": "a524635f",
   "metadata": {},
   "source": [
    "### Cfonclusion \n",
    "Object-Oriented Programming (OOp) allows you to model real-world scenarios using classes and objects. In this lesson , you learned how to create classes and objects, define instance variables and methods, and use them to perform various operations. Understanding these concepts is fundamental to writing effective and maintainable python code"
   ]
  },
  {
   "cell_type": "markdown",
   "id": "166484fd",
   "metadata": {},
   "source": [
    "### Inheritance In Python \n",
    "Inheritance is a fundamental concept in object-Oriented Programming (OOP)\n",
    "that allows a class to inherit attributes and mehthod from another class. This lesson convers single inheritance and multiple inheritance demostrating how to create and use then in Python"
   ]
  },
  {
   "cell_type": "code",
   "execution_count": 2,
   "id": "073dc774",
   "metadata": {},
   "outputs": [],
   "source": [
    "## Inheritance \n",
    "## Parent class\n",
    "class Car:\n",
    "    def __init__(self,windows,doors,engine):\n",
    "        self.windows=windows \n",
    "        self.doors=doors\n",
    "        self.engine=engine\n",
    "    \n",
    "    def drive(self):\n",
    "        print(f'The person will drive the {self.engine} car ')\n",
    "        "
   ]
  },
  {
   "cell_type": "code",
   "execution_count": 3,
   "id": "af7460f3",
   "metadata": {},
   "outputs": [],
   "source": [
    "car1=Car(4,5,'petrol')"
   ]
  },
  {
   "cell_type": "code",
   "execution_count": 4,
   "id": "d31eddd2",
   "metadata": {},
   "outputs": [
    {
     "name": "stdout",
     "output_type": "stream",
     "text": [
      "The person will drive the petrol car \n"
     ]
    }
   ],
   "source": [
    "car1.drive()"
   ]
  },
  {
   "cell_type": "code",
   "execution_count": 11,
   "id": "cc12e988",
   "metadata": {},
   "outputs": [],
   "source": [
    "class Tesla(Car):\n",
    "    def __init__(self,windows,doors,enginetype,selfdriving):\n",
    "        super().__init__(windows,doors,enginetype)\n",
    "        self.selfdriving=selfdriving\n",
    "        \n",
    "    def selfdrive(self):\n",
    "        print(f'Tesla supports self driving {self.selfdriving} ')"
   ]
  },
  {
   "cell_type": "code",
   "execution_count": 12,
   "id": "150ccdc0",
   "metadata": {},
   "outputs": [
    {
     "name": "stdout",
     "output_type": "stream",
     "text": [
      "Tesla supports self driving True \n"
     ]
    }
   ],
   "source": [
    "tesla1=Tesla(4,5,'electric',True)\n",
    "tesla1.__init__(4,5,'electric',True)\n",
    "tesla1.selfdrive()"
   ]
  },
  {
   "cell_type": "code",
   "execution_count": 17,
   "id": "d138fd9d",
   "metadata": {},
   "outputs": [
    {
     "name": "stdout",
     "output_type": "stream",
     "text": [
      "madhav say woof\n"
     ]
    }
   ],
   "source": [
    "\n",
    "## Multiple Inheritance \n",
    "## When a class inherits from more than one base class.\n",
    "\n",
    "# base class 2\n",
    "class Animal:\n",
    "    def __init__(self,name):\n",
    "        self.name=name\n",
    "    \n",
    "    def speak(self):\n",
    "        print(\"Subclass must implement this method\")\n",
    "        \n",
    "        \n",
    "# base class 2\n",
    "class Pet:\n",
    "    def __init__(self,owner):\n",
    "        self.name=owner\n",
    "    \n",
    "\n",
    "## Drived class \n",
    "class Dog(Animal,Pet):\n",
    "    def __init__(self,name,owner):\n",
    "        Animal.__init__(self,name)\n",
    "        Pet.__init__(self,owner)\n",
    "    \n",
    "    def speak(self):\n",
    "        return f\"{self.name} say woof\"\n",
    "    \n",
    "\n",
    "\n",
    "#create an object \n",
    "dog2=Dog('Buddy','Madhav') \n",
    "dog2.__init__('buddy','madhav')\n",
    "print(dog2.speak())      "
   ]
  },
  {
   "cell_type": "markdown",
   "id": "0e810d1c",
   "metadata": {},
   "source": [
    "## Polymorphism\n",
    "\n",
    "Ploymorphism is a core concept in Object-Oridnted Programming (OOP) that allows objects of different classes to be treated as objects of a common superclass. It Provides a way to perform a single action in different forms.\n",
    "Polymorphism is typically achieved through method overriding and interfaces "
   ]
  },
  {
   "cell_type": "markdown",
   "id": "db019d58",
   "metadata": {},
   "source": [
    "### Meghod Overriding \n",
    "\n",
    "Method Overriding allows a child class to provide a specific implementation of a method that is already defined in its parent class.\n"
   ]
  },
  {
   "cell_type": "code",
   "execution_count": 18,
   "id": "ce753122",
   "metadata": {},
   "outputs": [
    {
     "name": "stdout",
     "output_type": "stream",
     "text": [
      "woof\n",
      "Meow!\n"
     ]
    }
   ],
   "source": [
    "## baxe class\n",
    "class Animal:\n",
    "    def speak(self):\n",
    "        return \"sound of the animal \"\n",
    "    \n",
    "## Drived class 1\n",
    "class Dog(Animal):\n",
    "    def speak(self):\n",
    "        return \"woof\"\n",
    "    \n",
    "## Derived class\n",
    "class Cat(Animal):\n",
    "    def speak(self):\n",
    "        return 'Meow!'\n",
    "    \n",
    "dog=Dog()\n",
    "cat=Cat()\n",
    "print(dog.speak())\n",
    "print(cat.speak())"
   ]
  },
  {
   "cell_type": "code",
   "execution_count": 19,
   "id": "decab9f2",
   "metadata": {},
   "outputs": [
    {
     "name": "stdout",
     "output_type": "stream",
     "text": [
      "The are is 12\n",
      "The are is 314.0\n"
     ]
    }
   ],
   "source": [
    "## Plymorphissm with function and Methods \n",
    "# Base class \n",
    "\n",
    "class Shape:\n",
    "    def area(self):\n",
    "        return \"The area of the figure\" \n",
    "\n",
    "## Derived class \n",
    "class Rectangle(Shape):\n",
    "    def __init__(self,width,height):\n",
    "        self.width=width\n",
    "        self.height=height\n",
    "    \n",
    "    def area(self):\n",
    "        return self.width * self. height\n",
    "\n",
    "## Drived class 2\n",
    "\n",
    "class Circle(Shape):\n",
    "    def __init__(self,radius):\n",
    "        self.radius=radius\n",
    "    \n",
    "    def area(self):\n",
    "        return 3.14*self.radius * self.radius\n",
    "    \n",
    "## Function that demonstrates Polymorphism \n",
    "\n",
    "def print_area(shape):\n",
    "    print(f\"The are is {shape.area()}\")\n",
    "    \n",
    "rectangle=Rectangle(3,4)\n",
    "circle=Circle(10)\n",
    "\n",
    "print_area(rectangle)\n",
    "print_area(circle)"
   ]
  },
  {
   "cell_type": "markdown",
   "id": "95edd65a",
   "metadata": {},
   "source": [
    "### Polymorphism with Abstract Base Classes\n",
    "Abstract Base Classes (ABCs) are used to define common methods for a group of related objects. They can enforce that derived classes implement particular methods, promoting consistency across different implementations."
   ]
  },
  {
   "cell_type": "code",
   "execution_count": null,
   "id": "e44f8a27",
   "metadata": {},
   "outputs": [
    {
     "name": "stdout",
     "output_type": "stream",
     "text": [
      "\n",
      "\n"
     ]
    },
    {
     "data": {
      "text/plain": [
       "'Modercycle engine started'"
      ]
     },
     "execution_count": 24,
     "metadata": {},
     "output_type": "execute_result"
    }
   ],
   "source": [
    "from abc import ABC,abstractmethod\n",
    "\n",
    "## define an abstract class\n",
    "\n",
    "class vehicle(ABC):\n",
    "    @abstractmethod\n",
    "    def start_engine(self):\n",
    "        pass\n",
    "    \n",
    "    \n",
    "## Derived class 1\n",
    "class Car(vehicle):\n",
    "    def start_engine(self):\n",
    "        return 'Car Engine started'\n",
    "    \n",
    "    \n",
    "class motercycle(vehicle):\n",
    "    def start_engine(self):\n",
    "        return 'Modercycle engine started'\n",
    "    \n",
    "    \n",
    "## Create Objects of car and Motercycle \n",
    "\n",
    "car=Car()\n",
    "car.start_engine()\n",
    "\n",
    "# moder1=motercycle()\n",
    "# moder1.start_engine()\n"
   ]
  },
  {
   "cell_type": "markdown",
   "id": "8e99077f",
   "metadata": {},
   "source": [
    "### Conclusion\n",
    "\n",
    "Polymorphism is a powerful feature of OOP that allows for flexibility and integration in code design. It enables a single function to handle objects of different classes, each with its own implementation of a method. By understanding and applying polymorphism, you can create more extensible and maintainable object-oriented programs."
   ]
  },
  {
   "cell_type": "code",
   "execution_count": 25,
   "id": "74d09e0e",
   "metadata": {},
   "outputs": [],
   "source": [
    "###########################################################################"
   ]
  },
  {
   "cell_type": "markdown",
   "id": "f50453bb",
   "metadata": {},
   "source": [
    "## Encapsulation And Abstraction \n",
    "\n",
    "Encapsulation and abstraction are two fundamental pronciples of Object-Oriented Programming (OOP) that help in desigining robust, maintainable, and reusable code. Encapsulation involves bundling data and methods that operate on the data within a single unit, while abstraction involves handling comples implementation details and exposing only the necessary features.\n",
    "\n",
    "\n",
    "## Encapsulation \n",
    "\n",
    "Encapsulation is the concept of wrapping data (variables) and methods (functions) Together as a single unit. It restrics direct access to some of the object's components, which is a means of preventing accendental interfaces and misuse of the data . \n"
   ]
  },
  {
   "cell_type": "code",
   "execution_count": 30,
   "id": "519b2b46",
   "metadata": {},
   "outputs": [
    {
     "name": "stdout",
     "output_type": "stream",
     "text": [
      "34\n"
     ]
    },
    {
     "data": {
      "text/plain": [
       "'madhav'"
      ]
     },
     "execution_count": 30,
     "metadata": {},
     "output_type": "execute_result"
    }
   ],
   "source": [
    "## Encapsulation with Getter and setter Methods \n",
    "\n",
    "## public , protected, private variables\n",
    "\n",
    "class Person:\n",
    "    def __init__(self,name,age):\n",
    "        self.name=name  # Public variable\n",
    "        self.age=age    # Public Variable\n",
    "        \n",
    "def get_name(person):\n",
    "    return person.name\n",
    "\n",
    "person=Person('madhav',34)\n",
    "# print(person.name)\n",
    "print(person.age)\n",
    "get_name(person)"
   ]
  },
  {
   "cell_type": "code",
   "execution_count": 43,
   "id": "1f4fdc5d",
   "metadata": {},
   "outputs": [
    {
     "data": {
      "text/plain": [
       "'Male'"
      ]
     },
     "execution_count": 43,
     "metadata": {},
     "output_type": "execute_result"
    }
   ],
   "source": [
    "\n",
    "class Person:\n",
    "    def __init__(self,name,age,gender):\n",
    "        self.__name=name  # Private variable\n",
    "        self.__age=age    # Private Variable\n",
    "        self.gender=gender\n",
    "def get_name(person):\n",
    "    # return person._Person__name\n",
    "    return person.gender\n",
    "\n",
    "person=Person('madhav',34,\"Male\")\n",
    "# print(person.name)\n",
    "# print(person.)\n",
    "get_name(person)"
   ]
  },
  {
   "cell_type": "code",
   "execution_count": 47,
   "id": "950bc695",
   "metadata": {},
   "outputs": [
    {
     "name": "stdout",
     "output_type": "stream",
     "text": [
      "madhav\n"
     ]
    }
   ],
   "source": [
    "\n",
    "class Person:\n",
    "    def __init__(self,name,age,gender):\n",
    "        self._name=name  # Protected variable\n",
    "        self._age=age    # Protected Variable\n",
    "        self.gender=gender\n",
    "        \n",
    "class Employee(Person):\n",
    "    def __init__(self,name,age,gender):\n",
    "        super().__init__(name,age,gender)\n",
    "        \n",
    "e1=Employee('madhav',34,'male')\n",
    "print(e1._name)"
   ]
  },
  {
   "cell_type": "code",
   "execution_count": 54,
   "id": "1ac4b396",
   "metadata": {},
   "outputs": [
    {
     "name": "stdout",
     "output_type": "stream",
     "text": [
      "Mahdah\n",
      "21\n",
      "Age Cannot be negative \n"
     ]
    }
   ],
   "source": [
    "## Encapsulation with getter and setter \n",
    "\n",
    "class Person:\n",
    "    def __init__(self,name,age):\n",
    "        self.__name=name  ## Private access modifier or variable\n",
    "        self.__age=age     ## Private variable \n",
    "    \n",
    "    ## Getter method for name     \n",
    "    def get_name(self):\n",
    "        return self.__name\n",
    "    \n",
    "    ## Setter method for name\n",
    "    def set_name(self,name):\n",
    "        self.__name=name\n",
    "        \n",
    "    ## Getter method for age \n",
    "    def get_age(self):\n",
    "        return self.__age\n",
    "        \n",
    "    ## Setter mehthod for age \n",
    "    def set_age(self,age):\n",
    "        if age>0:\n",
    "            self.__age=age\n",
    "        else:\n",
    "            print(\"Age Cannot be negative \")\n",
    "            \n",
    "            \n",
    "p1=Person('Mahdah',21)\n",
    "\n",
    "## access and modify private variables using getter and setter \n",
    "\n",
    "print(p1.get_name())\n",
    "print(p1.get_age())\n",
    "\n",
    "p1.set_age(-32)"
   ]
  },
  {
   "cell_type": "markdown",
   "id": "b6f7dca1",
   "metadata": {},
   "source": [
    "## Abstraction \n",
    "\n",
    "Abstraction is the concept of hiding the complex implementation detaails and showing only the necessary features of an object. This helps in reducing programming complesity and effort"
   ]
  },
  {
   "cell_type": "code",
   "execution_count": 58,
   "id": "79b289f3",
   "metadata": {},
   "outputs": [
    {
     "name": "stdout",
     "output_type": "stream",
     "text": [
      "car engine started\n",
      "The vechile is used for driving \n"
     ]
    }
   ],
   "source": [
    "from abc import ABC , abstractmethod\n",
    "\n",
    "## Abstract base calss \n",
    "class Vechile(ABC):\n",
    "    def drive(self):\n",
    "        print(\"The vechile is used for driving \")\n",
    "    \n",
    "    @abstractmethod\n",
    "    def start_engine(self):\n",
    "        pass\n",
    "\n",
    "class Car(Vechile):\n",
    "    def start_engine(self):\n",
    "        print('car engine started')\n",
    "        \n",
    "def operate_vechile(Vechile):\n",
    "    Vechile.start_engine()\n",
    "    Vechile.drive()\n",
    "    \n",
    "\n",
    "c1=Car()\n",
    "operate_vechile(c1)\n",
    "\n",
    "    "
   ]
  },
  {
   "cell_type": "code",
   "execution_count": null,
   "id": "424786aa",
   "metadata": {},
   "outputs": [],
   "source": []
  }
 ],
 "metadata": {
  "kernelspec": {
   "display_name": "venv",
   "language": "python",
   "name": "python3"
  },
  "language_info": {
   "codemirror_mode": {
    "name": "ipython",
    "version": 3
   },
   "file_extension": ".py",
   "mimetype": "text/x-python",
   "name": "python",
   "nbconvert_exporter": "python",
   "pygments_lexer": "ipython3",
   "version": "3.13.7"
  },
  "widgets": {
   "application/vnd.jupyter.widget-state+json": {
    "state": {},
    "version_major": 2,
    "version_minor": 0
   }
  }
 },
 "nbformat": 4,
 "nbformat_minor": 5
}
